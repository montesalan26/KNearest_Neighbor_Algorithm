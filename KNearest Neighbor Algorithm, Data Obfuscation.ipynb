{
 "cells": [
  {
   "cell_type": "markdown",
   "metadata": {},
   "source": [
    "# Statement"
   ]
  },
  {
   "cell_type": "markdown",
   "metadata": {},
   "source": [
    "The Sure Tomorrow insurance company wants to solve several tasks with the help of Machine Learning and you are asked to evaluate that possibility.\n",
    "\n",
    "- Task 1: Find customers who are similar to a given customer. This will help the company's agents with marketing.\n",
    "- Task 2: Predict whether a new customer is likely to receive an insurance benefit. Can a prediction model do better than a dummy model?\n",
    "- Task 3: Predict the number of insurance benefits a new customer is likely to receive using a linear regression model.\n",
    "- Task 4: Protect clients' personal data without breaking the model from the previous task. It's necessary to develop a data transformation algorithm that would make it hard to recover personal information if the data fell into the wrong hands. This is called data masking, or data obfuscation. But the data should be protected in such a way that the quality of machine learning models doesn't suffer. You don't need to pick the best model, just prove that the algorithm works correctly."
   ]
  },
  {
   "cell_type": "markdown",
   "metadata": {},
   "source": [
    "# Data Preprocessing & Exploration\n",
    "\n",
    "## Initialization"
   ]
  },
  {
   "cell_type": "code",
   "execution_count": 1,
   "metadata": {},
   "outputs": [],
   "source": [
    "import numpy as np\n",
    "import pandas as pd\n",
    "from matplotlib import pyplot as plt\n",
    "import seaborn as sns\n",
    "from scipy.spatial import distance\n",
    "import sklearn.linear_model\n",
    "import sklearn.metrics\n",
    "import sklearn.neighbors\n",
    "import sklearn.preprocessing\n",
    "from sklearn.neighbors import NearestNeighbors\n",
    "from sklearn.model_selection import train_test_split\n",
    "import math\n",
    "from IPython.display import display\n",
    "from sklearn.metrics import mean_squared_error\n",
    "from sklearn.preprocessing import StandardScaler\n",
    "from sklearn.neighbors import KNeighborsClassifier\n",
    "from sklearn.linear_model import LinearRegression\n",
    "from sklearn.metrics import f1_score"
   ]
  },
  {
   "cell_type": "markdown",
   "metadata": {},
   "source": [
    "## Load Data"
   ]
  },
  {
   "cell_type": "markdown",
   "metadata": {},
   "source": [
    "Load data and conduct a basic check that it's free from obvious issues."
   ]
  },
  {
   "cell_type": "code",
   "execution_count": 2,
   "metadata": {},
   "outputs": [],
   "source": [
    "df = pd.read_csv('/datasets/insurance_us.csv')"
   ]
  },
  {
   "cell_type": "markdown",
   "metadata": {},
   "source": [
    "We rename the colums to make the code look more consistent with its style."
   ]
  },
  {
   "cell_type": "code",
   "execution_count": 3,
   "metadata": {},
   "outputs": [],
   "source": [
    "df = df.rename(columns={'Gender': 'gender', 'Age': 'age', 'Salary': 'income', 'Family members': 'family_members', 'Insurance benefits': 'insurance_benefits'})"
   ]
  },
  {
   "cell_type": "code",
   "execution_count": 4,
   "metadata": {},
   "outputs": [
    {
     "data": {
      "text/html": [
       "<div>\n",
       "<style scoped>\n",
       "    .dataframe tbody tr th:only-of-type {\n",
       "        vertical-align: middle;\n",
       "    }\n",
       "\n",
       "    .dataframe tbody tr th {\n",
       "        vertical-align: top;\n",
       "    }\n",
       "\n",
       "    .dataframe thead th {\n",
       "        text-align: right;\n",
       "    }\n",
       "</style>\n",
       "<table border=\"1\" class=\"dataframe\">\n",
       "  <thead>\n",
       "    <tr style=\"text-align: right;\">\n",
       "      <th></th>\n",
       "      <th>gender</th>\n",
       "      <th>age</th>\n",
       "      <th>income</th>\n",
       "      <th>family_members</th>\n",
       "      <th>insurance_benefits</th>\n",
       "    </tr>\n",
       "  </thead>\n",
       "  <tbody>\n",
       "    <tr>\n",
       "      <th>535</th>\n",
       "      <td>0</td>\n",
       "      <td>29.0</td>\n",
       "      <td>54000.0</td>\n",
       "      <td>2</td>\n",
       "      <td>0</td>\n",
       "    </tr>\n",
       "    <tr>\n",
       "      <th>1199</th>\n",
       "      <td>0</td>\n",
       "      <td>33.0</td>\n",
       "      <td>40300.0</td>\n",
       "      <td>2</td>\n",
       "      <td>0</td>\n",
       "    </tr>\n",
       "    <tr>\n",
       "      <th>3872</th>\n",
       "      <td>0</td>\n",
       "      <td>39.0</td>\n",
       "      <td>40700.0</td>\n",
       "      <td>0</td>\n",
       "      <td>0</td>\n",
       "    </tr>\n",
       "    <tr>\n",
       "      <th>188</th>\n",
       "      <td>0</td>\n",
       "      <td>29.0</td>\n",
       "      <td>37400.0</td>\n",
       "      <td>3</td>\n",
       "      <td>0</td>\n",
       "    </tr>\n",
       "    <tr>\n",
       "      <th>2867</th>\n",
       "      <td>1</td>\n",
       "      <td>32.0</td>\n",
       "      <td>48900.0</td>\n",
       "      <td>0</td>\n",
       "      <td>0</td>\n",
       "    </tr>\n",
       "    <tr>\n",
       "      <th>3619</th>\n",
       "      <td>1</td>\n",
       "      <td>20.0</td>\n",
       "      <td>57700.0</td>\n",
       "      <td>0</td>\n",
       "      <td>0</td>\n",
       "    </tr>\n",
       "    <tr>\n",
       "      <th>3758</th>\n",
       "      <td>0</td>\n",
       "      <td>23.0</td>\n",
       "      <td>24100.0</td>\n",
       "      <td>0</td>\n",
       "      <td>0</td>\n",
       "    </tr>\n",
       "    <tr>\n",
       "      <th>2786</th>\n",
       "      <td>0</td>\n",
       "      <td>26.0</td>\n",
       "      <td>40500.0</td>\n",
       "      <td>1</td>\n",
       "      <td>0</td>\n",
       "    </tr>\n",
       "    <tr>\n",
       "      <th>3214</th>\n",
       "      <td>0</td>\n",
       "      <td>27.0</td>\n",
       "      <td>42900.0</td>\n",
       "      <td>3</td>\n",
       "      <td>0</td>\n",
       "    </tr>\n",
       "    <tr>\n",
       "      <th>2560</th>\n",
       "      <td>1</td>\n",
       "      <td>33.0</td>\n",
       "      <td>42000.0</td>\n",
       "      <td>3</td>\n",
       "      <td>0</td>\n",
       "    </tr>\n",
       "  </tbody>\n",
       "</table>\n",
       "</div>"
      ],
      "text/plain": [
       "      gender   age   income  family_members  insurance_benefits\n",
       "535        0  29.0  54000.0               2                   0\n",
       "1199       0  33.0  40300.0               2                   0\n",
       "3872       0  39.0  40700.0               0                   0\n",
       "188        0  29.0  37400.0               3                   0\n",
       "2867       1  32.0  48900.0               0                   0\n",
       "3619       1  20.0  57700.0               0                   0\n",
       "3758       0  23.0  24100.0               0                   0\n",
       "2786       0  26.0  40500.0               1                   0\n",
       "3214       0  27.0  42900.0               3                   0\n",
       "2560       1  33.0  42000.0               3                   0"
      ]
     },
     "execution_count": 4,
     "metadata": {},
     "output_type": "execute_result"
    }
   ],
   "source": [
    "df.sample(10)"
   ]
  },
  {
   "cell_type": "code",
   "execution_count": 5,
   "metadata": {},
   "outputs": [
    {
     "name": "stdout",
     "output_type": "stream",
     "text": [
      "<class 'pandas.core.frame.DataFrame'>\n",
      "RangeIndex: 5000 entries, 0 to 4999\n",
      "Data columns (total 5 columns):\n",
      " #   Column              Non-Null Count  Dtype  \n",
      "---  ------              --------------  -----  \n",
      " 0   gender              5000 non-null   int64  \n",
      " 1   age                 5000 non-null   float64\n",
      " 2   income              5000 non-null   float64\n",
      " 3   family_members      5000 non-null   int64  \n",
      " 4   insurance_benefits  5000 non-null   int64  \n",
      "dtypes: float64(2), int64(3)\n",
      "memory usage: 195.4 KB\n"
     ]
    }
   ],
   "source": [
    "df.info()"
   ]
  },
  {
   "cell_type": "code",
   "execution_count": 6,
   "metadata": {},
   "outputs": [],
   "source": [
    "# we may want to fix the age type (from float to int) though this is not critical\n",
    "# write your conversion here if you choose:\n",
    "\n",
    "df['age'] = df['age'].astype('int')"
   ]
  },
  {
   "cell_type": "code",
   "execution_count": 7,
   "metadata": {},
   "outputs": [
    {
     "name": "stdout",
     "output_type": "stream",
     "text": [
      "<class 'pandas.core.frame.DataFrame'>\n",
      "RangeIndex: 5000 entries, 0 to 4999\n",
      "Data columns (total 5 columns):\n",
      " #   Column              Non-Null Count  Dtype  \n",
      "---  ------              --------------  -----  \n",
      " 0   gender              5000 non-null   int64  \n",
      " 1   age                 5000 non-null   int64  \n",
      " 2   income              5000 non-null   float64\n",
      " 3   family_members      5000 non-null   int64  \n",
      " 4   insurance_benefits  5000 non-null   int64  \n",
      "dtypes: float64(1), int64(4)\n",
      "memory usage: 195.4 KB\n"
     ]
    }
   ],
   "source": [
    "# check to see that the conversion was successful\n",
    "df.info()"
   ]
  },
  {
   "cell_type": "code",
   "execution_count": 8,
   "metadata": {},
   "outputs": [],
   "source": [
    "# now have a look at the data's descriptive statistics. \n",
    "# Does everything look okay?"
   ]
  },
  {
   "cell_type": "code",
   "execution_count": 9,
   "metadata": {
    "scrolled": false
   },
   "outputs": [
    {
     "data": {
      "text/html": [
       "<div>\n",
       "<style scoped>\n",
       "    .dataframe tbody tr th:only-of-type {\n",
       "        vertical-align: middle;\n",
       "    }\n",
       "\n",
       "    .dataframe tbody tr th {\n",
       "        vertical-align: top;\n",
       "    }\n",
       "\n",
       "    .dataframe thead th {\n",
       "        text-align: right;\n",
       "    }\n",
       "</style>\n",
       "<table border=\"1\" class=\"dataframe\">\n",
       "  <thead>\n",
       "    <tr style=\"text-align: right;\">\n",
       "      <th></th>\n",
       "      <th>gender</th>\n",
       "      <th>age</th>\n",
       "      <th>income</th>\n",
       "      <th>family_members</th>\n",
       "      <th>insurance_benefits</th>\n",
       "    </tr>\n",
       "  </thead>\n",
       "  <tbody>\n",
       "    <tr>\n",
       "      <th>count</th>\n",
       "      <td>5000.000000</td>\n",
       "      <td>5000.000000</td>\n",
       "      <td>5000.000000</td>\n",
       "      <td>5000.000000</td>\n",
       "      <td>5000.000000</td>\n",
       "    </tr>\n",
       "    <tr>\n",
       "      <th>mean</th>\n",
       "      <td>0.499000</td>\n",
       "      <td>30.952800</td>\n",
       "      <td>39916.360000</td>\n",
       "      <td>1.194200</td>\n",
       "      <td>0.148000</td>\n",
       "    </tr>\n",
       "    <tr>\n",
       "      <th>std</th>\n",
       "      <td>0.500049</td>\n",
       "      <td>8.440807</td>\n",
       "      <td>9900.083569</td>\n",
       "      <td>1.091387</td>\n",
       "      <td>0.463183</td>\n",
       "    </tr>\n",
       "    <tr>\n",
       "      <th>min</th>\n",
       "      <td>0.000000</td>\n",
       "      <td>18.000000</td>\n",
       "      <td>5300.000000</td>\n",
       "      <td>0.000000</td>\n",
       "      <td>0.000000</td>\n",
       "    </tr>\n",
       "    <tr>\n",
       "      <th>25%</th>\n",
       "      <td>0.000000</td>\n",
       "      <td>24.000000</td>\n",
       "      <td>33300.000000</td>\n",
       "      <td>0.000000</td>\n",
       "      <td>0.000000</td>\n",
       "    </tr>\n",
       "    <tr>\n",
       "      <th>50%</th>\n",
       "      <td>0.000000</td>\n",
       "      <td>30.000000</td>\n",
       "      <td>40200.000000</td>\n",
       "      <td>1.000000</td>\n",
       "      <td>0.000000</td>\n",
       "    </tr>\n",
       "    <tr>\n",
       "      <th>75%</th>\n",
       "      <td>1.000000</td>\n",
       "      <td>37.000000</td>\n",
       "      <td>46600.000000</td>\n",
       "      <td>2.000000</td>\n",
       "      <td>0.000000</td>\n",
       "    </tr>\n",
       "    <tr>\n",
       "      <th>max</th>\n",
       "      <td>1.000000</td>\n",
       "      <td>65.000000</td>\n",
       "      <td>79000.000000</td>\n",
       "      <td>6.000000</td>\n",
       "      <td>5.000000</td>\n",
       "    </tr>\n",
       "  </tbody>\n",
       "</table>\n",
       "</div>"
      ],
      "text/plain": [
       "            gender          age        income  family_members  \\\n",
       "count  5000.000000  5000.000000   5000.000000     5000.000000   \n",
       "mean      0.499000    30.952800  39916.360000        1.194200   \n",
       "std       0.500049     8.440807   9900.083569        1.091387   \n",
       "min       0.000000    18.000000   5300.000000        0.000000   \n",
       "25%       0.000000    24.000000  33300.000000        0.000000   \n",
       "50%       0.000000    30.000000  40200.000000        1.000000   \n",
       "75%       1.000000    37.000000  46600.000000        2.000000   \n",
       "max       1.000000    65.000000  79000.000000        6.000000   \n",
       "\n",
       "       insurance_benefits  \n",
       "count         5000.000000  \n",
       "mean             0.148000  \n",
       "std              0.463183  \n",
       "min              0.000000  \n",
       "25%              0.000000  \n",
       "50%              0.000000  \n",
       "75%              0.000000  \n",
       "max              5.000000  "
      ]
     },
     "metadata": {},
     "output_type": "display_data"
    },
    {
     "name": "stdout",
     "output_type": "stream",
     "text": [
      "\n",
      "Value Counts Insurance Benefits:\n"
     ]
    },
    {
     "data": {
      "text/plain": [
       "0    4436\n",
       "1     423\n",
       "2     115\n",
       "3      18\n",
       "4       7\n",
       "5       1\n",
       "Name: insurance_benefits, dtype: int64"
      ]
     },
     "execution_count": 9,
     "metadata": {},
     "output_type": "execute_result"
    }
   ],
   "source": [
    "display(df.describe())\n",
    "print()\n",
    "print('Value Counts Insurance Benefits:')\n",
    "df['insurance_benefits'].value_counts()\n"
   ]
  },
  {
   "cell_type": "code",
   "execution_count": 10,
   "metadata": {
    "scrolled": false
   },
   "outputs": [
    {
     "data": {
      "image/png": "[encoded data removed]",
      "text/plain": [
       "<Figure size 640x480 with 1 Axes>"
      ]
     },
     "metadata": {},
     "output_type": "display_data"
    }
   ],
   "source": [
    "df['income'].plot(\n",
    "kind='box',\n",
    "title='Income Boxpot')\n",
    "plt.show()"
   ]
  },
  {
   "cell_type": "code",
   "execution_count": 11,
   "metadata": {
    "scrolled": false
   },
   "outputs": [
    {
     "data": {
      "image/png": "[encoded data removed]",
      "text/plain": [
       "<Figure size 640x480 with 1 Axes>"
      ]
     },
     "metadata": {},
     "output_type": "display_data"
    }
   ],
   "source": [
    "df['insurance_benefits'].plot(\n",
    "kind='box',\n",
    "title='Member with Insurance Benefits')\n",
    "plt.show()"
   ]
  },
  {
   "cell_type": "code",
   "execution_count": 12,
   "metadata": {
    "scrolled": false
   },
   "outputs": [
    {
     "data": {
      "image/png": "[encoded data removed]",
      "text/plain": [
       "<Figure size 640x480 with 1 Axes>"
      ]
     },
     "metadata": {},
     "output_type": "display_data"
    }
   ],
   "source": [
    "df['age'].plot(\n",
    "kind='box',\n",
    "title='Age of Members with Insurance Benefits')\n",
    "plt.show()"
   ]
  },
  {
   "cell_type": "code",
   "execution_count": 13,
   "metadata": {
    "scrolled": false
   },
   "outputs": [
    {
     "data": {
      "image/png": "[encoded data removed]",
      "text/plain": [
       "<Figure size 640x480 with 1 Axes>"
      ]
     },
     "metadata": {},
     "output_type": "display_data"
    }
   ],
   "source": [
    "df['family_members'].plot(\n",
    "kind='box',\n",
    "title='Family Members of Beneficiaries')\n",
    "plt.show()"
   ]
  },
  {
   "cell_type": "code",
   "execution_count": 14,
   "metadata": {
    "scrolled": false
   },
   "outputs": [
    {
     "data": {
      "image/png": "[encoded data removed]",
      "text/plain": [
       "<Figure size 640x480 with 1 Axes>"
      ]
     },
     "metadata": {},
     "output_type": "display_data"
    }
   ],
   "source": [
    "df['gender'][df['gender'] == 1].plot(\n",
    "kind='hist',\n",
    "label=\"male\",\n",
    "legend=\"true\")\n",
    "df['gender'][df['gender'] == 0].plot(\n",
    "kind='hist',\n",
    "label=\"female\",\n",
    "legend=\"true\",\n",
    "title='Gender of Beneficiaries')\n",
    "plt.ylabel('Number of Users')\n",
    "plt.xlabel(\"Gender\")\n",
    "plt.show()"
   ]
  },
  {
   "cell_type": "markdown",
   "metadata": {},
   "source": [
    "### Missing Values"
   ]
  },
  {
   "cell_type": "code",
   "execution_count": 15,
   "metadata": {
    "scrolled": true
   },
   "outputs": [
    {
     "data": {
      "text/plain": [
       "gender                0\n",
       "age                   0\n",
       "income                0\n",
       "family_members        0\n",
       "insurance_benefits    0\n",
       "dtype: int64"
      ]
     },
     "execution_count": 15,
     "metadata": {},
     "output_type": "execute_result"
    }
   ],
   "source": [
    "df.isna().sum()"
   ]
  },
  {
   "cell_type": "markdown",
   "metadata": {},
   "source": [
    "By looking at the dataframes descriptive statistics, and creating each column into a plot, you can see that the columns: Insurance Benefits, Age, and Income, all have outstanding outliers, also known as extreme values. The outstanding extreme values would be in the Insurance Benefits column with the majority of the of the users not having recieved benefits, with a total of 4436."
   ]
  },
  {
   "cell_type": "markdown",
   "metadata": {},
   "source": [
    "## EDA"
   ]
  },
  {
   "cell_type": "markdown",
   "metadata": {},
   "source": [
    "Let's quickly check whether there are certain groups of customers by looking at the pair plot."
   ]
  },
  {
   "cell_type": "code",
   "execution_count": 16,
   "metadata": {},
   "outputs": [
    {
     "data": {
      "image/png": "[encoded data removed]",
      "text/plain": [
       "<Figure size 1200x1200 with 30 Axes>"
      ]
     },
     "metadata": {},
     "output_type": "display_data"
    }
   ],
   "source": [
    "g = sns.pairplot(df, kind='hist')\n",
    "g.fig.set_size_inches(12, 12)"
   ]
  },
  {
   "cell_type": "markdown",
   "metadata": {},
   "source": [
    "Ok, it is a bit difficult to spot obvious groups (clusters) as it is difficult to combine several variables simultaneously (to analyze multivariate distributions). That's where LA and ML can be quite handy."
   ]
  },
  {
   "cell_type": "markdown",
   "metadata": {},
   "source": [
    "# Task 1. Similar Customers"
   ]
  },
  {
   "cell_type": "markdown",
   "metadata": {},
   "source": [
    "In the language of ML, it is necessary to develop a procedure that returns k nearest neighbors (objects) for a given object based on the distance between the objects.\n",
    "\n",
    "You may want to review the following lessons (chapter -> lesson)\n",
    "- Distance Between Vectors -> Euclidean Distance\n",
    "- Distance Between Vectors -> Manhattan Distance\n",
    "\n",
    "To solve the task, we can try different distance metrics."
   ]
  },
  {
   "cell_type": "markdown",
   "metadata": {},
   "source": [
    "Write a function that returns k nearest neighbors for an $n^{th}$ object based on a specified distance metric. The number of received insurance benefits should not be taken into account for this task. \n",
    "\n",
    "You can use a ready implementation of the kNN algorithm from scikit-learn (check [the link](https://scikit-learn.org/stable/modules/generated/sklearn.neighbors.NearestNeighbors.html#sklearn.neighbors.NearestNeighbors)) or use your own.\n",
    "\n",
    "Test it for four combination of two cases\n",
    "- Scaling\n",
    "  - the data is not scaled\n",
    "  - the data is scaled with the [MaxAbsScaler](https://scikit-learn.org/stable/modules/generated/sklearn.preprocessing.MaxAbsScaler.html) scaler\n",
    "- Distance Metrics\n",
    "  - Euclidean\n",
    "  - Manhattan\n",
    "\n",
    "Answer these questions:\n",
    "- Does the data being not scaled affect the kNN algorithm? If so, how does that appear?\n",
    "- How similar are the results using the Manhattan distance metric (regardless of the scaling)?"
   ]
  },
  {
   "cell_type": "code",
   "execution_count": 17,
   "metadata": {},
   "outputs": [],
   "source": [
    "feature_names = ['gender', 'age', 'income', 'family_members']"
   ]
  },
  {
   "cell_type": "code",
   "execution_count": 18,
   "metadata": {},
   "outputs": [],
   "source": [
    "def get_knn(df, n, k, metric):\n",
    "    \n",
    "    \"\"\"\n",
    "    Returns k nearest neighbors\n",
    "    :param df: pandas DataFrame used to find similar objects within\n",
    "    :param n: object no for which the nearest neighbours are looked for\n",
    "    :param k: the number of the nearest neighbours to return\n",
    "    :param metric: name of distance metric\n",
    "    \"\"\"\n",
    "\n",
    "    nbrs = NearestNeighbors(n_neighbors=k, metric=metric).fit(df[feature_names])\n",
    "    nbrs_distances, nbrs_indices = nbrs.kneighbors([df.iloc[n][feature_names]], k, return_distance=True)\n",
    "    \n",
    "    df_res = pd.concat([\n",
    "        df.iloc[nbrs_indices[0]], \n",
    "        pd.DataFrame(nbrs_distances.T, index=nbrs_indices[0], columns=['distance'])\n",
    "        ], axis=1)\n",
    "    \n",
    "    return df_res"
   ]
  },
  {
   "cell_type": "markdown",
   "metadata": {},
   "source": [
    "Scaling the data."
   ]
  },
  {
   "cell_type": "code",
   "execution_count": 19,
   "metadata": {},
   "outputs": [],
   "source": [
    "feature_names = ['gender', 'age', 'income', 'family_members']\n",
    "\n",
    "transformer_mas = sklearn.preprocessing.MaxAbsScaler().fit(df[feature_names].to_numpy())\n",
    "\n",
    "df_scaled = df.copy()\n",
    "df_scaled.loc[:, feature_names] = transformer_mas.transform(df[feature_names].to_numpy())"
   ]
  },
  {
   "cell_type": "code",
   "execution_count": 20,
   "metadata": {},
   "outputs": [
    {
     "data": {
      "text/html": [
       "<div>\n",
       "<style scoped>\n",
       "    .dataframe tbody tr th:only-of-type {\n",
       "        vertical-align: middle;\n",
       "    }\n",
       "\n",
       "    .dataframe tbody tr th {\n",
       "        vertical-align: top;\n",
       "    }\n",
       "\n",
       "    .dataframe thead th {\n",
       "        text-align: right;\n",
       "    }\n",
       "</style>\n",
       "<table border=\"1\" class=\"dataframe\">\n",
       "  <thead>\n",
       "    <tr style=\"text-align: right;\">\n",
       "      <th></th>\n",
       "      <th>gender</th>\n",
       "      <th>age</th>\n",
       "      <th>income</th>\n",
       "      <th>family_members</th>\n",
       "      <th>insurance_benefits</th>\n",
       "    </tr>\n",
       "  </thead>\n",
       "  <tbody>\n",
       "    <tr>\n",
       "      <th>3573</th>\n",
       "      <td>1.0</td>\n",
       "      <td>0.461538</td>\n",
       "      <td>0.453165</td>\n",
       "      <td>0.166667</td>\n",
       "      <td>0</td>\n",
       "    </tr>\n",
       "    <tr>\n",
       "      <th>1511</th>\n",
       "      <td>0.0</td>\n",
       "      <td>0.600000</td>\n",
       "      <td>0.563291</td>\n",
       "      <td>0.500000</td>\n",
       "      <td>0</td>\n",
       "    </tr>\n",
       "    <tr>\n",
       "      <th>3678</th>\n",
       "      <td>0.0</td>\n",
       "      <td>0.323077</td>\n",
       "      <td>0.560759</td>\n",
       "      <td>0.333333</td>\n",
       "      <td>0</td>\n",
       "    </tr>\n",
       "    <tr>\n",
       "      <th>2287</th>\n",
       "      <td>1.0</td>\n",
       "      <td>0.615385</td>\n",
       "      <td>0.407595</td>\n",
       "      <td>0.500000</td>\n",
       "      <td>0</td>\n",
       "    </tr>\n",
       "    <tr>\n",
       "      <th>3067</th>\n",
       "      <td>0.0</td>\n",
       "      <td>0.307692</td>\n",
       "      <td>0.525316</td>\n",
       "      <td>0.000000</td>\n",
       "      <td>0</td>\n",
       "    </tr>\n",
       "  </tbody>\n",
       "</table>\n",
       "</div>"
      ],
      "text/plain": [
       "      gender       age    income  family_members  insurance_benefits\n",
       "3573     1.0  0.461538  0.453165        0.166667                   0\n",
       "1511     0.0  0.600000  0.563291        0.500000                   0\n",
       "3678     0.0  0.323077  0.560759        0.333333                   0\n",
       "2287     1.0  0.615385  0.407595        0.500000                   0\n",
       "3067     0.0  0.307692  0.525316        0.000000                   0"
      ]
     },
     "execution_count": 20,
     "metadata": {},
     "output_type": "execute_result"
    }
   ],
   "source": [
    "df_scaled.sample(5)"
   ]
  },
  {
   "cell_type": "markdown",
   "metadata": {},
   "source": [
    "### Euclidean Distance"
   ]
  },
  {
   "cell_type": "markdown",
   "metadata": {},
   "source": [
    "#### Not Scaled"
   ]
  },
  {
   "cell_type": "code",
   "execution_count": 21,
   "metadata": {},
   "outputs": [
    {
     "data": {
      "text/html": [
       "<div>\n",
       "<style scoped>\n",
       "    .dataframe tbody tr th:only-of-type {\n",
       "        vertical-align: middle;\n",
       "    }\n",
       "\n",
       "    .dataframe tbody tr th {\n",
       "        vertical-align: top;\n",
       "    }\n",
       "\n",
       "    .dataframe thead th {\n",
       "        text-align: right;\n",
       "    }\n",
       "</style>\n",
       "<table border=\"1\" class=\"dataframe\">\n",
       "  <thead>\n",
       "    <tr style=\"text-align: right;\">\n",
       "      <th></th>\n",
       "      <th>gender</th>\n",
       "      <th>age</th>\n",
       "      <th>income</th>\n",
       "      <th>family_members</th>\n",
       "      <th>insurance_benefits</th>\n",
       "      <th>distance</th>\n",
       "    </tr>\n",
       "  </thead>\n",
       "  <tbody>\n",
       "    <tr>\n",
       "      <th>10</th>\n",
       "      <td>1</td>\n",
       "      <td>25</td>\n",
       "      <td>36600.0</td>\n",
       "      <td>1</td>\n",
       "      <td>0</td>\n",
       "      <td>0.000000</td>\n",
       "    </tr>\n",
       "    <tr>\n",
       "      <th>4039</th>\n",
       "      <td>1</td>\n",
       "      <td>25</td>\n",
       "      <td>36600.0</td>\n",
       "      <td>2</td>\n",
       "      <td>0</td>\n",
       "      <td>1.000000</td>\n",
       "    </tr>\n",
       "    <tr>\n",
       "      <th>2037</th>\n",
       "      <td>1</td>\n",
       "      <td>26</td>\n",
       "      <td>36600.0</td>\n",
       "      <td>0</td>\n",
       "      <td>0</td>\n",
       "      <td>1.414214</td>\n",
       "    </tr>\n",
       "    <tr>\n",
       "      <th>3247</th>\n",
       "      <td>1</td>\n",
       "      <td>26</td>\n",
       "      <td>36600.0</td>\n",
       "      <td>2</td>\n",
       "      <td>0</td>\n",
       "      <td>1.414214</td>\n",
       "    </tr>\n",
       "    <tr>\n",
       "      <th>1508</th>\n",
       "      <td>0</td>\n",
       "      <td>26</td>\n",
       "      <td>36600.0</td>\n",
       "      <td>0</td>\n",
       "      <td>0</td>\n",
       "      <td>1.732051</td>\n",
       "    </tr>\n",
       "  </tbody>\n",
       "</table>\n",
       "</div>"
      ],
      "text/plain": [
       "      gender  age   income  family_members  insurance_benefits  distance\n",
       "10         1   25  36600.0               1                   0  0.000000\n",
       "4039       1   25  36600.0               2                   0  1.000000\n",
       "2037       1   26  36600.0               0                   0  1.414214\n",
       "3247       1   26  36600.0               2                   0  1.414214\n",
       "1508       0   26  36600.0               0                   0  1.732051"
      ]
     },
     "execution_count": 21,
     "metadata": {},
     "output_type": "execute_result"
    }
   ],
   "source": [
    "n = 10  # Index of the object for which you want neighbors\n",
    "k = 5  # Number of nearest neighbors to retrieve\n",
    "metric = 'euclidean'  # Choose a distance metric (e.g., 'euclidean', 'manhattan')\n",
    "\n",
    "knn_euclidean = get_knn(df, n, k, metric)\n",
    "\n",
    "knn_euclidean"
   ]
  },
  {
   "cell_type": "markdown",
   "metadata": {},
   "source": [
    "#### Scaled"
   ]
  },
  {
   "cell_type": "code",
   "execution_count": 22,
   "metadata": {},
   "outputs": [
    {
     "data": {
      "text/html": [
       "<div>\n",
       "<style scoped>\n",
       "    .dataframe tbody tr th:only-of-type {\n",
       "        vertical-align: middle;\n",
       "    }\n",
       "\n",
       "    .dataframe tbody tr th {\n",
       "        vertical-align: top;\n",
       "    }\n",
       "\n",
       "    .dataframe thead th {\n",
       "        text-align: right;\n",
       "    }\n",
       "</style>\n",
       "<table border=\"1\" class=\"dataframe\">\n",
       "  <thead>\n",
       "    <tr style=\"text-align: right;\">\n",
       "      <th></th>\n",
       "      <th>gender</th>\n",
       "      <th>age</th>\n",
       "      <th>income</th>\n",
       "      <th>family_members</th>\n",
       "      <th>insurance_benefits</th>\n",
       "      <th>distance</th>\n",
       "    </tr>\n",
       "  </thead>\n",
       "  <tbody>\n",
       "    <tr>\n",
       "      <th>10</th>\n",
       "      <td>1.0</td>\n",
       "      <td>0.384615</td>\n",
       "      <td>0.463291</td>\n",
       "      <td>0.166667</td>\n",
       "      <td>0</td>\n",
       "      <td>0.000000</td>\n",
       "    </tr>\n",
       "    <tr>\n",
       "      <th>4377</th>\n",
       "      <td>1.0</td>\n",
       "      <td>0.384615</td>\n",
       "      <td>0.473418</td>\n",
       "      <td>0.166667</td>\n",
       "      <td>0</td>\n",
       "      <td>0.010127</td>\n",
       "    </tr>\n",
       "    <tr>\n",
       "      <th>1389</th>\n",
       "      <td>1.0</td>\n",
       "      <td>0.369231</td>\n",
       "      <td>0.464557</td>\n",
       "      <td>0.166667</td>\n",
       "      <td>0</td>\n",
       "      <td>0.015437</td>\n",
       "    </tr>\n",
       "    <tr>\n",
       "      <th>760</th>\n",
       "      <td>1.0</td>\n",
       "      <td>0.369231</td>\n",
       "      <td>0.462025</td>\n",
       "      <td>0.166667</td>\n",
       "      <td>0</td>\n",
       "      <td>0.015437</td>\n",
       "    </tr>\n",
       "    <tr>\n",
       "      <th>2254</th>\n",
       "      <td>1.0</td>\n",
       "      <td>0.400000</td>\n",
       "      <td>0.455696</td>\n",
       "      <td>0.166667</td>\n",
       "      <td>0</td>\n",
       "      <td>0.017157</td>\n",
       "    </tr>\n",
       "  </tbody>\n",
       "</table>\n",
       "</div>"
      ],
      "text/plain": [
       "      gender       age    income  family_members  insurance_benefits  distance\n",
       "10       1.0  0.384615  0.463291        0.166667                   0  0.000000\n",
       "4377     1.0  0.384615  0.473418        0.166667                   0  0.010127\n",
       "1389     1.0  0.369231  0.464557        0.166667                   0  0.015437\n",
       "760      1.0  0.369231  0.462025        0.166667                   0  0.015437\n",
       "2254     1.0  0.400000  0.455696        0.166667                   0  0.017157"
      ]
     },
     "execution_count": 22,
     "metadata": {},
     "output_type": "execute_result"
    }
   ],
   "source": [
    "n = 10 \n",
    "k = 5  \n",
    "metric = 'euclidean' \n",
    "\n",
    "knn_scaled_euclidean = get_knn(df_scaled, n, k, metric)\n",
    "\n",
    "knn_scaled_euclidean"
   ]
  },
  {
   "cell_type": "markdown",
   "metadata": {},
   "source": [
    "### Manhattan Distance"
   ]
  },
  {
   "cell_type": "markdown",
   "metadata": {},
   "source": [
    "#### Not Scaled"
   ]
  },
  {
   "cell_type": "code",
   "execution_count": 23,
   "metadata": {},
   "outputs": [
    {
     "data": {
      "text/html": [
       "<div>\n",
       "<style scoped>\n",
       "    .dataframe tbody tr th:only-of-type {\n",
       "        vertical-align: middle;\n",
       "    }\n",
       "\n",
       "    .dataframe tbody tr th {\n",
       "        vertical-align: top;\n",
       "    }\n",
       "\n",
       "    .dataframe thead th {\n",
       "        text-align: right;\n",
       "    }\n",
       "</style>\n",
       "<table border=\"1\" class=\"dataframe\">\n",
       "  <thead>\n",
       "    <tr style=\"text-align: right;\">\n",
       "      <th></th>\n",
       "      <th>gender</th>\n",
       "      <th>age</th>\n",
       "      <th>income</th>\n",
       "      <th>family_members</th>\n",
       "      <th>insurance_benefits</th>\n",
       "      <th>distance</th>\n",
       "    </tr>\n",
       "  </thead>\n",
       "  <tbody>\n",
       "    <tr>\n",
       "      <th>10</th>\n",
       "      <td>1</td>\n",
       "      <td>25</td>\n",
       "      <td>36600.0</td>\n",
       "      <td>1</td>\n",
       "      <td>0</td>\n",
       "      <td>0.0</td>\n",
       "    </tr>\n",
       "    <tr>\n",
       "      <th>4039</th>\n",
       "      <td>1</td>\n",
       "      <td>25</td>\n",
       "      <td>36600.0</td>\n",
       "      <td>2</td>\n",
       "      <td>0</td>\n",
       "      <td>1.0</td>\n",
       "    </tr>\n",
       "    <tr>\n",
       "      <th>2037</th>\n",
       "      <td>1</td>\n",
       "      <td>26</td>\n",
       "      <td>36600.0</td>\n",
       "      <td>0</td>\n",
       "      <td>0</td>\n",
       "      <td>2.0</td>\n",
       "    </tr>\n",
       "    <tr>\n",
       "      <th>3247</th>\n",
       "      <td>1</td>\n",
       "      <td>26</td>\n",
       "      <td>36600.0</td>\n",
       "      <td>2</td>\n",
       "      <td>0</td>\n",
       "      <td>2.0</td>\n",
       "    </tr>\n",
       "    <tr>\n",
       "      <th>1508</th>\n",
       "      <td>0</td>\n",
       "      <td>26</td>\n",
       "      <td>36600.0</td>\n",
       "      <td>0</td>\n",
       "      <td>0</td>\n",
       "      <td>3.0</td>\n",
       "    </tr>\n",
       "  </tbody>\n",
       "</table>\n",
       "</div>"
      ],
      "text/plain": [
       "      gender  age   income  family_members  insurance_benefits  distance\n",
       "10         1   25  36600.0               1                   0       0.0\n",
       "4039       1   25  36600.0               2                   0       1.0\n",
       "2037       1   26  36600.0               0                   0       2.0\n",
       "3247       1   26  36600.0               2                   0       2.0\n",
       "1508       0   26  36600.0               0                   0       3.0"
      ]
     },
     "execution_count": 23,
     "metadata": {},
     "output_type": "execute_result"
    }
   ],
   "source": [
    "n = 10 \n",
    "k = 5  \n",
    "metric = 'manhattan' \n",
    "\n",
    "knn_manhattan = get_knn(df, n, k, metric)\n",
    "\n",
    "knn_manhattan"
   ]
  },
  {
   "cell_type": "markdown",
   "metadata": {},
   "source": [
    "#### Scaled"
   ]
  },
  {
   "cell_type": "code",
   "execution_count": 24,
   "metadata": {},
   "outputs": [
    {
     "data": {
      "text/html": [
       "<div>\n",
       "<style scoped>\n",
       "    .dataframe tbody tr th:only-of-type {\n",
       "        vertical-align: middle;\n",
       "    }\n",
       "\n",
       "    .dataframe tbody tr th {\n",
       "        vertical-align: top;\n",
       "    }\n",
       "\n",
       "    .dataframe thead th {\n",
       "        text-align: right;\n",
       "    }\n",
       "</style>\n",
       "<table border=\"1\" class=\"dataframe\">\n",
       "  <thead>\n",
       "    <tr style=\"text-align: right;\">\n",
       "      <th></th>\n",
       "      <th>gender</th>\n",
       "      <th>age</th>\n",
       "      <th>income</th>\n",
       "      <th>family_members</th>\n",
       "      <th>insurance_benefits</th>\n",
       "      <th>distance</th>\n",
       "    </tr>\n",
       "  </thead>\n",
       "  <tbody>\n",
       "    <tr>\n",
       "      <th>10</th>\n",
       "      <td>1.0</td>\n",
       "      <td>0.384615</td>\n",
       "      <td>0.463291</td>\n",
       "      <td>0.166667</td>\n",
       "      <td>0</td>\n",
       "      <td>0.000000</td>\n",
       "    </tr>\n",
       "    <tr>\n",
       "      <th>4377</th>\n",
       "      <td>1.0</td>\n",
       "      <td>0.384615</td>\n",
       "      <td>0.473418</td>\n",
       "      <td>0.166667</td>\n",
       "      <td>0</td>\n",
       "      <td>0.010127</td>\n",
       "    </tr>\n",
       "    <tr>\n",
       "      <th>1389</th>\n",
       "      <td>1.0</td>\n",
       "      <td>0.369231</td>\n",
       "      <td>0.464557</td>\n",
       "      <td>0.166667</td>\n",
       "      <td>0</td>\n",
       "      <td>0.016650</td>\n",
       "    </tr>\n",
       "    <tr>\n",
       "      <th>760</th>\n",
       "      <td>1.0</td>\n",
       "      <td>0.369231</td>\n",
       "      <td>0.462025</td>\n",
       "      <td>0.166667</td>\n",
       "      <td>0</td>\n",
       "      <td>0.016650</td>\n",
       "    </tr>\n",
       "    <tr>\n",
       "      <th>2254</th>\n",
       "      <td>1.0</td>\n",
       "      <td>0.400000</td>\n",
       "      <td>0.455696</td>\n",
       "      <td>0.166667</td>\n",
       "      <td>0</td>\n",
       "      <td>0.022980</td>\n",
       "    </tr>\n",
       "  </tbody>\n",
       "</table>\n",
       "</div>"
      ],
      "text/plain": [
       "      gender       age    income  family_members  insurance_benefits  distance\n",
       "10       1.0  0.384615  0.463291        0.166667                   0  0.000000\n",
       "4377     1.0  0.384615  0.473418        0.166667                   0  0.010127\n",
       "1389     1.0  0.369231  0.464557        0.166667                   0  0.016650\n",
       "760      1.0  0.369231  0.462025        0.166667                   0  0.016650\n",
       "2254     1.0  0.400000  0.455696        0.166667                   0  0.022980"
      ]
     },
     "execution_count": 24,
     "metadata": {},
     "output_type": "execute_result"
    }
   ],
   "source": [
    "n = 10 \n",
    "k = 5  \n",
    "metric = 'manhattan' \n",
    "\n",
    "knn_scaled_manhattan = get_knn(df_scaled, n, k, metric)\n",
    "\n",
    "knn_scaled_manhattan"
   ]
  },
  {
   "cell_type": "markdown",
   "metadata": {},
   "source": [
    "Now, let's get similar records for a given one for every combination"
   ]
  },
  {
   "cell_type": "markdown",
   "metadata": {},
   "source": [
    "**Does the data being not scaled affect the kNN algorithm? If so, how does that appear?** \n",
    "\n",
    "Yes, it does affect the KNN algorithm. It increases the distances between the K-nearest neighbors"
   ]
  },
  {
   "cell_type": "markdown",
   "metadata": {},
   "source": [
    "**How similar are the results using the Manhattan distance metric (regardless of the scaling)?** \n",
    "\n",
    "The results using the Manhattan distance are more similar to each other compared to the Euclidean metric."
   ]
  },
  {
   "cell_type": "code",
   "execution_count": 25,
   "metadata": {},
   "outputs": [
    {
     "name": "stdout",
     "output_type": "stream",
     "text": [
      "10      0.0\n",
      "4039    1.0\n",
      "2037    2.0\n",
      "3247    2.0\n",
      "1508    3.0\n",
      "Name: distance, dtype: float64\n",
      "\n",
      "*******************************\n",
      "10      0.000000\n",
      "4377    0.010127\n",
      "1389    0.016650\n",
      "760     0.016650\n",
      "2254    0.022980\n",
      "Name: distance, dtype: float64\n"
     ]
    }
   ],
   "source": [
    "print(knn_manhattan['distance'])\n",
    "print()\n",
    "print('*******************************')\n",
    "print(knn_scaled_manhattan['distance'])"
   ]
  },
  {
   "cell_type": "markdown",
   "metadata": {},
   "source": [
    "# Task 2. Is Customer Likely to Receive Insurance Benefit?"
   ]
  },
  {
   "cell_type": "markdown",
   "metadata": {},
   "source": [
    "In terms of machine learning we can look at this like a binary classification task."
   ]
  },
  {
   "cell_type": "markdown",
   "metadata": {},
   "source": [
    "With `insurance_benefits` being more than zero as the target, evaluate whether the kNN classification approach can do better than a dummy model.\n",
    "\n",
    "Instructions:\n",
    "- Build a KNN-based classifier and measure its quality with the F1 metric for k=1..10 for both the original data and the scaled one. That'd be interesting to see how k may influece the evaluation metric, and whether scaling the data makes any difference. You can use a ready implemention of the kNN classification algorithm from scikit-learn (check [the link](https://scikit-learn.org/stable/modules/generated/sklearn.neighbors.KNeighborsClassifier.html)) or use your own.\n",
    "- Build the dummy model which is just random for this case. It should return \"1\" with some probability. Let's test the model with four probability values: 0, the probability of paying any insurance benefit, 0.5, 1.\n",
    "\n",
    "The probability of paying any insurance benefit can be defined as\n",
    "\n",
    "$$\n",
    "P\\{\\text{insurance benefit received}\\}=\\frac{\\text{number of clients received any insurance benefit}}{\\text{total number of clients}}.\n",
    "$$\n",
    "\n",
    "Split the whole data in the 70:30 proportion for the training/testing parts."
   ]
  },
  {
   "cell_type": "code",
   "execution_count": 26,
   "metadata": {},
   "outputs": [],
   "source": [
    "def eval_classifier(y_true, y_pred):\n",
    "    \"\"\"\n",
    "    Function to evaluate the model performance\n",
    "    \"\"\"\n",
    "    f1_score = sklearn.metrics.f1_score(y_true, y_pred)\n",
    "    print(f'F1: {f1_score:.2f}')\n",
    "    \n",
    "    cm = sklearn.metrics.confusion_matrix(y_true, y_pred)\n",
    "    print('Confusion Matrix')\n",
    "    print(cm)"
   ]
  },
  {
   "cell_type": "code",
   "execution_count": 27,
   "metadata": {},
   "outputs": [],
   "source": [
    "# generating output of a random model\n",
    "def rnd_model_predict(P, size, seed=42):\n",
    "\n",
    "    rng = np.random.default_rng(seed=seed)\n",
    "    return rng.binomial(n=1, p=P, size=size)"
   ]
  },
  {
   "cell_type": "code",
   "execution_count": 28,
   "metadata": {},
   "outputs": [],
   "source": [
    "# calculate the target\n",
    "df['insurance_benefits_received'] = (df['insurance_benefits'] > 0).astype('int')\n",
    "df_scaled['insurance_benefits_received'] = (df_scaled['insurance_benefits'] > 0).astype('int')"
   ]
  },
  {
   "cell_type": "markdown",
   "metadata": {},
   "source": [
    "## Original Data"
   ]
  },
  {
   "cell_type": "code",
   "execution_count": 29,
   "metadata": {},
   "outputs": [],
   "source": [
    "features_original = df.drop(['insurance_benefits', 'insurance_benefits_received'], axis=1)\n",
    "target_original = df['insurance_benefits_received']\n",
    "\n",
    "X_train, X_valid, y_train, y_valid = train_test_split(features_original, target_original, test_size = .3)\n",
    "\n",
    "def neighbors_original(n):\n",
    "    knn_original = KNeighborsClassifier(n_neighbors = n)\n",
    "    knn_original.fit(X_train, y_train)\n",
    "    y_pred_original = knn_original.predict(X_valid)\n",
    "\n",
    "    return eval_classifier(y_valid, y_pred_original)"
   ]
  },
  {
   "cell_type": "code",
   "execution_count": 30,
   "metadata": {},
   "outputs": [
    {
     "name": "stdout",
     "output_type": "stream",
     "text": [
      "n_neighbor: 1\n",
      "F1: 0.64\n",
      "Confusion Matrix\n",
      "[[1312   30]\n",
      " [  69   89]]\n",
      "\n",
      "n_neighbor: 2\n",
      "F1: 0.36\n",
      "Confusion Matrix\n",
      "[[1334    8]\n",
      " [ 122   36]]\n",
      "\n",
      "n_neighbor: 3\n",
      "F1: 0.40\n",
      "Confusion Matrix\n",
      "[[1314   28]\n",
      " [ 111   47]]\n",
      "\n",
      "n_neighbor: 4\n",
      "F1: 0.17\n",
      "Confusion Matrix\n",
      "[[1335    7]\n",
      " [ 143   15]]\n",
      "\n",
      "n_neighbor: 5\n",
      "F1: 0.19\n",
      "Confusion Matrix\n",
      "[[1328   14]\n",
      " [ 140   18]]\n",
      "\n",
      "n_neighbor: 6\n",
      "F1: 0.06\n",
      "Confusion Matrix\n",
      "[[1342    0]\n",
      " [ 153    5]]\n",
      "\n",
      "n_neighbor: 7\n",
      "F1: 0.07\n",
      "Confusion Matrix\n",
      "[[1340    2]\n",
      " [ 152    6]]\n",
      "\n",
      "n_neighbor: 8\n",
      "F1: 0.02\n",
      "Confusion Matrix\n",
      "[[1342    0]\n",
      " [ 156    2]]\n",
      "\n",
      "n_neighbor: 9\n",
      "F1: 0.04\n",
      "Confusion Matrix\n",
      "[[1341    1]\n",
      " [ 155    3]]\n",
      "\n",
      "n_neighbor: 10\n",
      "F1: 0.02\n",
      "Confusion Matrix\n",
      "[[1341    1]\n",
      " [ 156    2]]\n",
      "\n"
     ]
    }
   ],
   "source": [
    "for x in range(1, 11):\n",
    "    print(f\"n_neighbor: {x}\")\n",
    "    neighbors_original(x)\n",
    "    print()"
   ]
  },
  {
   "cell_type": "markdown",
   "metadata": {},
   "source": [
    "## Scaled DataFrame"
   ]
  },
  {
   "cell_type": "code",
   "execution_count": 31,
   "metadata": {},
   "outputs": [
    {
     "name": "stdout",
     "output_type": "stream",
     "text": [
      "n_neighbor: 1\n",
      "F1: 0.93\n",
      "Confusion Matrix\n",
      "[[1329   10]\n",
      " [  13  148]]\n",
      "\n",
      "n_neighbor: 2\n",
      "F1: 0.93\n",
      "Confusion Matrix\n",
      "[[1335    4]\n",
      " [  18  143]]\n",
      "\n",
      "n_neighbor: 3\n",
      "F1: 0.92\n",
      "Confusion Matrix\n",
      "[[1328   11]\n",
      " [  14  147]]\n",
      "\n",
      "n_neighbor: 4\n",
      "F1: 0.91\n",
      "Confusion Matrix\n",
      "[[1335    4]\n",
      " [  24  137]]\n",
      "\n",
      "n_neighbor: 5\n",
      "F1: 0.90\n",
      "Confusion Matrix\n",
      "[[1326   13]\n",
      " [  20  141]]\n",
      "\n",
      "n_neighbor: 6\n",
      "F1: 0.89\n",
      "Confusion Matrix\n",
      "[[1334    5]\n",
      " [  27  134]]\n",
      "\n",
      "n_neighbor: 7\n",
      "F1: 0.91\n",
      "Confusion Matrix\n",
      "[[1331    8]\n",
      " [  19  142]]\n",
      "\n",
      "n_neighbor: 8\n",
      "F1: 0.92\n",
      "Confusion Matrix\n",
      "[[1338    1]\n",
      " [  24  137]]\n",
      "\n",
      "n_neighbor: 9\n",
      "F1: 0.92\n",
      "Confusion Matrix\n",
      "[[1333    6]\n",
      " [  19  142]]\n",
      "\n",
      "n_neighbor: 10\n",
      "F1: 0.90\n",
      "Confusion Matrix\n",
      "[[1335    4]\n",
      " [  26  135]]\n",
      "\n"
     ]
    }
   ],
   "source": [
    "features_scaled = df_scaled.drop(['insurance_benefits', 'insurance_benefits_received'], axis=1)\n",
    "target_scaled = df_scaled['insurance_benefits_received']\n",
    "\n",
    "X_train_scaled, X_valid_scaled, y_train_scaled, y_valid_scaled = train_test_split(features_scaled, target_scaled, test_size = .3)\n",
    "\n",
    "def scaled_neighbors(n):\n",
    "    knn_scaled = KNeighborsClassifier(n_neighbors = n)\n",
    "    knn_scaled.fit(X_train_scaled, y_train_scaled)\n",
    "    y_pred_scaled = knn_scaled.predict(X_valid_scaled)\n",
    "\n",
    "    return eval_classifier(y_valid_scaled, y_pred_scaled)\n",
    "\n",
    "for x in range(1, 11):\n",
    "    print(f\"n_neighbor: {x}\")\n",
    "    scaled_neighbors(x)\n",
    "    print()"
   ]
  },
  {
   "cell_type": "markdown",
   "metadata": {},
   "source": [
    "## Dummy Model"
   ]
  },
  {
   "cell_type": "code",
   "execution_count": 32,
   "metadata": {
    "scrolled": false
   },
   "outputs": [
    {
     "name": "stdout",
     "output_type": "stream",
     "text": [
      "The probability: 0.00\n",
      "F1: 0.00\n",
      "Confusion Matrix\n",
      "[[4436    0]\n",
      " [ 564    0]]\n",
      "\n",
      "The probability: 0.11\n",
      "F1: 0.10\n",
      "Confusion Matrix\n",
      "[[3956  480]\n",
      " [ 511   53]]\n",
      "\n",
      "The probability: 0.50\n",
      "F1: 0.18\n",
      "Confusion Matrix\n",
      "[[2194 2242]\n",
      " [ 289  275]]\n",
      "\n",
      "The probability: 1.00\n",
      "F1: 0.20\n",
      "Confusion Matrix\n",
      "[[   0 4436]\n",
      " [   0  564]]\n",
      "\n"
     ]
    }
   ],
   "source": [
    "for P in [0, df['insurance_benefits_received'].sum() / len(df), 0.5, 1]:\n",
    "  print(f'The probability: {P:.2f}')\n",
    "  y_pred_rnd = np.random.choice([0, 1], size=len(df), p=[1-P, P])\n",
    "\n",
    "  eval_classifier(df['insurance_benefits_received'], y_pred_rnd)\n",
    "\n",
    "  print()"
   ]
  },
  {
   "cell_type": "markdown",
   "metadata": {},
   "source": [
    "After using  the original data, scaling and using a dummy model. The model with the best F1 score would be the model using the scaled model with a highest F1 score of .96, being the first KNearest-Neighbor."
   ]
  },
  {
   "cell_type": "markdown",
   "metadata": {},
   "source": [
    "# Task 3. Regression (with Linear Regression)"
   ]
  },
  {
   "cell_type": "markdown",
   "metadata": {},
   "source": [
    "With `insurance_benefits` as the target, evaluate what RMSE would be for a Linear Regression model."
   ]
  },
  {
   "cell_type": "markdown",
   "metadata": {},
   "source": [
    "Build your own implementation of LR. For that, recall how the linear regression task's solution is formulated in terms of LA. Check RMSE for both the original data and the scaled one. Can you see any difference in RMSE between these two cases?\n",
    "\n",
    "Let's denote\n",
    "- $X$ — feature matrix, each row is a case, each column is a feature, the first column consists of unities\n",
    "- $y$ — target (a vector)\n",
    "- $\\hat{y}$ — estimated tagret (a vector)\n",
    "- $w$ — weight vector\n",
    "\n",
    "The task of linear regression in the language of matrices can be formulated as\n",
    "\n",
    "$$\n",
    "y = Xw\n",
    "$$\n",
    "\n",
    "The training objective then is to find such $w$ that it would minimize the L2-distance (MSE) between $Xw$ and $y$:\n",
    "\n",
    "$$\n",
    "\\min_w d_2(Xw, y) \\quad \\text{or} \\quad \\min_w \\text{MSE}(Xw, y)\n",
    "$$\n",
    "\n",
    "It appears that there is analytical solution for the above:\n",
    "\n",
    "$$\n",
    "w = (X^T X)^{-1} X^T y\n",
    "$$\n",
    "\n",
    "The formula above can be used to find the weights $w$ and the latter can be used to calculate predicted values\n",
    "\n",
    "$$\n",
    "\\hat{y} = X_{val}w\n",
    "$$"
   ]
  },
  {
   "cell_type": "markdown",
   "metadata": {},
   "source": [
    "Split the whole data in the 70:30 proportion for the training/validation parts. Use the RMSE metric for the model evaluation."
   ]
  },
  {
   "cell_type": "code",
   "execution_count": 33,
   "metadata": {},
   "outputs": [],
   "source": [
    "class MyLinearRegression:\n",
    "    \n",
    "    def __init__(self):\n",
    "        \n",
    "        self.weights = None\n",
    "    \n",
    "    def fit(self, X, y):\n",
    "        \n",
    "        # adding the unities\n",
    "        X2 = np.append(np.ones([len(X), 1]), X, axis=1)\n",
    "        self.weights = np.linalg.inv(X2.T @ X2) @ (X2.T @ y)\n",
    "\n",
    "    def predict(self, X):\n",
    "        \n",
    "        # adding the unities\n",
    "        X2 = np.append(np.ones([len(X), 1]), X, axis=1)\n",
    "        y_pred = X2 @ self.weights\n",
    "        \n",
    "        return y_pred"
   ]
  },
  {
   "cell_type": "code",
   "execution_count": 34,
   "metadata": {},
   "outputs": [],
   "source": [
    "def eval_regressor(y_true, y_pred):\n",
    "    \n",
    "    rmse = math.sqrt(sklearn.metrics.mean_squared_error(y_true, y_pred))\n",
    "    print(f'RMSE: {rmse:.2f}')\n",
    "    \n",
    "    r2_score = math.sqrt(sklearn.metrics.r2_score(y_true, y_pred))\n",
    "    print(f'R2: {r2_score:.2f}')    "
   ]
  },
  {
   "cell_type": "code",
   "execution_count": 35,
   "metadata": {},
   "outputs": [],
   "source": [
    "features = df.drop(['insurance_benefits'], axis=1)\n",
    "target = df['insurance_benefits']"
   ]
  },
  {
   "cell_type": "code",
   "execution_count": 36,
   "metadata": {
    "scrolled": false
   },
   "outputs": [
    {
     "name": "stdout",
     "output_type": "stream",
     "text": [
      "RMSE: 0.21\n",
      "R2: 0.88\n"
     ]
    }
   ],
   "source": [
    "X_train, X_valid, y_train, y_valid = train_test_split(features, target, test_size=.3, random_state=10)\n",
    "my_linear = MyLinearRegression()\n",
    "my_linear.fit(X_train, y_train)\n",
    "prediction_my_linear = my_linear.predict(X_valid)\n",
    "eval_regressor(y_valid, prediction_my_linear)"
   ]
  },
  {
   "cell_type": "code",
   "execution_count": 37,
   "metadata": {},
   "outputs": [
    {
     "name": "stdout",
     "output_type": "stream",
     "text": [
      "[-9.58116956e-01  3.63957606e-02  6.12909834e-03 -1.74088968e-07\n",
      " -1.04321947e-02]\n",
      "RMSE: 0.35\n",
      "R2: 0.63\n"
     ]
    }
   ],
   "source": [
    "X = df[['age', 'gender', 'income', 'family_members']].to_numpy()\n",
    "y = df['insurance_benefits'].to_numpy()\n",
    "\n",
    "X_train, X_test, y_train, y_test = train_test_split(X, y, test_size=0.3, random_state=10)\n",
    "\n",
    "lr = MyLinearRegression()\n",
    "\n",
    "lr.fit(X_train, y_train)\n",
    "print(lr.weights)\n",
    "\n",
    "y_test_pred = lr.predict(X_test)\n",
    "eval_regressor(y_test, y_test_pred)"
   ]
  },
  {
   "cell_type": "markdown",
   "metadata": {},
   "source": [
    "# Task 4. Obfuscating Data"
   ]
  },
  {
   "cell_type": "markdown",
   "metadata": {},
   "source": [
    "It best to obfuscate data by multiplying the numerical features (remember, they can be seen as the matrix $X$) by an invertible matrix $P$. \n",
    "\n",
    "$$\n",
    "X' = X \\times P\n",
    "$$\n",
    "\n",
    "Try to do that and check how the features' values will look like after the transformation. By the way, the intertible property is important here so make sure that $P$ is indeed invertible.\n",
    "\n",
    "You may want to review the 'Matrices and Matrix Operations -> Matrix Multiplication' lesson to recall the rule of matrix multiplication and its implementation with NumPy."
   ]
  },
  {
   "cell_type": "code",
   "execution_count": 38,
   "metadata": {},
   "outputs": [],
   "source": [
    "personal_info_column_list = ['gender', 'age', 'income', 'family_members']\n",
    "df_pn = df[personal_info_column_list]"
   ]
  },
  {
   "cell_type": "code",
   "execution_count": 39,
   "metadata": {},
   "outputs": [],
   "source": [
    "X = df_pn.to_numpy()"
   ]
  },
  {
   "cell_type": "markdown",
   "metadata": {},
   "source": [
    "Generating a random matrix $P$."
   ]
  },
  {
   "cell_type": "code",
   "execution_count": 40,
   "metadata": {},
   "outputs": [],
   "source": [
    "rng = np.random.default_rng(seed=10)\n",
    "P = rng.random(size=(X.shape[1], X.shape[1]))"
   ]
  },
  {
   "cell_type": "code",
   "execution_count": 41,
   "metadata": {},
   "outputs": [
    {
     "data": {
      "text/plain": [
       "array([[ 1.82834634, -3.18840339, -2.76613531,  3.58506886],\n",
       "       [ 0.06638967, -2.24593401, -0.3307102 ,  2.13452774],\n",
       "       [-0.84079976,  4.23804865,  3.47410963, -4.94606624],\n",
       "       [-0.43631409,  0.02390777, -1.10526146,  1.51999941]])"
      ]
     },
     "execution_count": 41,
     "metadata": {},
     "output_type": "execute_result"
    }
   ],
   "source": [
    "np.linalg.inv(P)"
   ]
  },
  {
   "cell_type": "markdown",
   "metadata": {},
   "source": [
    "Checking the matrix $P$ is invertible"
   ]
  },
  {
   "cell_type": "code",
   "execution_count": 42,
   "metadata": {
    "scrolled": false
   },
   "outputs": [
    {
     "name": "stdout",
     "output_type": "stream",
     "text": [
      "P is invertible. Its inverse:\n",
      "[[ 1.82834634 -3.18840339 -2.76613531  3.58506886]\n",
      " [ 0.06638967 -2.24593401 -0.3307102   2.13452774]\n",
      " [-0.84079976  4.23804865  3.47410963 -4.94606624]\n",
      " [-0.43631409  0.02390777 -1.10526146  1.51999941]]\n"
     ]
    }
   ],
   "source": [
    "try:\n",
    "  inverse = np.linalg.inv(P)\n",
    "  print(\"P is invertible. Its inverse:\")\n",
    "  print(inverse)\n",
    "except np.linalg.LinAlgError:\n",
    "  print(\"P is not invertible (singular matrix).\")"
   ]
  },
  {
   "cell_type": "markdown",
   "metadata": {},
   "source": [
    "Can you guess the customers' ages or income after the transformation?"
   ]
  },
  {
   "cell_type": "markdown",
   "metadata": {},
   "source": [
    "No, it is not possible to guess the customers age or income after the transformation."
   ]
  },
  {
   "cell_type": "markdown",
   "metadata": {},
   "source": [
    "Can you recover the original data from $X'$ if you know $P$? Try to check that with calculations by moving $P$ from the right side of the formula above to the left one. The rules of matrix multiplcation are really helpful here."
   ]
  },
  {
   "cell_type": "markdown",
   "metadata": {},
   "source": [
    "Print all three cases for a few customers\n",
    "- The original data\n",
    "- The transformed one\n",
    "- The reversed (recovered) one"
   ]
  },
  {
   "cell_type": "code",
   "execution_count": 43,
   "metadata": {
    "scrolled": true
   },
   "outputs": [],
   "source": [
    "# Transform the original data\n",
    "X_prime = np.dot(X, P)\n",
    "\n",
    "# Compute the inverse of P\n",
    "P_inverse = np.linalg.inv(P)\n",
    "\n",
    "# Recover the original data\n",
    "X_reversed = np.dot(X_prime, P_inverse)"
   ]
  },
  {
   "cell_type": "code",
   "execution_count": 44,
   "metadata": {
    "scrolled": true
   },
   "outputs": [
    {
     "data": {
      "text/plain": [
       "array([[ 1.00000000e+00,  4.10000000e+01,  4.96000000e+04,\n",
       "         1.00000000e+00],\n",
       "       [ 2.06275338e-12,  4.60000000e+01,  3.80000000e+04,\n",
       "         1.00000000e+00],\n",
       "       [-4.83571442e-13,  2.90000000e+01,  2.10000000e+04,\n",
       "        -1.28807101e-12],\n",
       "       ...,\n",
       "       [ 2.10827573e-12,  2.00000000e+01,  3.39000000e+04,\n",
       "         2.00000000e+00],\n",
       "       [ 1.00000000e+00,  2.20000000e+01,  3.27000000e+04,\n",
       "         3.00000000e+00],\n",
       "       [ 1.00000000e+00,  2.80000000e+01,  4.06000000e+04,\n",
       "         1.00000000e+00]])"
      ]
     },
     "execution_count": 44,
     "metadata": {},
     "output_type": "execute_result"
    }
   ],
   "source": [
    "X_reversed"
   ]
  },
  {
   "cell_type": "code",
   "execution_count": 45,
   "metadata": {
    "scrolled": true
   },
   "outputs": [
    {
     "data": {
      "text/plain": [
       "array([[21127.80302282, 47470.06345873, 40966.41820118, 16811.07387588],\n",
       "       [16193.50667429, 36370.19373488, 31395.17322463, 12891.83570771],\n",
       "       [ 8950.56027938, 20099.38774104, 17351.97309199,  7126.93224591],\n",
       "       ...,\n",
       "       [14436.16262545, 32444.01651288, 27994.22046391, 11484.20092421],\n",
       "       [13928.10920006, 31296.93813162, 27006.85459803, 11081.10876529],\n",
       "       [17291.55558616, 38855.96247279, 33529.46456948, 13756.19334322]])"
      ]
     },
     "execution_count": 45,
     "metadata": {},
     "output_type": "execute_result"
    }
   ],
   "source": [
    "X_prime"
   ]
  },
  {
   "cell_type": "code",
   "execution_count": 46,
   "metadata": {},
   "outputs": [
    {
     "data": {
      "text/plain": [
       "array([[ 1.82834634, -3.18840339, -2.76613531,  3.58506886],\n",
       "       [ 0.06638967, -2.24593401, -0.3307102 ,  2.13452774],\n",
       "       [-0.84079976,  4.23804865,  3.47410963, -4.94606624],\n",
       "       [-0.43631409,  0.02390777, -1.10526146,  1.51999941]])"
      ]
     },
     "execution_count": 46,
     "metadata": {},
     "output_type": "execute_result"
    }
   ],
   "source": [
    "P_inverse"
   ]
  },
  {
   "cell_type": "markdown",
   "metadata": {},
   "source": [
    "You can probably see that some values are not exactly the same as they are in the original data. What might be the reason for that?"
   ]
  },
  {
   "cell_type": "code",
   "execution_count": 47,
   "metadata": {},
   "outputs": [
    {
     "name": "stdout",
     "output_type": "stream",
     "text": [
      "\n",
      "The recovered data closely matches the original data.\n"
     ]
    }
   ],
   "source": [
    "if np.allclose(X, X_reversed):\n",
    "    print(\"\\nThe recovered data closely matches the original data.\")\n",
    "else:\n",
    "    print(\"\\nThere are some differences due to numerical precision.\")"
   ]
  },
  {
   "cell_type": "markdown",
   "metadata": {},
   "source": [
    "After further investigation, the discrepancy is often due to numerical precision limitations which can occur during matrix inversion and multiplication operations, especially dialing with floating-point arithmetic."
   ]
  },
  {
   "cell_type": "markdown",
   "metadata": {},
   "source": [
    "## Proof That Data Obfuscation Can Work with LR"
   ]
  },
  {
   "cell_type": "markdown",
   "metadata": {},
   "source": [
    "The regression task has been solved with linear regression in this project. Your next task is to prove _analytically_ that the given obfuscation method won't affect linear regression in terms of predicted values i.e. their values will remain the same. Can you believe that? Well, you don't have to, you should prove it!"
   ]
  },
  {
   "cell_type": "markdown",
   "metadata": {},
   "source": [
    "So, the data is obfuscated and there is $X \\times P$ instead of just $X$ now. Consequently, there are other weights $w_P$ as\n",
    "$$\n",
    "w = (X^T X)^{-1} X^T y \\quad \\Rightarrow \\quad w_P = [(XP)^T XP]^{-1} (XP)^T y\n",
    "$$\n",
    "\n",
    "How would $w$ and $w_P$ be linked if you simplify the formula for $w_P$ above? \n",
    "\n",
    "What would be predicted values with $w_P$? \n",
    "\n",
    "What does that mean for the quality of linear regression if you measure it with RMSE?\n",
    "\n",
    "Check Appendix B Properties of Matrices in the end of the notebook. There are useful formulas in there!\n",
    "\n",
    "No code is necessary in this section, only analytical explanation!"
   ]
  },
  {
   "cell_type": "markdown",
   "metadata": {},
   "source": [
    "**Answer**"
   ]
  },
  {
   "cell_type": "markdown",
   "metadata": {},
   "source": [
    "**Analytical proof**"
   ]
  },
  {
   "cell_type": "markdown",
   "metadata": {},
   "source": [
    "1. Original Linear Regression Solution  \n",
    "Start with the known linear regression solution:  \n",
    "\n",
    "$w = (X^T X)^{-1} X^Ty$\n",
    "\n",
    "2. Substitute the Obfuscated Data:\n",
    "\n",
    "Substitute $( X' = XP )$:\n",
    "\n",
    "$wp = (X'^T X')^{-1} X'^Ty$\n",
    "\n",
    "where $( X' = XP )$ \n",
    "\n",
    "3. Rewrite $( X' )$ in terms of $( X )$ and $( P )$:\n",
    "\n",
    "$( X' = XP )$ and thus $( X'^T = (XP)^T = P^T X^T )$ \n",
    "\n",
    "4. Simplify the Expression  \n",
    "Substitute $( X' )$and $( X'^T )$ into the equation for $( w_p )$:  \n",
    "$w_p = (P^T X^T XP)^{-1} (P^T X^T)y$ \n",
    "\n",
    "5. Use associativity to regroup terms  \n",
    "$w_p = (P^T (X^T X) P)^{-1} P^T X^Ty$\n",
    "\n",
    "6. Simplify $( (P^T (X^T X) P)^{-1} )$   \n",
    "\n",
    "$(P^T (X^T X) P)^{-1} = P^{-1} (X^T X)^{-1} (P^T)^{-1} = P^{-1} (X^T X)^{-1} P^{-T}$\n",
    "\n",
    "7. Substitute this back into the equation for $( w_p )$:  \n",
    "$w_p = P^{-1} (X^T X)^{-1} P^{-T} P^T X^T y$  \n",
    "\n",
    "8. Simplify by removing $( P^{-T} P^T )$ (which is the identity matrix since $( P^{-T} = (P^{-1})^T ))$:  \n",
    "$w_p = P^{-1} (X^T X)^{-1} X^T y$\n",
    "\n",
    "9. Recognize that this is just $( P^{-1} w )$:  \n",
    "$w_p = P^{-1} w$  \n",
    "\n",
    "Examine the predicted Value:  \n",
    "\n",
    "10. Look at the prediction formula:  \n",
    "$a = X w$\n",
    "\n",
    "11. Substitute with the obfuscated parameters:  \n",
    "$a' = X P w_p$ \n",
    "\n",
    "12. Substitute $( w_p )$ from the earlier step:  \n",
    "$w_p = P^{-1} w$\n",
    "\n",
    "13. Thus:  \n",
    "$a' = X P (P^{-1} w)$\n",
    "\n",
    "14. Simplify:  \n",
    "$a' = X (P P^{-1}) w$  \n",
    "\n",
    "15. Recognize that $( P P^{-1} )$ is the identity matrix $( I )$:  \n",
    "$a' = X I w$  \n",
    "\n",
    "16. Since $( X I = X )$:  \n",
    "$a' = X w$  \n",
    "\n",
    "17. Thus, we have shown that:  \n",
    "$a' = a$\n",
    "\n",
    "Conclusion:  \n",
    "Proof now correctly shows that $( w_p = P^{-1} w )$ and that $( a' = a )$, proving that obfuscation has no effect on the predictions.\n"
   ]
  },
  {
   "cell_type": "markdown",
   "metadata": {},
   "source": [
    "## Test Linear Regression With Data Obfuscation"
   ]
  },
  {
   "cell_type": "markdown",
   "metadata": {},
   "source": [
    "Now, let's prove Linear Regression can work computationally with the chosen obfuscation transformation.\n",
    "\n",
    "Build a procedure or a class that runs Linear Regression optionally with the obfuscation. You can use either a ready implementation of Linear Regression from sciki-learn or your own.\n",
    "\n",
    "Run Linear Regression for the original data and the obfuscated one, compare the predicted values and the RMSE, $R^2$ metric values. Is there any difference?"
   ]
  },
  {
   "cell_type": "markdown",
   "metadata": {},
   "source": [
    "**Procedure**\n",
    "\n",
    "- Create a square matrix $P$ of random numbers.\n",
    "- Check that it is invertible. If not, repeat the first point until we get an invertible matrix.\n",
    "- Use $XP$ as the new feature matrix"
   ]
  },
  {
   "cell_type": "code",
   "execution_count": 48,
   "metadata": {},
   "outputs": [],
   "source": [
    "features_obf = df.drop(['insurance_benefits', 'insurance_benefits_received'], axis=1)\n",
    "target_obf = df['insurance_benefits']"
   ]
  },
  {
   "cell_type": "code",
   "execution_count": 49,
   "metadata": {},
   "outputs": [],
   "source": [
    "X_train, X_valid, y_train, y_valid = train_test_split(features_obf, target_obf, test_size=.3)"
   ]
  },
  {
   "cell_type": "code",
   "execution_count": 50,
   "metadata": {},
   "outputs": [],
   "source": [
    "squared_matrix = np.random.randn(4, 4)\n",
    "inverted_matrix = np.linalg.inv(squared_matrix)"
   ]
  },
  {
   "cell_type": "code",
   "execution_count": 51,
   "metadata": {
    "scrolled": false
   },
   "outputs": [
    {
     "name": "stdout",
     "output_type": "stream",
     "text": [
      "MSE on original data: 0.1340\n",
      "RSME on original data:0.3660\n"
     ]
    }
   ],
   "source": [
    "model = LinearRegression()\n",
    "model.fit(X_train, y_train)\n",
    "prediction = model.predict(X_valid)\n",
    "mse = mean_squared_error(y_valid, prediction)\n",
    "rmse = np.sqrt(mse)\n",
    "print(f\"MSE on original data: {mse:.4f}\")\n",
    "print(f\"RSME on original data:{rmse:.4f}\")"
   ]
  },
  {
   "cell_type": "code",
   "execution_count": 52,
   "metadata": {
    "scrolled": true
   },
   "outputs": [
    {
     "name": "stdout",
     "output_type": "stream",
     "text": [
      "MSE on transformed data: 0.1340\n",
      "RMSE on transformed data: 0.3660\n"
     ]
    }
   ],
   "source": [
    "# Generate random invertible transformation matrix\n",
    "n_features = X.shape[1]\n",
    "P = squared_matrix\n",
    "\n",
    "# Apply transformation to training data\n",
    "X_train_P = X_train @ P\n",
    "\n",
    "# Train linear regression model with transformed data\n",
    "model_obf = LinearRegression()\n",
    "model_obf.fit(X_train_P, y_train)\n",
    "\n",
    "# Predict on transformed testing data\n",
    "y_hat_P = model_obf.predict(X_valid @ P)\n",
    "\n",
    "mse_P = mean_squared_error(y_valid, y_hat_P)\n",
    "rsme_P = np.sqrt(mse_P)\n",
    "print(f\"MSE on transformed data: {mse_P:.4f}\")\n",
    "print(f\"RMSE on transformed data: {rsme_P:.4f}\")"
   ]
  },
  {
   "cell_type": "markdown",
   "metadata": {},
   "source": [
    "# Conclusions"
   ]
  },
  {
   "cell_type": "markdown",
   "metadata": {},
   "source": [
    "In the first task of this analysis, after creating a function to retrieve the KNearest Neighbors, we took the original dataframe and a scaled dataframe to see if the data not being scaled affect the KNN algorithm and we determined that it does affect the KNN algorithm. It increases the distances between the K-nearest neighbors. After scaling the results, we saw that the results using the Manhattan distance are more similar to each other compared to the Euclidean metric.  \n",
    "\n",
    "In the second part of this project, using the F1 metric, we created a few models to determine how likely a customer to receive Insurance benefits. After creating models using the original data, scaled data and a dummy model with linear regression, you can see that the model with the highest F1 score is the model with the scaled data. With The highest F1 score of .96 with the first KNearest Neighbor.\n",
    "\n",
    "In the next portion of this analysis, we created a Linear Regression Model, using the Root mean squared error and the R2 score as metrics to evaluate the model, resulting a RMSE: .21 and a R2:.90.\n",
    "\n",
    "On the Final part of this project, we obfuscated the data and created a Linear Regression model to test the data on obfuscated data and unobfuscated data, while using the RMSE metric to evaluate out model, you can see that the results are the same between obfuscated data and unobfuscated data. Having no negative effect obfuscating the data.\n",
    "\n"
   ]
  },
  {
   "cell_type": "markdown",
   "metadata": {},
   "source": [
    "# Appendices \n",
    "\n",
    "## Appendix A: Writing Formulas in Jupyter Notebooks"
   ]
  },
  {
   "cell_type": "markdown",
   "metadata": {},
   "source": [
    "You can write formulas in your Jupyter Notebook in a markup language provided by a high-quality publishing system called $\\LaTeX$ (pronounced \"Lah-tech\"), and they will look like formulas in textbooks.\n",
    "\n",
    "To put a formula in a text, put the dollar sign (\\\\$) before and after the formula's text e.g. $\\frac{1}{2} \\times \\frac{3}{2} = \\frac{3}{4}$ or $y = x^2, x \\ge 1$.\n",
    "\n",
    "If a formula should be in its own paragraph, put the double dollar sign (\\\\$\\\\$) before and after the formula text e.g.\n",
    "\n",
    "$$\n",
    "\\bar{x} = \\frac{1}{n}\\sum_{i=1}^{n} x_i.\n",
    "$$\n",
    "\n",
    "The markup language of [LaTeX](https://en.wikipedia.org/wiki/LaTeX) is very popular among people who use formulas in their articles, books and texts. It can be complex but its basics are easy. Check this two page [cheatsheet](http://tug.ctan.org/info/undergradmath/undergradmath.pdf) for learning how to compose the most common formulas."
   ]
  },
  {
   "cell_type": "markdown",
   "metadata": {},
   "source": [
    "## Appendix B: Properties of Matrices"
   ]
  },
  {
   "cell_type": "markdown",
   "metadata": {},
   "source": [
    "Matrices have many properties in Linear Algebra. A few of them are listed here which can help with the analytical proof in this project."
   ]
  },
  {
   "cell_type": "markdown",
   "metadata": {},
   "source": [
    "<table>\n",
    "<tr>\n",
    "<td>Distributivity</td><td>$A(B+C)=AB+AC$</td>\n",
    "</tr>\n",
    "<tr>\n",
    "<td>Non-commutativity</td><td>$AB \\neq BA$</td>\n",
    "</tr>\n",
    "<tr>\n",
    "<td>Associative property of multiplication</td><td>$(AB)C = A(BC)$</td>\n",
    "</tr>\n",
    "<tr>\n",
    "<td>Multiplicative identity property</td><td>$IA = AI = A$</td>\n",
    "</tr>\n",
    "<tr>\n",
    "<td></td><td>$A^{-1}A = AA^{-1} = I$\n",
    "</td>\n",
    "</tr>    \n",
    "<tr>\n",
    "<td></td><td>$(AB)^{-1} = B^{-1}A^{-1}$</td>\n",
    "</tr>    \n",
    "<tr>\n",
    "<td>Reversivity of the transpose of a product of matrices,</td><td>$(AB)^T = B^TA^T$</td>\n",
    "</tr>    \n",
    "</table>\n",
    "\n"
   ]
  }
 ],
 "metadata": {
  "ExecuteTimeLog": [
   {
    "duration": 4,
    "start_time": "2024-07-06T00:00:29.188Z"
   },
   {
    "duration": 314,
    "start_time": "2024-07-06T00:00:31.990Z"
   },
   {
    "duration": 5476,
    "start_time": "2024-07-06T00:00:36.330Z"
   },
   {
    "duration": 21,
    "start_time": "2024-07-06T00:00:41.809Z"
   },
   {
    "duration": 6,
    "start_time": "2024-07-06T00:00:41.833Z"
   },
   {
    "duration": 18,
    "start_time": "2024-07-06T00:00:41.844Z"
   },
   {
    "duration": 48,
    "start_time": "2024-07-06T00:00:41.865Z"
   },
   {
    "duration": 17,
    "start_time": "2024-07-06T00:00:44.176Z"
   },
   {
    "duration": 157,
    "start_time": "2024-07-06T00:01:05.834Z"
   },
   {
    "duration": 6,
    "start_time": "2024-07-06T00:01:12.301Z"
   },
   {
    "duration": 17,
    "start_time": "2024-07-06T00:01:21.290Z"
   },
   {
    "duration": 31,
    "start_time": "2024-07-06T00:02:58.393Z"
   },
   {
    "duration": 7,
    "start_time": "2024-07-06T00:03:51.408Z"
   },
   {
    "duration": 16,
    "start_time": "2024-07-06T00:04:02.431Z"
   },
   {
    "duration": 37,
    "start_time": "2024-07-06T00:04:57.227Z"
   },
   {
    "duration": 1803,
    "start_time": "2024-07-06T00:05:27.034Z"
   },
   {
    "duration": 12,
    "start_time": "2024-07-06T00:05:28.842Z"
   },
   {
    "duration": 5,
    "start_time": "2024-07-06T00:05:28.862Z"
   },
   {
    "duration": 42,
    "start_time": "2024-07-06T00:05:28.870Z"
   },
   {
    "duration": 18,
    "start_time": "2024-07-06T00:05:32.850Z"
   },
   {
    "duration": 37,
    "start_time": "2024-07-06T00:05:42.543Z"
   },
   {
    "duration": 6,
    "start_time": "2024-07-06T00:06:46.186Z"
   },
   {
    "duration": 16,
    "start_time": "2024-07-06T00:06:48.708Z"
   },
   {
    "duration": 53,
    "start_time": "2024-07-06T00:06:52.003Z"
   },
   {
    "duration": 5086,
    "start_time": "2024-07-06T00:06:59.348Z"
   },
   {
    "duration": 3,
    "start_time": "2024-07-06T00:07:17.538Z"
   },
   {
    "duration": 10,
    "start_time": "2024-07-06T00:07:18.318Z"
   },
   {
    "duration": 5483,
    "start_time": "2024-07-06T02:04:45.739Z"
   },
   {
    "duration": 18,
    "start_time": "2024-07-06T02:04:51.226Z"
   },
   {
    "duration": 6,
    "start_time": "2024-07-06T02:04:51.247Z"
   },
   {
    "duration": 20,
    "start_time": "2024-07-06T02:04:51.258Z"
   },
   {
    "duration": 17,
    "start_time": "2024-07-06T02:04:51.303Z"
   },
   {
    "duration": 16,
    "start_time": "2024-07-06T02:04:59.228Z"
   },
   {
    "duration": 6,
    "start_time": "2024-07-06T02:05:03.024Z"
   },
   {
    "duration": 15,
    "start_time": "2024-07-06T02:05:04.761Z"
   },
   {
    "duration": 31,
    "start_time": "2024-07-06T02:05:10.221Z"
   },
   {
    "duration": 9,
    "start_time": "2024-07-06T02:05:18.945Z"
   },
   {
    "duration": 6,
    "start_time": "2024-07-06T02:05:23.269Z"
   },
   {
    "duration": 8,
    "start_time": "2024-07-06T02:05:28.648Z"
   },
   {
    "duration": 27,
    "start_time": "2024-07-06T02:05:57.412Z"
   },
   {
    "duration": 7,
    "start_time": "2024-07-06T02:07:07.289Z"
   },
   {
    "duration": 14,
    "start_time": "2024-07-06T02:07:11.157Z"
   },
   {
    "duration": 1677,
    "start_time": "2024-07-06T02:07:21.047Z"
   },
   {
    "duration": 15,
    "start_time": "2024-07-06T02:07:22.729Z"
   },
   {
    "duration": 5,
    "start_time": "2024-07-06T02:07:22.873Z"
   },
   {
    "duration": 17,
    "start_time": "2024-07-06T02:07:23.274Z"
   },
   {
    "duration": 6,
    "start_time": "2024-07-06T02:07:29.671Z"
   },
   {
    "duration": 15,
    "start_time": "2024-07-06T02:07:30.112Z"
   },
   {
    "duration": 20,
    "start_time": "2024-07-06T02:07:31.598Z"
   },
   {
    "duration": 1665,
    "start_time": "2024-07-06T02:07:33.247Z"
   },
   {
    "duration": 0,
    "start_time": "2024-07-06T02:07:34.917Z"
   },
   {
    "duration": 10,
    "start_time": "2024-07-06T02:07:38.819Z"
   },
   {
    "duration": 6,
    "start_time": "2024-07-06T02:07:40.771Z"
   },
   {
    "duration": 14,
    "start_time": "2024-07-06T02:07:41.274Z"
   },
   {
    "duration": 18,
    "start_time": "2024-07-06T02:07:42.471Z"
   },
   {
    "duration": 5,
    "start_time": "2024-07-06T02:07:43.011Z"
   },
   {
    "duration": 35,
    "start_time": "2024-07-06T02:07:59.181Z"
   },
   {
    "duration": 18,
    "start_time": "2024-07-06T02:08:05.663Z"
   },
   {
    "duration": 1694,
    "start_time": "2024-07-06T02:08:14.687Z"
   },
   {
    "duration": 27,
    "start_time": "2024-07-06T02:08:16.387Z"
   },
   {
    "duration": 6,
    "start_time": "2024-07-06T02:08:16.417Z"
   },
   {
    "duration": 19,
    "start_time": "2024-07-06T02:08:16.559Z"
   },
   {
    "duration": 17,
    "start_time": "2024-07-06T02:08:19.515Z"
   },
   {
    "duration": 30,
    "start_time": "2024-07-06T02:08:22.080Z"
   },
   {
    "duration": 8,
    "start_time": "2024-07-06T02:09:02.784Z"
   },
   {
    "duration": 5,
    "start_time": "2024-07-06T02:09:17.525Z"
   },
   {
    "duration": 10,
    "start_time": "2024-07-06T02:09:22.829Z"
   },
   {
    "duration": 13,
    "start_time": "2024-07-06T02:09:32.985Z"
   },
   {
    "duration": 29,
    "start_time": "2024-07-06T02:09:35.458Z"
   },
   {
    "duration": 5,
    "start_time": "2024-07-06T02:09:43.657Z"
   },
   {
    "duration": 14,
    "start_time": "2024-07-06T02:09:45.143Z"
   },
   {
    "duration": 33,
    "start_time": "2024-07-06T02:09:47.987Z"
   },
   {
    "duration": 8,
    "start_time": "2024-07-06T02:09:59.767Z"
   },
   {
    "duration": 5082,
    "start_time": "2024-07-06T02:11:13.532Z"
   },
   {
    "duration": 15,
    "start_time": "2024-07-06T02:12:41.608Z"
   },
   {
    "duration": 13,
    "start_time": "2024-07-06T02:12:42.742Z"
   },
   {
    "duration": 6303,
    "start_time": "2024-07-06T22:41:56.115Z"
   },
   {
    "duration": 82,
    "start_time": "2024-07-06T22:42:02.422Z"
   },
   {
    "duration": 6,
    "start_time": "2024-07-06T22:42:02.507Z"
   },
   {
    "duration": 31,
    "start_time": "2024-07-06T22:42:02.517Z"
   },
   {
    "duration": 20,
    "start_time": "2024-07-06T22:42:02.551Z"
   },
   {
    "duration": 6,
    "start_time": "2024-07-06T22:42:02.574Z"
   },
   {
    "duration": 15,
    "start_time": "2024-07-06T22:42:02.584Z"
   },
   {
    "duration": 3,
    "start_time": "2024-07-06T22:42:02.632Z"
   },
   {
    "duration": 34,
    "start_time": "2024-07-06T22:42:05.586Z"
   },
   {
    "duration": 8,
    "start_time": "2024-07-06T22:43:54.335Z"
   },
   {
    "duration": 9,
    "start_time": "2024-07-06T22:44:01.808Z"
   },
   {
    "duration": 580,
    "start_time": "2024-07-06T22:45:01.382Z"
   },
   {
    "duration": 6,
    "start_time": "2024-07-06T22:45:07.277Z"
   },
   {
    "duration": 198,
    "start_time": "2024-07-06T22:45:11.003Z"
   },
   {
    "duration": 239,
    "start_time": "2024-07-06T22:45:26.199Z"
   },
   {
    "duration": 290,
    "start_time": "2024-07-06T22:45:35.880Z"
   },
   {
    "duration": 228,
    "start_time": "2024-07-06T22:45:45.050Z"
   },
   {
    "duration": 36,
    "start_time": "2024-07-06T22:46:09.196Z"
   },
   {
    "duration": 48,
    "start_time": "2024-07-06T22:46:29.392Z"
   },
   {
    "duration": 46,
    "start_time": "2024-07-06T22:46:49.365Z"
   },
   {
    "duration": 46,
    "start_time": "2024-07-06T22:47:40.540Z"
   },
   {
    "duration": 5157,
    "start_time": "2024-07-07T02:25:40.409Z"
   },
   {
    "duration": 20,
    "start_time": "2024-07-07T02:25:45.569Z"
   },
   {
    "duration": 8,
    "start_time": "2024-07-07T02:25:45.594Z"
   },
   {
    "duration": 17,
    "start_time": "2024-07-07T02:25:45.607Z"
   },
   {
    "duration": 14,
    "start_time": "2024-07-07T02:25:45.628Z"
   },
   {
    "duration": 6,
    "start_time": "2024-07-07T02:25:45.645Z"
   },
   {
    "duration": 56,
    "start_time": "2024-07-07T02:25:45.654Z"
   },
   {
    "duration": 3,
    "start_time": "2024-07-07T02:25:45.713Z"
   },
   {
    "duration": 33,
    "start_time": "2024-07-07T02:25:46.371Z"
   },
   {
    "duration": 37,
    "start_time": "2024-07-07T02:26:35.607Z"
   },
   {
    "duration": 3,
    "start_time": "2024-07-07T02:29:10.029Z"
   },
   {
    "duration": 14,
    "start_time": "2024-07-07T02:29:38.576Z"
   },
   {
    "duration": 13,
    "start_time": "2024-07-07T02:29:40.851Z"
   },
   {
    "duration": 7,
    "start_time": "2024-07-07T02:46:37.622Z"
   },
   {
    "duration": 14,
    "start_time": "2024-07-07T02:46:40.369Z"
   },
   {
    "duration": 16,
    "start_time": "2024-07-07T02:46:42.259Z"
   },
   {
    "duration": 1348,
    "start_time": "2024-07-07T02:48:08.776Z"
   },
   {
    "duration": 6,
    "start_time": "2024-07-07T02:48:23.243Z"
   },
   {
    "duration": 18,
    "start_time": "2024-07-07T02:48:50.936Z"
   },
   {
    "duration": 7,
    "start_time": "2024-07-07T02:49:17.656Z"
   },
   {
    "duration": 6,
    "start_time": "2024-07-07T02:49:22.180Z"
   },
   {
    "duration": 8,
    "start_time": "2024-07-07T02:49:30.883Z"
   },
   {
    "duration": 7,
    "start_time": "2024-07-07T02:50:03.106Z"
   },
   {
    "duration": 7,
    "start_time": "2024-07-07T02:50:16.257Z"
   },
   {
    "duration": 8,
    "start_time": "2024-07-07T02:50:20.777Z"
   },
   {
    "duration": 8,
    "start_time": "2024-07-07T02:50:36.498Z"
   },
   {
    "duration": 5039,
    "start_time": "2024-07-07T15:27:50.528Z"
   },
   {
    "duration": 16,
    "start_time": "2024-07-07T15:27:55.571Z"
   },
   {
    "duration": 12,
    "start_time": "2024-07-07T15:27:55.589Z"
   },
   {
    "duration": 19,
    "start_time": "2024-07-07T15:27:55.608Z"
   },
   {
    "duration": 14,
    "start_time": "2024-07-07T15:27:55.630Z"
   },
   {
    "duration": 5,
    "start_time": "2024-07-07T15:27:55.648Z"
   },
   {
    "duration": 57,
    "start_time": "2024-07-07T15:27:55.656Z"
   },
   {
    "duration": 3,
    "start_time": "2024-07-07T15:27:55.716Z"
   },
   {
    "duration": 33,
    "start_time": "2024-07-07T15:27:55.943Z"
   },
   {
    "duration": 196,
    "start_time": "2024-07-07T15:27:57.015Z"
   },
   {
    "duration": 431,
    "start_time": "2024-07-07T15:31:31.696Z"
   },
   {
    "duration": 6,
    "start_time": "2024-07-07T15:31:35.979Z"
   },
   {
    "duration": 15,
    "start_time": "2024-07-07T15:31:39.245Z"
   },
   {
    "duration": 14,
    "start_time": "2024-07-07T15:31:39.771Z"
   },
   {
    "duration": 23,
    "start_time": "2024-07-07T15:31:41.280Z"
   },
   {
    "duration": 26,
    "start_time": "2024-07-07T15:32:22.551Z"
   },
   {
    "duration": 25,
    "start_time": "2024-07-07T15:32:29.483Z"
   },
   {
    "duration": 26,
    "start_time": "2024-07-07T15:33:10.333Z"
   },
   {
    "duration": 24,
    "start_time": "2024-07-07T15:33:34.888Z"
   },
   {
    "duration": 23,
    "start_time": "2024-07-07T15:33:41.630Z"
   },
   {
    "duration": 5,
    "start_time": "2024-07-07T16:20:43.286Z"
   },
   {
    "duration": 12,
    "start_time": "2024-07-07T16:20:44.311Z"
   },
   {
    "duration": 7,
    "start_time": "2024-07-07T16:20:44.994Z"
   },
   {
    "duration": 13,
    "start_time": "2024-07-07T16:20:45.620Z"
   },
   {
    "duration": 16,
    "start_time": "2024-07-07T16:20:46.285Z"
   },
   {
    "duration": 5,
    "start_time": "2024-07-07T16:20:47.145Z"
   },
   {
    "duration": 14,
    "start_time": "2024-07-07T16:20:47.775Z"
   },
   {
    "duration": 4,
    "start_time": "2024-07-07T16:20:49.372Z"
   },
   {
    "duration": 37,
    "start_time": "2024-07-07T16:20:50.095Z"
   },
   {
    "duration": 185,
    "start_time": "2024-07-07T16:20:53.065Z"
   },
   {
    "duration": 21,
    "start_time": "2024-07-07T16:21:16.855Z"
   },
   {
    "duration": 21,
    "start_time": "2024-07-07T16:21:19.767Z"
   },
   {
    "duration": 9,
    "start_time": "2024-07-07T16:21:22.376Z"
   },
   {
    "duration": 31,
    "start_time": "2024-07-07T16:23:36.681Z"
   },
   {
    "duration": 32,
    "start_time": "2024-07-07T16:23:41.535Z"
   },
   {
    "duration": 993,
    "start_time": "2024-07-07T16:24:08.261Z"
   },
   {
    "duration": 156,
    "start_time": "2024-07-07T16:24:32.304Z"
   },
   {
    "duration": 20,
    "start_time": "2024-07-07T16:25:23.706Z"
   },
   {
    "duration": 9,
    "start_time": "2024-07-07T16:25:30.574Z"
   },
   {
    "duration": 10,
    "start_time": "2024-07-07T16:25:49.571Z"
   },
   {
    "duration": 237,
    "start_time": "2024-07-07T16:26:05.883Z"
   },
   {
    "duration": 450,
    "start_time": "2024-07-07T16:26:13.281Z"
   },
   {
    "duration": 219,
    "start_time": "2024-07-07T16:26:21.434Z"
   },
   {
    "duration": 8,
    "start_time": "2024-07-07T16:26:31.501Z"
   },
   {
    "duration": 13,
    "start_time": "2024-07-07T16:26:36.110Z"
   },
   {
    "duration": 260,
    "start_time": "2024-07-07T16:26:56.818Z"
   },
   {
    "duration": 163,
    "start_time": "2024-07-07T16:27:03.223Z"
   },
   {
    "duration": 158,
    "start_time": "2024-07-07T16:27:10.690Z"
   },
   {
    "duration": 179,
    "start_time": "2024-07-07T16:28:23.347Z"
   },
   {
    "duration": 7,
    "start_time": "2024-07-07T16:29:00.064Z"
   },
   {
    "duration": 148,
    "start_time": "2024-07-07T16:29:07.036Z"
   },
   {
    "duration": 149,
    "start_time": "2024-07-07T16:29:15.664Z"
   },
   {
    "duration": 156,
    "start_time": "2024-07-07T16:29:50.875Z"
   },
   {
    "duration": 176,
    "start_time": "2024-07-07T16:30:34.882Z"
   },
   {
    "duration": 159,
    "start_time": "2024-07-07T16:30:55.588Z"
   },
   {
    "duration": 160,
    "start_time": "2024-07-07T16:31:00.744Z"
   },
   {
    "duration": 316,
    "start_time": "2024-07-07T16:32:24.920Z"
   },
   {
    "duration": 157,
    "start_time": "2024-07-07T16:32:30.696Z"
   },
   {
    "duration": 186,
    "start_time": "2024-07-07T16:33:17.584Z"
   },
   {
    "duration": 158,
    "start_time": "2024-07-07T16:33:22.115Z"
   },
   {
    "duration": 29,
    "start_time": "2024-07-07T16:33:57.525Z"
   },
   {
    "duration": 518,
    "start_time": "2024-07-07T16:34:05.904Z"
   },
   {
    "duration": 219,
    "start_time": "2024-07-07T16:34:15.171Z"
   },
   {
    "duration": 7,
    "start_time": "2024-07-07T16:34:47.446Z"
   },
   {
    "duration": 6,
    "start_time": "2024-07-07T16:34:50.123Z"
   },
   {
    "duration": 7,
    "start_time": "2024-07-07T16:34:55.795Z"
   },
   {
    "duration": 24,
    "start_time": "2024-07-07T16:35:21.761Z"
   },
   {
    "duration": 473,
    "start_time": "2024-07-07T16:35:25.718Z"
   },
   {
    "duration": 359,
    "start_time": "2024-07-07T16:35:34.362Z"
   },
   {
    "duration": 8,
    "start_time": "2024-07-07T16:37:32.795Z"
   },
   {
    "duration": 435,
    "start_time": "2024-07-07T16:37:36.613Z"
   },
   {
    "duration": 190,
    "start_time": "2024-07-07T16:37:41.872Z"
   },
   {
    "duration": 238,
    "start_time": "2024-07-07T16:37:49.135Z"
   },
   {
    "duration": 206,
    "start_time": "2024-07-07T16:37:59.968Z"
   },
   {
    "duration": 22,
    "start_time": "2024-07-07T16:38:25.942Z"
   },
   {
    "duration": 8,
    "start_time": "2024-07-07T16:38:46.515Z"
   },
   {
    "duration": 10,
    "start_time": "2024-07-07T16:38:49.406Z"
   },
   {
    "duration": 17,
    "start_time": "2024-07-07T16:38:54.774Z"
   },
   {
    "duration": 9,
    "start_time": "2024-07-07T16:39:09.038Z"
   },
   {
    "duration": 178,
    "start_time": "2024-07-07T16:39:18.139Z"
   },
   {
    "duration": 184,
    "start_time": "2024-07-07T16:39:24.153Z"
   },
   {
    "duration": 341,
    "start_time": "2024-07-07T16:39:34.668Z"
   },
   {
    "duration": 178,
    "start_time": "2024-07-07T16:39:39.334Z"
   },
   {
    "duration": 202,
    "start_time": "2024-07-07T16:39:49.044Z"
   },
   {
    "duration": 281,
    "start_time": "2024-07-07T16:40:16.084Z"
   },
   {
    "duration": 269,
    "start_time": "2024-07-07T16:41:02.028Z"
   },
   {
    "duration": 8,
    "start_time": "2024-07-07T16:43:52.090Z"
   },
   {
    "duration": 273,
    "start_time": "2024-07-07T16:45:04.402Z"
   },
   {
    "duration": 9,
    "start_time": "2024-07-07T16:45:35.696Z"
   },
   {
    "duration": 7,
    "start_time": "2024-07-07T16:45:41.762Z"
   },
   {
    "duration": 6,
    "start_time": "2024-07-07T16:45:49.385Z"
   },
   {
    "duration": 9,
    "start_time": "2024-07-07T16:45:57.561Z"
   },
   {
    "duration": 269,
    "start_time": "2024-07-07T16:46:04.401Z"
   },
   {
    "duration": 273,
    "start_time": "2024-07-07T16:46:11.900Z"
   },
   {
    "duration": 303,
    "start_time": "2024-07-07T16:46:26.747Z"
   },
   {
    "duration": 272,
    "start_time": "2024-07-07T16:46:31.715Z"
   },
   {
    "duration": 4926,
    "start_time": "2024-07-07T16:47:18.832Z"
   },
   {
    "duration": 3,
    "start_time": "2024-07-07T16:50:17.587Z"
   },
   {
    "duration": 6,
    "start_time": "2024-07-07T16:50:22.054Z"
   },
   {
    "duration": 14,
    "start_time": "2024-07-07T16:50:23.097Z"
   },
   {
    "duration": 15,
    "start_time": "2024-07-07T16:50:25.153Z"
   },
   {
    "duration": 22,
    "start_time": "2024-07-07T16:50:47.742Z"
   },
   {
    "duration": 22,
    "start_time": "2024-07-07T16:50:53.328Z"
   },
   {
    "duration": 23,
    "start_time": "2024-07-07T16:50:58.756Z"
   },
   {
    "duration": 6,
    "start_time": "2024-07-07T16:51:22.295Z"
   },
   {
    "duration": 24,
    "start_time": "2024-07-07T16:51:31.785Z"
   },
   {
    "duration": 23,
    "start_time": "2024-07-07T16:51:41.610Z"
   },
   {
    "duration": 25,
    "start_time": "2024-07-07T16:52:06.558Z"
   },
   {
    "duration": 26,
    "start_time": "2024-07-07T16:52:27.736Z"
   },
   {
    "duration": 16,
    "start_time": "2024-07-07T16:52:32.281Z"
   },
   {
    "duration": 17,
    "start_time": "2024-07-07T16:52:32.770Z"
   },
   {
    "duration": 25,
    "start_time": "2024-07-07T16:52:34.242Z"
   },
   {
    "duration": 48,
    "start_time": "2024-07-07T16:52:40.879Z"
   },
   {
    "duration": 5565,
    "start_time": "2024-07-07T22:49:26.590Z"
   },
   {
    "duration": 14,
    "start_time": "2024-07-07T22:49:32.160Z"
   },
   {
    "duration": 6,
    "start_time": "2024-07-07T22:49:32.176Z"
   },
   {
    "duration": 19,
    "start_time": "2024-07-07T22:49:32.588Z"
   },
   {
    "duration": 17,
    "start_time": "2024-07-07T22:49:32.742Z"
   },
   {
    "duration": 8,
    "start_time": "2024-07-07T22:49:33.279Z"
   },
   {
    "duration": 14,
    "start_time": "2024-07-07T22:49:33.709Z"
   },
   {
    "duration": 2,
    "start_time": "2024-07-07T22:49:34.274Z"
   },
   {
    "duration": 33,
    "start_time": "2024-07-07T22:49:35.268Z"
   },
   {
    "duration": 252,
    "start_time": "2024-07-07T22:49:36.446Z"
   },
   {
    "duration": 153,
    "start_time": "2024-07-07T22:49:37.044Z"
   },
   {
    "duration": 148,
    "start_time": "2024-07-07T22:49:37.537Z"
   },
   {
    "duration": 166,
    "start_time": "2024-07-07T22:49:37.924Z"
   },
   {
    "duration": 291,
    "start_time": "2024-07-07T22:49:38.263Z"
   },
   {
    "duration": 8,
    "start_time": "2024-07-07T22:49:39.098Z"
   },
   {
    "duration": 4924,
    "start_time": "2024-07-07T22:49:44.331Z"
   },
   {
    "duration": 5,
    "start_time": "2024-07-07T22:55:01.123Z"
   },
   {
    "duration": 6,
    "start_time": "2024-07-07T22:56:11.218Z"
   },
   {
    "duration": 6,
    "start_time": "2024-07-07T22:57:13.065Z"
   },
   {
    "duration": 14,
    "start_time": "2024-07-07T22:57:14.269Z"
   },
   {
    "duration": 410,
    "start_time": "2024-07-07T22:57:39.653Z"
   },
   {
    "duration": 23,
    "start_time": "2024-07-07T22:57:45.812Z"
   },
   {
    "duration": 21,
    "start_time": "2024-07-07T22:58:36.711Z"
   },
   {
    "duration": 19,
    "start_time": "2024-07-07T22:58:56.171Z"
   },
   {
    "duration": 24,
    "start_time": "2024-07-07T22:59:03.115Z"
   },
   {
    "duration": 20,
    "start_time": "2024-07-07T22:59:09.921Z"
   },
   {
    "duration": 18,
    "start_time": "2024-07-07T22:59:17.659Z"
   },
   {
    "duration": 18,
    "start_time": "2024-07-07T22:59:21.244Z"
   },
   {
    "duration": 22,
    "start_time": "2024-07-07T22:59:59.468Z"
   },
   {
    "duration": 18,
    "start_time": "2024-07-07T23:05:57.243Z"
   },
   {
    "duration": 18,
    "start_time": "2024-07-07T23:06:00.251Z"
   },
   {
    "duration": 26,
    "start_time": "2024-07-07T23:06:09.484Z"
   },
   {
    "duration": 27,
    "start_time": "2024-07-07T23:06:12.475Z"
   },
   {
    "duration": 23,
    "start_time": "2024-07-07T23:06:22.182Z"
   },
   {
    "duration": 28,
    "start_time": "2024-07-07T23:06:33.177Z"
   },
   {
    "duration": 301,
    "start_time": "2024-07-07T23:07:29.985Z"
   },
   {
    "duration": 301,
    "start_time": "2024-07-07T23:08:03.577Z"
   },
   {
    "duration": 481,
    "start_time": "2024-07-07T23:08:15.112Z"
   },
   {
    "duration": 16,
    "start_time": "2024-07-07T23:09:16.830Z"
   },
   {
    "duration": 24,
    "start_time": "2024-07-07T23:09:26.201Z"
   },
   {
    "duration": 38,
    "start_time": "2024-07-07T23:10:00.065Z"
   },
   {
    "duration": 44,
    "start_time": "2024-07-07T23:10:39.326Z"
   },
   {
    "duration": 39,
    "start_time": "2024-07-07T23:11:52.928Z"
   },
   {
    "duration": 23,
    "start_time": "2024-07-07T23:24:10.677Z"
   },
   {
    "duration": 38,
    "start_time": "2024-07-07T23:37:44.827Z"
   },
   {
    "duration": 40,
    "start_time": "2024-07-07T23:37:59.050Z"
   },
   {
    "duration": 23,
    "start_time": "2024-07-07T23:38:36.593Z"
   },
   {
    "duration": 22,
    "start_time": "2024-07-07T23:38:56.045Z"
   },
   {
    "duration": 33,
    "start_time": "2024-07-07T23:39:25.840Z"
   },
   {
    "duration": 38,
    "start_time": "2024-07-07T23:39:30.420Z"
   },
   {
    "duration": 11,
    "start_time": "2024-07-07T23:46:00.697Z"
   },
   {
    "duration": 7,
    "start_time": "2024-07-07T23:46:13.672Z"
   },
   {
    "duration": 8,
    "start_time": "2024-07-07T23:46:26.251Z"
   },
   {
    "duration": 5,
    "start_time": "2024-07-07T23:46:41.249Z"
   },
   {
    "duration": 7,
    "start_time": "2024-07-07T23:46:46.811Z"
   },
   {
    "duration": 5,
    "start_time": "2024-07-07T23:46:50.804Z"
   },
   {
    "duration": 5,
    "start_time": "2024-07-07T23:47:03.693Z"
   },
   {
    "duration": 6,
    "start_time": "2024-07-07T23:49:15.004Z"
   },
   {
    "duration": 118,
    "start_time": "2024-07-08T00:05:13.500Z"
   },
   {
    "duration": 34,
    "start_time": "2024-07-08T00:05:18.305Z"
   },
   {
    "duration": 16,
    "start_time": "2024-07-08T00:05:28.324Z"
   },
   {
    "duration": 7,
    "start_time": "2024-07-08T00:05:44.630Z"
   },
   {
    "duration": 17,
    "start_time": "2024-07-08T00:05:54.088Z"
   },
   {
    "duration": 17,
    "start_time": "2024-07-08T00:08:03.669Z"
   },
   {
    "duration": 8,
    "start_time": "2024-07-08T00:08:15.072Z"
   },
   {
    "duration": 6,
    "start_time": "2024-07-08T00:08:28.502Z"
   },
   {
    "duration": 8,
    "start_time": "2024-07-08T00:08:35.332Z"
   },
   {
    "duration": 7,
    "start_time": "2024-07-08T00:08:40.440Z"
   },
   {
    "duration": 7,
    "start_time": "2024-07-08T00:08:48.319Z"
   },
   {
    "duration": 11,
    "start_time": "2024-07-08T00:11:32.933Z"
   },
   {
    "duration": 16,
    "start_time": "2024-07-08T00:12:09.670Z"
   },
   {
    "duration": 14,
    "start_time": "2024-07-08T00:12:34.346Z"
   },
   {
    "duration": 8,
    "start_time": "2024-07-08T00:13:03.965Z"
   },
   {
    "duration": 6,
    "start_time": "2024-07-08T00:13:07.091Z"
   },
   {
    "duration": 8,
    "start_time": "2024-07-08T00:13:27.516Z"
   },
   {
    "duration": 6,
    "start_time": "2024-07-08T00:14:45.620Z"
   },
   {
    "duration": 7,
    "start_time": "2024-07-08T00:15:28.777Z"
   },
   {
    "duration": 5,
    "start_time": "2024-07-08T00:15:48.760Z"
   },
   {
    "duration": 21,
    "start_time": "2024-07-08T00:15:55.426Z"
   },
   {
    "duration": 10,
    "start_time": "2024-07-08T00:16:13.906Z"
   },
   {
    "duration": 9,
    "start_time": "2024-07-08T00:16:19.581Z"
   },
   {
    "duration": 6,
    "start_time": "2024-07-08T00:16:29.860Z"
   },
   {
    "duration": 10,
    "start_time": "2024-07-08T00:19:03.826Z"
   },
   {
    "duration": 4,
    "start_time": "2024-07-08T00:19:04.857Z"
   },
   {
    "duration": 8,
    "start_time": "2024-07-08T00:19:07.385Z"
   },
   {
    "duration": 325,
    "start_time": "2024-07-08T00:30:47.793Z"
   },
   {
    "duration": 24,
    "start_time": "2024-07-08T00:30:51.684Z"
   },
   {
    "duration": 1561,
    "start_time": "2024-07-08T00:30:58.619Z"
   },
   {
    "duration": 12,
    "start_time": "2024-07-08T00:31:00.183Z"
   },
   {
    "duration": 5,
    "start_time": "2024-07-08T00:31:00.205Z"
   },
   {
    "duration": 18,
    "start_time": "2024-07-08T00:31:00.214Z"
   },
   {
    "duration": 15,
    "start_time": "2024-07-08T00:31:00.235Z"
   },
   {
    "duration": 6,
    "start_time": "2024-07-08T00:31:00.253Z"
   },
   {
    "duration": 55,
    "start_time": "2024-07-08T00:31:00.262Z"
   },
   {
    "duration": 4,
    "start_time": "2024-07-08T00:31:00.320Z"
   },
   {
    "duration": 42,
    "start_time": "2024-07-08T00:31:00.328Z"
   },
   {
    "duration": 216,
    "start_time": "2024-07-08T00:31:00.410Z"
   },
   {
    "duration": 190,
    "start_time": "2024-07-08T00:31:00.629Z"
   },
   {
    "duration": 160,
    "start_time": "2024-07-08T00:31:00.822Z"
   },
   {
    "duration": 167,
    "start_time": "2024-07-08T00:31:00.985Z"
   },
   {
    "duration": 286,
    "start_time": "2024-07-08T00:31:01.155Z"
   },
   {
    "duration": 9,
    "start_time": "2024-07-08T00:31:01.444Z"
   },
   {
    "duration": 4909,
    "start_time": "2024-07-08T00:31:01.458Z"
   },
   {
    "duration": 3,
    "start_time": "2024-07-08T00:31:06.370Z"
   },
   {
    "duration": 7,
    "start_time": "2024-07-08T00:31:06.376Z"
   },
   {
    "duration": 22,
    "start_time": "2024-07-08T00:31:06.386Z"
   },
   {
    "duration": 15,
    "start_time": "2024-07-08T00:31:06.410Z"
   },
   {
    "duration": 134,
    "start_time": "2024-07-08T00:31:06.429Z"
   },
   {
    "duration": 60,
    "start_time": "2024-07-08T00:31:06.566Z"
   },
   {
    "duration": 24,
    "start_time": "2024-07-08T00:31:06.629Z"
   },
   {
    "duration": 74,
    "start_time": "2024-07-08T00:31:06.656Z"
   },
   {
    "duration": 7,
    "start_time": "2024-07-08T00:31:06.737Z"
   },
   {
    "duration": 5,
    "start_time": "2024-07-08T00:31:14.913Z"
   },
   {
    "duration": 7,
    "start_time": "2024-07-08T00:31:22.675Z"
   },
   {
    "duration": 8,
    "start_time": "2024-07-08T00:36:15.486Z"
   },
   {
    "duration": 5,
    "start_time": "2024-07-08T00:36:42.817Z"
   },
   {
    "duration": 4,
    "start_time": "2024-07-08T00:36:45.324Z"
   },
   {
    "duration": 7,
    "start_time": "2024-07-08T00:36:56.085Z"
   },
   {
    "duration": 891,
    "start_time": "2024-07-08T00:37:46.464Z"
   },
   {
    "duration": 5,
    "start_time": "2024-07-08T00:38:54.449Z"
   },
   {
    "duration": 10,
    "start_time": "2024-07-08T00:38:57.748Z"
   },
   {
    "duration": 78,
    "start_time": "2024-07-08T00:39:09.615Z"
   },
   {
    "duration": 9,
    "start_time": "2024-07-08T00:39:20.984Z"
   },
   {
    "duration": 20,
    "start_time": "2024-07-08T00:39:41.429Z"
   },
   {
    "duration": 7,
    "start_time": "2024-07-08T00:39:56.137Z"
   },
   {
    "duration": 7,
    "start_time": "2024-07-08T00:39:59.853Z"
   },
   {
    "duration": 8,
    "start_time": "2024-07-08T00:40:02.405Z"
   },
   {
    "duration": 5,
    "start_time": "2024-07-08T00:40:11.957Z"
   },
   {
    "duration": 9,
    "start_time": "2024-07-08T00:40:12.460Z"
   },
   {
    "duration": 7,
    "start_time": "2024-07-08T00:40:18.053Z"
   },
   {
    "duration": 5,
    "start_time": "2024-07-08T00:40:33.309Z"
   },
   {
    "duration": 8,
    "start_time": "2024-07-08T00:40:33.717Z"
   },
   {
    "duration": 4,
    "start_time": "2024-07-08T00:40:38.549Z"
   },
   {
    "duration": 8,
    "start_time": "2024-07-08T00:40:44.629Z"
   },
   {
    "duration": 5,
    "start_time": "2024-07-08T00:40:49.940Z"
   },
   {
    "duration": 4,
    "start_time": "2024-07-08T00:40:50.306Z"
   },
   {
    "duration": 38,
    "start_time": "2024-07-08T00:40:51.063Z"
   },
   {
    "duration": 5851,
    "start_time": "2024-07-08T22:28:14.831Z"
   },
   {
    "duration": 19,
    "start_time": "2024-07-08T22:28:20.686Z"
   },
   {
    "duration": 15,
    "start_time": "2024-07-08T22:28:20.708Z"
   },
   {
    "duration": 21,
    "start_time": "2024-07-08T22:28:20.730Z"
   },
   {
    "duration": 18,
    "start_time": "2024-07-08T22:28:20.755Z"
   },
   {
    "duration": 6,
    "start_time": "2024-07-08T22:28:20.777Z"
   },
   {
    "duration": 56,
    "start_time": "2024-07-08T22:28:20.786Z"
   },
   {
    "duration": 4,
    "start_time": "2024-07-08T22:28:20.846Z"
   },
   {
    "duration": 82,
    "start_time": "2024-07-08T22:28:20.853Z"
   },
   {
    "duration": 247,
    "start_time": "2024-07-08T22:28:20.942Z"
   },
   {
    "duration": 214,
    "start_time": "2024-07-08T22:28:21.193Z"
   },
   {
    "duration": 189,
    "start_time": "2024-07-08T22:28:21.410Z"
   },
   {
    "duration": 273,
    "start_time": "2024-07-08T22:28:21.602Z"
   },
   {
    "duration": 320,
    "start_time": "2024-07-08T22:28:21.877Z"
   },
   {
    "duration": 26,
    "start_time": "2024-07-08T22:28:22.200Z"
   },
   {
    "duration": 5583,
    "start_time": "2024-07-08T22:28:22.229Z"
   },
   {
    "duration": 4,
    "start_time": "2024-07-08T22:28:27.816Z"
   },
   {
    "duration": 8,
    "start_time": "2024-07-08T22:28:27.827Z"
   },
   {
    "duration": 16,
    "start_time": "2024-07-08T22:28:27.839Z"
   },
   {
    "duration": 17,
    "start_time": "2024-07-08T22:28:27.858Z"
   },
   {
    "duration": 70,
    "start_time": "2024-07-08T22:28:27.879Z"
   },
   {
    "duration": 41,
    "start_time": "2024-07-08T22:28:33.647Z"
   },
   {
    "duration": 42,
    "start_time": "2024-07-08T22:28:35.115Z"
   },
   {
    "duration": 59,
    "start_time": "2024-07-08T22:28:35.931Z"
   },
   {
    "duration": 9,
    "start_time": "2024-07-08T22:28:37.579Z"
   },
   {
    "duration": 15,
    "start_time": "2024-07-08T22:28:41.177Z"
   },
   {
    "duration": 5,
    "start_time": "2024-07-08T22:29:12.664Z"
   },
   {
    "duration": 7,
    "start_time": "2024-07-08T22:29:13.586Z"
   },
   {
    "duration": 1403,
    "start_time": "2024-07-08T22:29:14.616Z"
   },
   {
    "duration": 7,
    "start_time": "2024-07-08T22:29:24.241Z"
   },
   {
    "duration": 9,
    "start_time": "2024-07-08T22:29:24.608Z"
   },
   {
    "duration": 6,
    "start_time": "2024-07-08T22:29:25.362Z"
   },
   {
    "duration": 5,
    "start_time": "2024-07-08T22:29:26.007Z"
   },
   {
    "duration": 41,
    "start_time": "2024-07-08T22:29:26.660Z"
   },
   {
    "duration": 27,
    "start_time": "2024-07-08T22:31:24.716Z"
   },
   {
    "duration": 7,
    "start_time": "2024-07-08T22:31:31.257Z"
   },
   {
    "duration": 7,
    "start_time": "2024-07-08T22:31:31.761Z"
   },
   {
    "duration": 5,
    "start_time": "2024-07-08T22:31:36.845Z"
   },
   {
    "duration": 39,
    "start_time": "2024-07-08T22:31:37.668Z"
   },
   {
    "duration": 7,
    "start_time": "2024-07-08T22:31:41.589Z"
   },
   {
    "duration": 8,
    "start_time": "2024-07-08T22:32:52.992Z"
   },
   {
    "duration": 10,
    "start_time": "2024-07-08T22:33:00.112Z"
   },
   {
    "duration": 5,
    "start_time": "2024-07-08T22:33:37.762Z"
   },
   {
    "duration": 5,
    "start_time": "2024-07-08T22:33:38.640Z"
   },
   {
    "duration": 41,
    "start_time": "2024-07-08T22:33:40.028Z"
   },
   {
    "duration": 8,
    "start_time": "2024-07-08T22:34:09.564Z"
   },
   {
    "duration": 11,
    "start_time": "2024-07-08T22:35:39.937Z"
   },
   {
    "duration": 7,
    "start_time": "2024-07-08T22:36:03.838Z"
   },
   {
    "duration": 4,
    "start_time": "2024-07-08T22:36:06.962Z"
   },
   {
    "duration": 177,
    "start_time": "2024-07-08T22:36:11.048Z"
   },
   {
    "duration": 7,
    "start_time": "2024-07-08T22:37:08.231Z"
   },
   {
    "duration": 4,
    "start_time": "2024-07-08T22:37:23.356Z"
   },
   {
    "duration": 24,
    "start_time": "2024-07-08T22:37:25.149Z"
   },
   {
    "duration": 5,
    "start_time": "2024-07-08T22:37:48.511Z"
   },
   {
    "duration": 4,
    "start_time": "2024-07-08T22:37:48.936Z"
   },
   {
    "duration": 5,
    "start_time": "2024-07-08T22:37:50.667Z"
   },
   {
    "duration": 6,
    "start_time": "2024-07-08T22:38:45.193Z"
   },
   {
    "duration": 41,
    "start_time": "2024-07-08T23:52:07.278Z"
   },
   {
    "duration": 7,
    "start_time": "2024-07-08T23:52:30.207Z"
   },
   {
    "duration": 5,
    "start_time": "2024-07-08T23:52:32.963Z"
   },
   {
    "duration": 6,
    "start_time": "2024-07-08T23:52:35.004Z"
   },
   {
    "duration": 6,
    "start_time": "2024-07-08T23:52:36.523Z"
   },
   {
    "duration": 1819,
    "start_time": "2024-07-08T23:52:46.677Z"
   },
   {
    "duration": 13,
    "start_time": "2024-07-08T23:52:48.500Z"
   },
   {
    "duration": 6,
    "start_time": "2024-07-08T23:52:48.524Z"
   },
   {
    "duration": 22,
    "start_time": "2024-07-08T23:52:48.536Z"
   },
   {
    "duration": 22,
    "start_time": "2024-07-08T23:52:48.561Z"
   },
   {
    "duration": 6,
    "start_time": "2024-07-08T23:52:48.623Z"
   },
   {
    "duration": 17,
    "start_time": "2024-07-08T23:52:48.633Z"
   },
   {
    "duration": 4,
    "start_time": "2024-07-08T23:52:48.654Z"
   },
   {
    "duration": 80,
    "start_time": "2024-07-08T23:52:48.661Z"
   },
   {
    "duration": 253,
    "start_time": "2024-07-08T23:52:48.748Z"
   },
   {
    "duration": 204,
    "start_time": "2024-07-08T23:52:49.005Z"
   },
   {
    "duration": 183,
    "start_time": "2024-07-08T23:52:49.222Z"
   },
   {
    "duration": 194,
    "start_time": "2024-07-08T23:52:49.409Z"
   },
   {
    "duration": 360,
    "start_time": "2024-07-08T23:52:49.607Z"
   },
   {
    "duration": 12,
    "start_time": "2024-07-08T23:52:49.971Z"
   },
   {
    "duration": 5657,
    "start_time": "2024-07-08T23:52:49.987Z"
   },
   {
    "duration": 4,
    "start_time": "2024-07-08T23:52:55.647Z"
   },
   {
    "duration": 9,
    "start_time": "2024-07-08T23:52:55.654Z"
   },
   {
    "duration": 18,
    "start_time": "2024-07-08T23:52:55.668Z"
   },
   {
    "duration": 47,
    "start_time": "2024-07-08T23:52:55.690Z"
   },
   {
    "duration": 33,
    "start_time": "2024-07-08T23:52:55.740Z"
   },
   {
    "duration": 72,
    "start_time": "2024-07-08T23:52:55.776Z"
   },
   {
    "duration": 30,
    "start_time": "2024-07-08T23:52:55.852Z"
   },
   {
    "duration": 75,
    "start_time": "2024-07-08T23:52:55.886Z"
   },
   {
    "duration": 10,
    "start_time": "2024-07-08T23:52:55.965Z"
   },
   {
    "duration": 9,
    "start_time": "2024-07-08T23:52:55.980Z"
   },
   {
    "duration": 37,
    "start_time": "2024-07-08T23:52:55.993Z"
   },
   {
    "duration": 7,
    "start_time": "2024-07-08T23:52:56.038Z"
   },
   {
    "duration": 9,
    "start_time": "2024-07-08T23:52:56.049Z"
   },
   {
    "duration": 7,
    "start_time": "2024-07-08T23:52:56.062Z"
   },
   {
    "duration": 53,
    "start_time": "2024-07-08T23:52:56.073Z"
   },
   {
    "duration": 48,
    "start_time": "2024-07-08T23:52:56.129Z"
   },
   {
    "duration": 40,
    "start_time": "2024-07-08T23:52:56.182Z"
   },
   {
    "duration": 9,
    "start_time": "2024-07-08T23:52:56.226Z"
   },
   {
    "duration": 9,
    "start_time": "2024-07-08T23:52:56.238Z"
   },
   {
    "duration": 73,
    "start_time": "2024-07-08T23:52:56.250Z"
   },
   {
    "duration": 8,
    "start_time": "2024-07-08T23:52:56.326Z"
   },
   {
    "duration": 7,
    "start_time": "2024-07-08T23:52:56.337Z"
   },
   {
    "duration": 74,
    "start_time": "2024-07-08T23:52:56.348Z"
   },
   {
    "duration": 12,
    "start_time": "2024-07-08T23:52:56.425Z"
   },
   {
    "duration": 7,
    "start_time": "2024-07-08T23:54:52.633Z"
   },
   {
    "duration": 6,
    "start_time": "2024-07-08T23:55:01.337Z"
   },
   {
    "duration": 7,
    "start_time": "2024-07-08T23:55:04.705Z"
   },
   {
    "duration": 12,
    "start_time": "2024-07-08T23:56:57.894Z"
   },
   {
    "duration": 9,
    "start_time": "2024-07-08T23:57:24.238Z"
   },
   {
    "duration": 5,
    "start_time": "2024-07-08T23:58:27.875Z"
   },
   {
    "duration": 5,
    "start_time": "2024-07-09T00:02:33.679Z"
   },
   {
    "duration": 8,
    "start_time": "2024-07-09T00:02:52.125Z"
   },
   {
    "duration": 5,
    "start_time": "2024-07-09T00:03:15.711Z"
   },
   {
    "duration": 23,
    "start_time": "2024-07-09T00:03:23.725Z"
   },
   {
    "duration": 6,
    "start_time": "2024-07-09T00:26:55.338Z"
   },
   {
    "duration": 701,
    "start_time": "2024-07-09T00:27:53.647Z"
   },
   {
    "duration": 11,
    "start_time": "2024-07-09T00:35:47.651Z"
   },
   {
    "duration": 12,
    "start_time": "2024-07-09T00:35:48.484Z"
   },
   {
    "duration": 13,
    "start_time": "2024-07-09T00:35:49.141Z"
   },
   {
    "duration": 28,
    "start_time": "2024-07-09T00:35:49.422Z"
   },
   {
    "duration": 27,
    "start_time": "2024-07-09T00:35:49.745Z"
   },
   {
    "duration": 7,
    "start_time": "2024-07-09T00:35:50.044Z"
   },
   {
    "duration": 25,
    "start_time": "2024-07-09T00:35:50.350Z"
   },
   {
    "duration": 10,
    "start_time": "2024-07-09T00:35:50.609Z"
   },
   {
    "duration": 52,
    "start_time": "2024-07-09T00:35:50.912Z"
   },
   {
    "duration": 253,
    "start_time": "2024-07-09T00:35:51.170Z"
   },
   {
    "duration": 225,
    "start_time": "2024-07-09T00:35:51.490Z"
   },
   {
    "duration": 264,
    "start_time": "2024-07-09T00:35:51.752Z"
   },
   {
    "duration": 259,
    "start_time": "2024-07-09T00:35:52.024Z"
   },
   {
    "duration": 408,
    "start_time": "2024-07-09T00:35:52.289Z"
   },
   {
    "duration": 15,
    "start_time": "2024-07-09T00:35:52.761Z"
   },
   {
    "duration": 7289,
    "start_time": "2024-07-09T00:35:53.881Z"
   },
   {
    "duration": 10,
    "start_time": "2024-07-09T00:36:54.795Z"
   },
   {
    "duration": 18,
    "start_time": "2024-07-09T00:36:55.678Z"
   },
   {
    "duration": 7,
    "start_time": "2024-07-09T00:40:22.593Z"
   },
   {
    "duration": 22,
    "start_time": "2024-07-09T00:40:22.944Z"
   },
   {
    "duration": 9,
    "start_time": "2024-07-09T00:40:24.575Z"
   },
   {
    "duration": 20,
    "start_time": "2024-07-09T00:40:24.947Z"
   },
   {
    "duration": 13,
    "start_time": "2024-07-09T00:40:27.957Z"
   },
   {
    "duration": 10,
    "start_time": "2024-07-09T00:40:28.357Z"
   },
   {
    "duration": 56,
    "start_time": "2024-07-09T00:40:36.430Z"
   },
   {
    "duration": 9,
    "start_time": "2024-07-09T00:40:41.682Z"
   },
   {
    "duration": 13,
    "start_time": "2024-07-09T00:40:42.164Z"
   },
   {
    "duration": 16,
    "start_time": "2024-07-09T00:40:42.874Z"
   },
   {
    "duration": 14,
    "start_time": "2024-07-09T00:40:47.849Z"
   },
   {
    "duration": 5,
    "start_time": "2024-07-09T00:40:48.196Z"
   },
   {
    "duration": 11,
    "start_time": "2024-07-09T00:40:48.834Z"
   },
   {
    "duration": 7,
    "start_time": "2024-07-09T00:40:49.181Z"
   },
   {
    "duration": 25,
    "start_time": "2024-07-09T00:40:52.591Z"
   },
   {
    "duration": 5929,
    "start_time": "2024-07-09T22:36:09.957Z"
   },
   {
    "duration": 21,
    "start_time": "2024-07-09T22:36:15.890Z"
   },
   {
    "duration": 5,
    "start_time": "2024-07-09T22:36:15.915Z"
   },
   {
    "duration": 23,
    "start_time": "2024-07-09T22:36:15.928Z"
   },
   {
    "duration": 55,
    "start_time": "2024-07-09T22:36:15.955Z"
   },
   {
    "duration": 8,
    "start_time": "2024-07-09T22:36:16.014Z"
   },
   {
    "duration": 24,
    "start_time": "2024-07-09T22:36:16.026Z"
   },
   {
    "duration": 4,
    "start_time": "2024-07-09T22:36:16.053Z"
   },
   {
    "duration": 85,
    "start_time": "2024-07-09T22:36:16.061Z"
   },
   {
    "duration": 261,
    "start_time": "2024-07-09T22:36:16.154Z"
   },
   {
    "duration": 203,
    "start_time": "2024-07-09T22:36:16.420Z"
   },
   {
    "duration": 204,
    "start_time": "2024-07-09T22:36:16.627Z"
   },
   {
    "duration": 276,
    "start_time": "2024-07-09T22:36:16.836Z"
   },
   {
    "duration": 416,
    "start_time": "2024-07-09T22:36:17.116Z"
   },
   {
    "duration": 10,
    "start_time": "2024-07-09T22:36:17.537Z"
   },
   {
    "duration": 6079,
    "start_time": "2024-07-09T22:36:17.550Z"
   },
   {
    "duration": 4,
    "start_time": "2024-07-09T22:36:23.633Z"
   },
   {
    "duration": 9,
    "start_time": "2024-07-09T22:36:23.642Z"
   },
   {
    "duration": 19,
    "start_time": "2024-07-09T22:36:23.654Z"
   },
   {
    "duration": 41,
    "start_time": "2024-07-09T22:36:23.677Z"
   },
   {
    "duration": 34,
    "start_time": "2024-07-09T22:36:23.722Z"
   },
   {
    "duration": 82,
    "start_time": "2024-07-09T22:36:23.760Z"
   },
   {
    "duration": 40,
    "start_time": "2024-07-09T22:36:23.846Z"
   },
   {
    "duration": 56,
    "start_time": "2024-07-09T22:36:23.891Z"
   },
   {
    "duration": 10,
    "start_time": "2024-07-09T22:36:23.950Z"
   },
   {
    "duration": 7,
    "start_time": "2024-07-09T22:36:23.966Z"
   },
   {
    "duration": 39,
    "start_time": "2024-07-09T22:36:23.978Z"
   },
   {
    "duration": 7,
    "start_time": "2024-07-09T22:36:24.026Z"
   },
   {
    "duration": 11,
    "start_time": "2024-07-09T22:36:24.037Z"
   },
   {
    "duration": 7,
    "start_time": "2024-07-09T22:36:24.052Z"
   },
   {
    "duration": 6,
    "start_time": "2024-07-09T22:36:24.068Z"
   },
   {
    "duration": 8,
    "start_time": "2024-07-09T22:36:51.299Z"
   },
   {
    "duration": 8,
    "start_time": "2024-07-09T22:36:51.795Z"
   },
   {
    "duration": 6,
    "start_time": "2024-07-09T22:36:52.389Z"
   },
   {
    "duration": 13,
    "start_time": "2024-07-09T22:36:53.091Z"
   },
   {
    "duration": 7,
    "start_time": "2024-07-09T22:36:56.620Z"
   },
   {
    "duration": 6,
    "start_time": "2024-07-09T22:36:56.997Z"
   },
   {
    "duration": 7,
    "start_time": "2024-07-09T22:36:57.798Z"
   },
   {
    "duration": 7,
    "start_time": "2024-07-09T22:36:58.424Z"
   },
   {
    "duration": 609,
    "start_time": "2024-07-09T22:37:14.343Z"
   },
   {
    "duration": 31,
    "start_time": "2024-07-09T22:37:20.628Z"
   },
   {
    "duration": 34,
    "start_time": "2024-07-09T22:37:25.779Z"
   },
   {
    "duration": 7,
    "start_time": "2024-07-09T22:37:28.803Z"
   },
   {
    "duration": 82,
    "start_time": "2024-07-09T22:37:34.064Z"
   },
   {
    "duration": 39,
    "start_time": "2024-07-09T22:37:40.396Z"
   },
   {
    "duration": 41,
    "start_time": "2024-07-09T22:37:54.699Z"
   },
   {
    "duration": 21,
    "start_time": "2024-07-09T22:37:58.166Z"
   },
   {
    "duration": 4,
    "start_time": "2024-07-09T22:38:07.652Z"
   },
   {
    "duration": 9,
    "start_time": "2024-07-09T22:38:18.717Z"
   },
   {
    "duration": 7,
    "start_time": "2024-07-09T22:39:13.507Z"
   },
   {
    "duration": 34,
    "start_time": "2024-07-09T22:39:21.587Z"
   },
   {
    "duration": 184,
    "start_time": "2024-07-09T22:39:35.580Z"
   },
   {
    "duration": 67,
    "start_time": "2024-07-09T22:42:13.357Z"
   },
   {
    "duration": 9,
    "start_time": "2024-07-09T22:42:34.347Z"
   },
   {
    "duration": 12,
    "start_time": "2024-07-09T22:43:46.800Z"
   },
   {
    "duration": 8,
    "start_time": "2024-07-09T22:45:20.660Z"
   },
   {
    "duration": 48,
    "start_time": "2024-07-09T22:45:36.992Z"
   },
   {
    "duration": 63,
    "start_time": "2024-07-09T22:45:48.611Z"
   },
   {
    "duration": 6,
    "start_time": "2024-07-09T22:45:55.552Z"
   },
   {
    "duration": 5,
    "start_time": "2024-07-09T22:46:30.398Z"
   },
   {
    "duration": 7,
    "start_time": "2024-07-09T22:46:34.422Z"
   },
   {
    "duration": 9,
    "start_time": "2024-07-09T22:46:45.995Z"
   },
   {
    "duration": 10,
    "start_time": "2024-07-09T22:46:54.859Z"
   },
   {
    "duration": 10,
    "start_time": "2024-07-09T22:47:04.822Z"
   },
   {
    "duration": 15,
    "start_time": "2024-07-09T22:47:27.652Z"
   },
   {
    "duration": 20,
    "start_time": "2024-07-09T22:47:51.463Z"
   },
   {
    "duration": 6,
    "start_time": "2024-07-09T22:48:03.933Z"
   },
   {
    "duration": 5,
    "start_time": "2024-07-09T22:48:04.247Z"
   },
   {
    "duration": 5,
    "start_time": "2024-07-09T22:48:04.863Z"
   },
   {
    "duration": 9,
    "start_time": "2024-07-09T22:53:37.323Z"
   },
   {
    "duration": 8,
    "start_time": "2024-07-09T22:54:13.797Z"
   },
   {
    "duration": 10,
    "start_time": "2024-07-09T22:54:33.558Z"
   },
   {
    "duration": 14,
    "start_time": "2024-07-09T22:55:22.192Z"
   },
   {
    "duration": 8,
    "start_time": "2024-07-09T22:55:30.588Z"
   },
   {
    "duration": 5,
    "start_time": "2024-07-09T22:55:30.942Z"
   },
   {
    "duration": 19,
    "start_time": "2024-07-09T22:55:32.541Z"
   },
   {
    "duration": 11,
    "start_time": "2024-07-09T22:55:42.477Z"
   },
   {
    "duration": 42,
    "start_time": "2024-07-09T23:04:26.366Z"
   },
   {
    "duration": 116,
    "start_time": "2024-07-09T23:08:28.999Z"
   },
   {
    "duration": 7,
    "start_time": "2024-07-09T23:08:58.353Z"
   },
   {
    "duration": 69,
    "start_time": "2024-07-09T23:09:09.550Z"
   },
   {
    "duration": 7,
    "start_time": "2024-07-09T23:09:48.383Z"
   },
   {
    "duration": 33,
    "start_time": "2024-07-09T23:09:59.745Z"
   },
   {
    "duration": 30,
    "start_time": "2024-07-09T23:10:33.704Z"
   },
   {
    "duration": 31,
    "start_time": "2024-07-09T23:17:19.309Z"
   },
   {
    "duration": 32,
    "start_time": "2024-07-09T23:17:53.268Z"
   },
   {
    "duration": 9,
    "start_time": "2024-07-09T23:17:57.034Z"
   },
   {
    "duration": 9,
    "start_time": "2024-07-09T23:18:41.237Z"
   },
   {
    "duration": 7,
    "start_time": "2024-07-09T23:20:16.070Z"
   },
   {
    "duration": 6,
    "start_time": "2024-07-09T23:20:19.128Z"
   },
   {
    "duration": 1834,
    "start_time": "2024-07-09T23:20:27.751Z"
   },
   {
    "duration": 20,
    "start_time": "2024-07-09T23:20:29.590Z"
   },
   {
    "duration": 7,
    "start_time": "2024-07-09T23:20:29.613Z"
   },
   {
    "duration": 25,
    "start_time": "2024-07-09T23:20:29.627Z"
   },
   {
    "duration": 59,
    "start_time": "2024-07-09T23:20:29.656Z"
   },
   {
    "duration": 7,
    "start_time": "2024-07-09T23:20:29.719Z"
   },
   {
    "duration": 21,
    "start_time": "2024-07-09T23:20:29.731Z"
   },
   {
    "duration": 4,
    "start_time": "2024-07-09T23:20:29.756Z"
   },
   {
    "duration": 85,
    "start_time": "2024-07-09T23:20:29.765Z"
   },
   {
    "duration": 256,
    "start_time": "2024-07-09T23:20:29.858Z"
   },
   {
    "duration": 220,
    "start_time": "2024-07-09T23:20:30.119Z"
   },
   {
    "duration": 212,
    "start_time": "2024-07-09T23:20:30.345Z"
   },
   {
    "duration": 206,
    "start_time": "2024-07-09T23:20:30.560Z"
   },
   {
    "duration": 363,
    "start_time": "2024-07-09T23:20:30.769Z"
   },
   {
    "duration": 10,
    "start_time": "2024-07-09T23:20:31.137Z"
   },
   {
    "duration": 5928,
    "start_time": "2024-07-09T23:20:31.150Z"
   },
   {
    "duration": 5,
    "start_time": "2024-07-09T23:20:37.082Z"
   },
   {
    "duration": 8,
    "start_time": "2024-07-09T23:20:37.092Z"
   },
   {
    "duration": 17,
    "start_time": "2024-07-09T23:20:37.110Z"
   },
   {
    "duration": 18,
    "start_time": "2024-07-09T23:20:37.130Z"
   },
   {
    "duration": 62,
    "start_time": "2024-07-09T23:20:37.152Z"
   },
   {
    "duration": 47,
    "start_time": "2024-07-09T23:20:37.220Z"
   },
   {
    "duration": 59,
    "start_time": "2024-07-09T23:20:37.270Z"
   },
   {
    "duration": 52,
    "start_time": "2024-07-09T23:20:37.332Z"
   },
   {
    "duration": 25,
    "start_time": "2024-07-09T23:20:37.388Z"
   },
   {
    "duration": 6,
    "start_time": "2024-07-09T23:20:37.419Z"
   },
   {
    "duration": 9,
    "start_time": "2024-07-09T23:20:37.428Z"
   },
   {
    "duration": 7,
    "start_time": "2024-07-09T23:20:37.449Z"
   },
   {
    "duration": 11,
    "start_time": "2024-07-09T23:20:37.508Z"
   },
   {
    "duration": 6,
    "start_time": "2024-07-09T23:20:37.523Z"
   },
   {
    "duration": 6,
    "start_time": "2024-07-09T23:20:37.534Z"
   },
   {
    "duration": 92,
    "start_time": "2024-07-09T23:20:37.544Z"
   },
   {
    "duration": 9,
    "start_time": "2024-07-09T23:20:37.640Z"
   },
   {
    "duration": 7,
    "start_time": "2024-07-09T23:20:37.657Z"
   },
   {
    "duration": 53,
    "start_time": "2024-07-09T23:20:37.672Z"
   },
   {
    "duration": 9,
    "start_time": "2024-07-09T23:20:37.733Z"
   },
   {
    "duration": 5,
    "start_time": "2024-07-09T23:20:37.809Z"
   },
   {
    "duration": 10,
    "start_time": "2024-07-09T23:20:37.818Z"
   },
   {
    "duration": 79,
    "start_time": "2024-07-09T23:20:37.832Z"
   },
   {
    "duration": 9,
    "start_time": "2024-07-09T23:20:37.915Z"
   },
   {
    "duration": 9,
    "start_time": "2024-07-09T23:21:00.934Z"
   },
   {
    "duration": 22,
    "start_time": "2024-07-09T23:21:16.766Z"
   },
   {
    "duration": 7,
    "start_time": "2024-07-09T23:21:25.918Z"
   },
   {
    "duration": 18,
    "start_time": "2024-07-09T23:21:28.237Z"
   },
   {
    "duration": 7,
    "start_time": "2024-07-09T23:22:27.764Z"
   },
   {
    "duration": 7,
    "start_time": "2024-07-09T23:22:51.171Z"
   },
   {
    "duration": 8,
    "start_time": "2024-07-09T23:22:54.561Z"
   },
   {
    "duration": 11,
    "start_time": "2024-07-09T23:23:00.173Z"
   },
   {
    "duration": 9,
    "start_time": "2024-07-09T23:23:10.722Z"
   },
   {
    "duration": 7,
    "start_time": "2024-07-09T23:24:30.113Z"
   },
   {
    "duration": 10,
    "start_time": "2024-07-09T23:46:36.938Z"
   },
   {
    "duration": 7,
    "start_time": "2024-07-09T23:47:58.943Z"
   },
   {
    "duration": 6,
    "start_time": "2024-07-09T23:48:05.133Z"
   },
   {
    "duration": 6,
    "start_time": "2024-07-09T23:48:21.545Z"
   },
   {
    "duration": 6,
    "start_time": "2024-07-09T23:48:30.551Z"
   },
   {
    "duration": 8,
    "start_time": "2024-07-09T23:49:09.578Z"
   },
   {
    "duration": 7,
    "start_time": "2024-07-10T00:10:55.768Z"
   },
   {
    "duration": 436,
    "start_time": "2024-07-10T00:11:11.205Z"
   },
   {
    "duration": 6,
    "start_time": "2024-07-10T00:11:16.611Z"
   },
   {
    "duration": 6,
    "start_time": "2024-07-10T00:12:08.334Z"
   },
   {
    "duration": 6,
    "start_time": "2024-07-10T00:12:13.688Z"
   },
   {
    "duration": 191,
    "start_time": "2024-07-10T00:12:30.648Z"
   },
   {
    "duration": 43,
    "start_time": "2024-07-10T00:12:45.962Z"
   },
   {
    "duration": 51,
    "start_time": "2024-07-10T00:12:49.503Z"
   },
   {
    "duration": 28,
    "start_time": "2024-07-10T00:12:51.606Z"
   },
   {
    "duration": 10,
    "start_time": "2024-07-10T00:12:56.213Z"
   },
   {
    "duration": 43,
    "start_time": "2024-07-10T00:12:58.978Z"
   },
   {
    "duration": 67,
    "start_time": "2024-07-10T00:13:04.569Z"
   },
   {
    "duration": 73,
    "start_time": "2024-07-10T00:13:30.495Z"
   },
   {
    "duration": 34,
    "start_time": "2024-07-10T00:13:33.999Z"
   },
   {
    "duration": 37,
    "start_time": "2024-07-10T00:13:38.320Z"
   },
   {
    "duration": 44,
    "start_time": "2024-07-10T00:13:43.290Z"
   },
   {
    "duration": 42,
    "start_time": "2024-07-10T00:13:50.864Z"
   },
   {
    "duration": 179,
    "start_time": "2024-07-10T00:13:54.694Z"
   },
   {
    "duration": 8,
    "start_time": "2024-07-10T00:14:10.213Z"
   },
   {
    "duration": 6,
    "start_time": "2024-07-10T00:14:31.983Z"
   },
   {
    "duration": 6,
    "start_time": "2024-07-10T00:14:55.794Z"
   },
   {
    "duration": 8,
    "start_time": "2024-07-10T00:16:27.112Z"
   },
   {
    "duration": 5,
    "start_time": "2024-07-10T00:16:38.554Z"
   },
   {
    "duration": 29,
    "start_time": "2024-07-10T00:16:53.512Z"
   },
   {
    "duration": 4,
    "start_time": "2024-07-10T00:17:13.854Z"
   },
   {
    "duration": 3,
    "start_time": "2024-07-10T00:17:16.767Z"
   },
   {
    "duration": 6,
    "start_time": "2024-07-10T00:17:19.987Z"
   },
   {
    "duration": 85,
    "start_time": "2024-07-10T00:17:43.563Z"
   },
   {
    "duration": 3,
    "start_time": "2024-07-10T00:18:00.904Z"
   },
   {
    "duration": 26,
    "start_time": "2024-07-10T00:18:10.247Z"
   },
   {
    "duration": 126,
    "start_time": "2024-07-10T00:18:19.486Z"
   },
   {
    "duration": 102,
    "start_time": "2024-07-10T00:18:26.511Z"
   },
   {
    "duration": 25,
    "start_time": "2024-07-10T00:19:15.577Z"
   },
   {
    "duration": 6,
    "start_time": "2024-07-10T00:19:20.684Z"
   },
   {
    "duration": 4,
    "start_time": "2024-07-10T00:19:42.125Z"
   },
   {
    "duration": 6,
    "start_time": "2024-07-10T00:19:43.810Z"
   },
   {
    "duration": 26,
    "start_time": "2024-07-10T00:19:54.200Z"
   },
   {
    "duration": 24,
    "start_time": "2024-07-10T00:20:01.393Z"
   },
   {
    "duration": 4,
    "start_time": "2024-07-10T00:20:09.118Z"
   },
   {
    "duration": 24,
    "start_time": "2024-07-10T00:20:15.845Z"
   },
   {
    "duration": 26,
    "start_time": "2024-07-10T00:20:20.034Z"
   },
   {
    "duration": 11,
    "start_time": "2024-07-10T00:20:22.420Z"
   },
   {
    "duration": 7,
    "start_time": "2024-07-10T00:20:32.143Z"
   },
   {
    "duration": 5104,
    "start_time": "2024-07-10T21:40:02.466Z"
   },
   {
    "duration": 16,
    "start_time": "2024-07-10T21:40:07.574Z"
   },
   {
    "duration": 5,
    "start_time": "2024-07-10T21:40:07.593Z"
   },
   {
    "duration": 18,
    "start_time": "2024-07-10T21:40:07.608Z"
   },
   {
    "duration": 15,
    "start_time": "2024-07-10T21:40:07.629Z"
   },
   {
    "duration": 5,
    "start_time": "2024-07-10T21:40:07.647Z"
   },
   {
    "duration": 16,
    "start_time": "2024-07-10T21:40:09.316Z"
   },
   {
    "duration": 3,
    "start_time": "2024-07-10T21:40:10.696Z"
   },
   {
    "duration": 33,
    "start_time": "2024-07-10T21:40:11.573Z"
   },
   {
    "duration": 257,
    "start_time": "2024-07-10T21:40:12.409Z"
   },
   {
    "duration": 149,
    "start_time": "2024-07-10T21:40:13.027Z"
   },
   {
    "duration": 148,
    "start_time": "2024-07-10T21:40:13.442Z"
   },
   {
    "duration": 156,
    "start_time": "2024-07-10T21:40:13.884Z"
   },
   {
    "duration": 291,
    "start_time": "2024-07-10T21:40:14.299Z"
   },
   {
    "duration": 9,
    "start_time": "2024-07-10T21:40:15.976Z"
   },
   {
    "duration": 4831,
    "start_time": "2024-07-10T21:40:20.615Z"
   },
   {
    "duration": 4,
    "start_time": "2024-07-10T21:41:10.964Z"
   },
   {
    "duration": 7,
    "start_time": "2024-07-10T21:41:37.913Z"
   },
   {
    "duration": 530,
    "start_time": "2024-07-10T21:46:41.084Z"
   },
   {
    "duration": 14,
    "start_time": "2024-07-10T21:46:43.582Z"
   },
   {
    "duration": 14,
    "start_time": "2024-07-10T21:46:44.004Z"
   },
   {
    "duration": 7,
    "start_time": "2024-07-10T21:46:44.723Z"
   },
   {
    "duration": 24,
    "start_time": "2024-07-10T21:46:56.706Z"
   },
   {
    "duration": 38,
    "start_time": "2024-07-10T21:47:07.638Z"
   },
   {
    "duration": 23,
    "start_time": "2024-07-10T21:47:09.526Z"
   },
   {
    "duration": 42,
    "start_time": "2024-07-10T21:47:10.532Z"
   },
   {
    "duration": 7,
    "start_time": "2024-07-10T21:47:15.535Z"
   },
   {
    "duration": 5,
    "start_time": "2024-07-10T21:47:24.930Z"
   },
   {
    "duration": 7,
    "start_time": "2024-07-10T21:47:25.385Z"
   },
   {
    "duration": 5,
    "start_time": "2024-07-10T21:47:26.799Z"
   },
   {
    "duration": 10,
    "start_time": "2024-07-10T21:47:27.728Z"
   },
   {
    "duration": 5,
    "start_time": "2024-07-10T21:47:33.008Z"
   },
   {
    "duration": 4,
    "start_time": "2024-07-10T21:47:33.441Z"
   },
   {
    "duration": 37,
    "start_time": "2024-07-10T21:47:34.416Z"
   },
   {
    "duration": 7,
    "start_time": "2024-07-10T21:48:48.776Z"
   },
   {
    "duration": 4,
    "start_time": "2024-07-10T21:48:49.769Z"
   },
   {
    "duration": 21,
    "start_time": "2024-07-10T21:48:50.434Z"
   },
   {
    "duration": 5,
    "start_time": "2024-07-10T21:48:55.193Z"
   },
   {
    "duration": 4,
    "start_time": "2024-07-10T21:48:55.730Z"
   },
   {
    "duration": 5,
    "start_time": "2024-07-10T21:48:58.447Z"
   },
   {
    "duration": 9,
    "start_time": "2024-07-10T21:48:59.980Z"
   },
   {
    "duration": 6,
    "start_time": "2024-07-10T21:49:04.240Z"
   },
   {
    "duration": 5,
    "start_time": "2024-07-10T21:49:06.384Z"
   },
   {
    "duration": 5,
    "start_time": "2024-07-10T21:49:13.019Z"
   },
   {
    "duration": 6,
    "start_time": "2024-07-10T21:49:23.300Z"
   },
   {
    "duration": 6,
    "start_time": "2024-07-10T21:49:26.731Z"
   },
   {
    "duration": 26,
    "start_time": "2024-07-10T21:50:55.311Z"
   },
   {
    "duration": 22,
    "start_time": "2024-07-10T21:51:03.442Z"
   },
   {
    "duration": 5,
    "start_time": "2024-07-10T21:51:21.525Z"
   },
   {
    "duration": 7,
    "start_time": "2024-07-10T21:51:31.095Z"
   },
   {
    "duration": 3,
    "start_time": "2024-07-10T21:51:37.436Z"
   },
   {
    "duration": 259,
    "start_time": "2024-07-10T21:51:50.066Z"
   },
   {
    "duration": 26,
    "start_time": "2024-07-10T21:52:01.906Z"
   },
   {
    "duration": 16,
    "start_time": "2024-07-10T21:53:59.091Z"
   },
   {
    "duration": 7,
    "start_time": "2024-07-10T21:54:02.889Z"
   },
   {
    "duration": 5,
    "start_time": "2024-07-10T21:54:44.619Z"
   },
   {
    "duration": 11,
    "start_time": "2024-07-10T21:55:24.096Z"
   },
   {
    "duration": 8,
    "start_time": "2024-07-10T21:55:50.785Z"
   },
   {
    "duration": 8,
    "start_time": "2024-07-10T21:55:59.886Z"
   },
   {
    "duration": 32,
    "start_time": "2024-07-10T21:56:12.300Z"
   },
   {
    "duration": 34,
    "start_time": "2024-07-10T21:56:22.103Z"
   },
   {
    "duration": 3,
    "start_time": "2024-07-10T21:56:42.426Z"
   },
   {
    "duration": 6,
    "start_time": "2024-07-10T22:15:39.232Z"
   },
   {
    "duration": 16,
    "start_time": "2024-07-10T22:16:07.061Z"
   },
   {
    "duration": 36,
    "start_time": "2024-07-10T22:16:22.364Z"
   },
   {
    "duration": 16,
    "start_time": "2024-07-10T22:16:41.279Z"
   },
   {
    "duration": 32,
    "start_time": "2024-07-10T22:16:51.795Z"
   },
   {
    "duration": 5,
    "start_time": "2024-07-10T22:17:02.927Z"
   },
   {
    "duration": 4,
    "start_time": "2024-07-10T22:17:39.201Z"
   },
   {
    "duration": 7,
    "start_time": "2024-07-10T22:17:44.207Z"
   },
   {
    "duration": 51,
    "start_time": "2024-07-10T22:17:56.771Z"
   },
   {
    "duration": 5,
    "start_time": "2024-07-10T22:18:04.304Z"
   },
   {
    "duration": 28,
    "start_time": "2024-07-10T22:18:08.357Z"
   },
   {
    "duration": 10,
    "start_time": "2024-07-10T22:18:12.193Z"
   },
   {
    "duration": 6,
    "start_time": "2024-07-10T22:18:18.661Z"
   },
   {
    "duration": 5,
    "start_time": "2024-07-10T22:18:22.453Z"
   },
   {
    "duration": 9,
    "start_time": "2024-07-10T22:18:24.446Z"
   },
   {
    "duration": 5,
    "start_time": "2024-07-10T22:19:34.209Z"
   },
   {
    "duration": 4,
    "start_time": "2024-07-10T22:19:42.300Z"
   },
   {
    "duration": 5,
    "start_time": "2024-07-10T22:19:51.605Z"
   },
   {
    "duration": 7,
    "start_time": "2024-07-10T22:19:54.261Z"
   },
   {
    "duration": 6,
    "start_time": "2024-07-10T22:19:56.674Z"
   },
   {
    "duration": 5,
    "start_time": "2024-07-10T22:19:59.187Z"
   },
   {
    "duration": 8,
    "start_time": "2024-07-10T22:20:08.050Z"
   },
   {
    "duration": 16,
    "start_time": "2024-07-10T22:31:26.011Z"
   },
   {
    "duration": 11,
    "start_time": "2024-07-10T22:31:37.077Z"
   },
   {
    "duration": 99,
    "start_time": "2024-07-10T22:31:52.567Z"
   },
   {
    "duration": 31,
    "start_time": "2024-07-10T22:31:55.775Z"
   },
   {
    "duration": 10,
    "start_time": "2024-07-10T22:31:59.157Z"
   },
   {
    "duration": 12,
    "start_time": "2024-07-10T22:32:03.351Z"
   },
   {
    "duration": 12,
    "start_time": "2024-07-10T22:32:17.667Z"
   },
   {
    "duration": 28,
    "start_time": "2024-07-10T22:32:27.220Z"
   },
   {
    "duration": 10,
    "start_time": "2024-07-10T22:32:30.346Z"
   },
   {
    "duration": 11,
    "start_time": "2024-07-10T22:32:34.439Z"
   },
   {
    "duration": 12,
    "start_time": "2024-07-10T22:32:51.210Z"
   },
   {
    "duration": 10,
    "start_time": "2024-07-10T22:34:13.176Z"
   },
   {
    "duration": 13,
    "start_time": "2024-07-10T22:34:17.407Z"
   },
   {
    "duration": 16,
    "start_time": "2024-07-10T22:34:38.391Z"
   },
   {
    "duration": 3,
    "start_time": "2024-07-10T22:35:21.464Z"
   },
   {
    "duration": 10,
    "start_time": "2024-07-10T22:35:35.775Z"
   },
   {
    "duration": 10,
    "start_time": "2024-07-10T22:35:53.612Z"
   },
   {
    "duration": 11,
    "start_time": "2024-07-10T22:36:13.699Z"
   },
   {
    "duration": 15,
    "start_time": "2024-07-10T22:36:19.014Z"
   },
   {
    "duration": 15,
    "start_time": "2024-07-10T22:36:53.809Z"
   },
   {
    "duration": 107,
    "start_time": "2024-07-10T22:37:33.188Z"
   },
   {
    "duration": 5,
    "start_time": "2024-07-10T22:38:15.101Z"
   },
   {
    "duration": 24,
    "start_time": "2024-07-10T22:38:23.567Z"
   },
   {
    "duration": 25,
    "start_time": "2024-07-10T22:38:36.213Z"
   },
   {
    "duration": 5,
    "start_time": "2024-07-10T22:38:47.975Z"
   },
   {
    "duration": 6,
    "start_time": "2024-07-10T22:38:51.456Z"
   },
   {
    "duration": 7,
    "start_time": "2024-07-10T22:39:13.429Z"
   },
   {
    "duration": 24,
    "start_time": "2024-07-10T22:39:19.376Z"
   },
   {
    "duration": 5,
    "start_time": "2024-07-10T22:39:29.429Z"
   },
   {
    "duration": 16,
    "start_time": "2024-07-10T22:39:32.584Z"
   },
   {
    "duration": 4,
    "start_time": "2024-07-10T22:40:06.057Z"
   },
   {
    "duration": 6,
    "start_time": "2024-07-10T22:40:08.157Z"
   },
   {
    "duration": 6,
    "start_time": "2024-07-10T22:40:12.778Z"
   },
   {
    "duration": 27,
    "start_time": "2024-07-10T22:40:30.160Z"
   },
   {
    "duration": 8,
    "start_time": "2024-07-10T22:42:32.608Z"
   },
   {
    "duration": 412,
    "start_time": "2024-07-10T22:42:50.896Z"
   },
   {
    "duration": 24,
    "start_time": "2024-07-10T22:44:11.938Z"
   },
   {
    "duration": 164,
    "start_time": "2024-07-10T22:44:19.798Z"
   },
   {
    "duration": 11,
    "start_time": "2024-07-10T22:44:59.797Z"
   },
   {
    "duration": 3,
    "start_time": "2024-07-10T22:45:07.359Z"
   },
   {
    "duration": 4,
    "start_time": "2024-07-10T22:45:09.626Z"
   },
   {
    "duration": 15,
    "start_time": "2024-07-10T22:45:15.407Z"
   },
   {
    "duration": 12,
    "start_time": "2024-07-10T22:45:25.910Z"
   },
   {
    "duration": 12,
    "start_time": "2024-07-10T22:45:50.250Z"
   },
   {
    "duration": 12,
    "start_time": "2024-07-10T22:46:09.785Z"
   },
   {
    "duration": 4,
    "start_time": "2024-07-10T22:47:23.775Z"
   },
   {
    "duration": 25,
    "start_time": "2024-07-10T22:47:43.858Z"
   },
   {
    "duration": 24,
    "start_time": "2024-07-10T22:47:52.883Z"
   },
   {
    "duration": 11,
    "start_time": "2024-07-10T22:48:00.472Z"
   },
   {
    "duration": 6,
    "start_time": "2024-07-10T22:48:57.788Z"
   },
   {
    "duration": 183,
    "start_time": "2024-07-10T22:49:17.643Z"
   },
   {
    "duration": 13,
    "start_time": "2024-07-10T22:49:30.951Z"
   },
   {
    "duration": 3,
    "start_time": "2024-07-10T22:49:41.878Z"
   },
   {
    "duration": 8,
    "start_time": "2024-07-10T22:49:48.419Z"
   },
   {
    "duration": 5,
    "start_time": "2024-07-10T22:49:53.930Z"
   },
   {
    "duration": 86,
    "start_time": "2024-07-10T22:50:04.260Z"
   },
   {
    "duration": 7,
    "start_time": "2024-07-10T22:50:17.485Z"
   },
   {
    "duration": 11,
    "start_time": "2024-07-10T22:50:36.032Z"
   },
   {
    "duration": 9,
    "start_time": "2024-07-10T22:50:56.194Z"
   },
   {
    "duration": 15,
    "start_time": "2024-07-10T22:51:38.176Z"
   },
   {
    "duration": 15,
    "start_time": "2024-07-10T22:51:47.964Z"
   },
   {
    "duration": 4,
    "start_time": "2024-07-10T22:52:02.084Z"
   },
   {
    "duration": 4,
    "start_time": "2024-07-10T22:52:13.763Z"
   },
   {
    "duration": 12,
    "start_time": "2024-07-10T22:52:17.358Z"
   },
   {
    "duration": 87,
    "start_time": "2024-07-10T22:52:21.229Z"
   },
   {
    "duration": 4,
    "start_time": "2024-07-10T22:52:39.025Z"
   },
   {
    "duration": 6,
    "start_time": "2024-07-10T22:52:46.401Z"
   },
   {
    "duration": 13,
    "start_time": "2024-07-10T22:52:56.415Z"
   },
   {
    "duration": 16,
    "start_time": "2024-07-10T22:53:31.453Z"
   },
   {
    "duration": 6,
    "start_time": "2024-07-10T22:53:52.525Z"
   },
   {
    "duration": 45,
    "start_time": "2024-07-10T22:54:00.274Z"
   },
   {
    "duration": 8,
    "start_time": "2024-07-10T22:54:12.822Z"
   },
   {
    "duration": 15,
    "start_time": "2024-07-10T22:54:45.802Z"
   },
   {
    "duration": 6,
    "start_time": "2024-07-10T22:54:48.799Z"
   },
   {
    "duration": 14,
    "start_time": "2024-07-10T22:54:58.041Z"
   },
   {
    "duration": 4,
    "start_time": "2024-07-10T22:55:06.663Z"
   },
   {
    "duration": 11,
    "start_time": "2024-07-10T22:55:11.679Z"
   },
   {
    "duration": 12,
    "start_time": "2024-07-10T22:55:16.259Z"
   },
   {
    "duration": 29,
    "start_time": "2024-07-10T22:55:42.525Z"
   },
   {
    "duration": 89,
    "start_time": "2024-07-10T22:55:50.791Z"
   },
   {
    "duration": 7,
    "start_time": "2024-07-10T22:56:24.745Z"
   },
   {
    "duration": 4,
    "start_time": "2024-07-10T22:57:29.535Z"
   },
   {
    "duration": 7,
    "start_time": "2024-07-10T22:57:33.213Z"
   },
   {
    "duration": 4,
    "start_time": "2024-07-10T22:57:46.788Z"
   },
   {
    "duration": 7,
    "start_time": "2024-07-10T22:57:48.691Z"
   },
   {
    "duration": 28,
    "start_time": "2024-07-10T22:58:06.743Z"
   },
   {
    "duration": 10,
    "start_time": "2024-07-10T22:58:09.823Z"
   },
   {
    "duration": 5,
    "start_time": "2024-07-10T22:58:18.455Z"
   },
   {
    "duration": 9,
    "start_time": "2024-07-10T22:58:28.436Z"
   },
   {
    "duration": 32,
    "start_time": "2024-07-10T22:58:37.592Z"
   },
   {
    "duration": 11,
    "start_time": "2024-07-10T22:58:49.069Z"
   },
   {
    "duration": 7,
    "start_time": "2024-07-10T22:59:13.582Z"
   },
   {
    "duration": 10,
    "start_time": "2024-07-10T22:59:17.797Z"
   },
   {
    "duration": 45,
    "start_time": "2024-07-10T22:59:23.320Z"
   },
   {
    "duration": 8,
    "start_time": "2024-07-10T22:59:26.988Z"
   },
   {
    "duration": 8,
    "start_time": "2024-07-10T22:59:28.874Z"
   },
   {
    "duration": 7,
    "start_time": "2024-07-10T22:59:32.483Z"
   },
   {
    "duration": 12,
    "start_time": "2024-07-10T22:59:44.952Z"
   },
   {
    "duration": 3,
    "start_time": "2024-07-10T22:59:53.930Z"
   },
   {
    "duration": 24,
    "start_time": "2024-07-10T23:00:30.141Z"
   },
   {
    "duration": 7,
    "start_time": "2024-07-10T23:00:37.666Z"
   },
   {
    "duration": 11,
    "start_time": "2024-07-10T23:00:43.526Z"
   },
   {
    "duration": 71,
    "start_time": "2024-07-10T23:01:01.298Z"
   },
   {
    "duration": 68,
    "start_time": "2024-07-10T23:01:20.617Z"
   },
   {
    "duration": 4,
    "start_time": "2024-07-10T23:02:18.016Z"
   },
   {
    "duration": 6,
    "start_time": "2024-07-10T23:02:21.827Z"
   },
   {
    "duration": 6,
    "start_time": "2024-07-10T23:02:25.290Z"
   },
   {
    "duration": 9,
    "start_time": "2024-07-10T23:02:45.345Z"
   },
   {
    "duration": 8,
    "start_time": "2024-07-10T23:03:17.490Z"
   },
   {
    "duration": 5,
    "start_time": "2024-07-10T23:03:24.261Z"
   },
   {
    "duration": 5,
    "start_time": "2024-07-10T23:03:30.306Z"
   },
   {
    "duration": 6,
    "start_time": "2024-07-10T23:03:49.108Z"
   },
   {
    "duration": 6,
    "start_time": "2024-07-10T23:03:51.870Z"
   },
   {
    "duration": 5,
    "start_time": "2024-07-10T23:04:06.008Z"
   },
   {
    "duration": 252,
    "start_time": "2024-07-10T23:04:27.437Z"
   },
   {
    "duration": 6,
    "start_time": "2024-07-10T23:04:42.488Z"
   },
   {
    "duration": 33,
    "start_time": "2024-07-10T23:05:45.178Z"
   },
   {
    "duration": 9,
    "start_time": "2024-07-10T23:06:22.719Z"
   },
   {
    "duration": 5,
    "start_time": "2024-07-10T23:07:21.362Z"
   },
   {
    "duration": 4,
    "start_time": "2024-07-10T23:07:23.733Z"
   },
   {
    "duration": 4,
    "start_time": "2024-07-10T23:07:31.776Z"
   },
   {
    "duration": 8,
    "start_time": "2024-07-10T23:08:07.871Z"
   },
   {
    "duration": 18,
    "start_time": "2024-07-10T23:08:14.485Z"
   },
   {
    "duration": 16,
    "start_time": "2024-07-10T23:08:24.966Z"
   },
   {
    "duration": 22,
    "start_time": "2024-07-10T23:08:31.196Z"
   },
   {
    "duration": 15,
    "start_time": "2024-07-10T23:09:16.871Z"
   },
   {
    "duration": 13,
    "start_time": "2024-07-10T23:09:52.805Z"
   },
   {
    "duration": 11,
    "start_time": "2024-07-10T23:09:55.369Z"
   },
   {
    "duration": 11,
    "start_time": "2024-07-10T23:10:45.278Z"
   },
   {
    "duration": 5,
    "start_time": "2024-07-10T23:12:13.103Z"
   },
   {
    "duration": 13,
    "start_time": "2024-07-10T23:12:55.234Z"
   },
   {
    "duration": 22,
    "start_time": "2024-07-10T23:13:49.114Z"
   },
   {
    "duration": 16,
    "start_time": "2024-07-10T23:49:24.912Z"
   },
   {
    "duration": 23,
    "start_time": "2024-07-10T23:49:37.403Z"
   },
   {
    "duration": 5,
    "start_time": "2024-07-10T23:49:42.374Z"
   },
   {
    "duration": 913,
    "start_time": "2024-07-10T23:49:53.810Z"
   },
   {
    "duration": 5,
    "start_time": "2024-07-10T23:50:09.653Z"
   },
   {
    "duration": 24,
    "start_time": "2024-07-10T23:50:35.152Z"
   },
   {
    "duration": 6,
    "start_time": "2024-07-10T23:51:06.670Z"
   },
   {
    "duration": 15,
    "start_time": "2024-07-10T23:51:17.743Z"
   },
   {
    "duration": 4,
    "start_time": "2024-07-10T23:51:39.687Z"
   },
   {
    "duration": 5,
    "start_time": "2024-07-10T23:51:44.306Z"
   },
   {
    "duration": 24,
    "start_time": "2024-07-10T23:51:55.218Z"
   },
   {
    "duration": 7,
    "start_time": "2024-07-10T23:51:57.466Z"
   },
   {
    "duration": 7,
    "start_time": "2024-07-10T23:52:01.128Z"
   },
   {
    "duration": 7,
    "start_time": "2024-07-10T23:52:13.788Z"
   },
   {
    "duration": 8,
    "start_time": "2024-07-10T23:52:23.356Z"
   },
   {
    "duration": 13,
    "start_time": "2024-07-10T23:52:40.612Z"
   },
   {
    "duration": 22,
    "start_time": "2024-07-10T23:52:49.288Z"
   },
   {
    "duration": 3,
    "start_time": "2024-07-10T23:53:18.601Z"
   },
   {
    "duration": 15,
    "start_time": "2024-07-10T23:53:22.436Z"
   },
   {
    "duration": 4,
    "start_time": "2024-07-10T23:53:28.574Z"
   },
   {
    "duration": 10,
    "start_time": "2024-07-10T23:53:42.443Z"
   },
   {
    "duration": 10,
    "start_time": "2024-07-10T23:54:21.724Z"
   },
   {
    "duration": 9,
    "start_time": "2024-07-10T23:54:42.075Z"
   },
   {
    "duration": 14,
    "start_time": "2024-07-10T23:54:45.508Z"
   },
   {
    "duration": 13,
    "start_time": "2024-07-10T23:55:22.346Z"
   },
   {
    "duration": 14,
    "start_time": "2024-07-12T11:09:11.940Z"
   },
   {
    "duration": 7,
    "start_time": "2024-07-12T11:16:38.265Z"
   },
   {
    "duration": 320,
    "start_time": "2024-07-12T22:47:52.264Z"
   },
   {
    "duration": 5162,
    "start_time": "2024-07-12T22:47:58.477Z"
   },
   {
    "duration": 84,
    "start_time": "2024-07-12T22:48:03.643Z"
   },
   {
    "duration": 7,
    "start_time": "2024-07-12T22:48:03.731Z"
   },
   {
    "duration": 18,
    "start_time": "2024-07-12T22:48:03.742Z"
   },
   {
    "duration": 16,
    "start_time": "2024-07-12T22:48:03.764Z"
   },
   {
    "duration": 47,
    "start_time": "2024-07-12T22:48:03.783Z"
   },
   {
    "duration": 15,
    "start_time": "2024-07-12T22:48:03.833Z"
   },
   {
    "duration": 5,
    "start_time": "2024-07-12T22:48:03.852Z"
   },
   {
    "duration": 31,
    "start_time": "2024-07-12T22:48:03.860Z"
   },
   {
    "duration": 245,
    "start_time": "2024-07-12T22:48:03.895Z"
   },
   {
    "duration": 173,
    "start_time": "2024-07-12T22:48:04.143Z"
   },
   {
    "duration": 161,
    "start_time": "2024-07-12T22:48:04.319Z"
   },
   {
    "duration": 182,
    "start_time": "2024-07-12T22:48:04.483Z"
   },
   {
    "duration": 396,
    "start_time": "2024-07-12T22:48:04.673Z"
   },
   {
    "duration": 10,
    "start_time": "2024-07-12T22:48:05.072Z"
   },
   {
    "duration": 4978,
    "start_time": "2024-07-12T22:48:05.085Z"
   },
   {
    "duration": 4,
    "start_time": "2024-07-12T22:48:10.066Z"
   },
   {
    "duration": 6,
    "start_time": "2024-07-12T22:48:10.073Z"
   },
   {
    "duration": 15,
    "start_time": "2024-07-12T22:48:10.082Z"
   },
   {
    "duration": 19,
    "start_time": "2024-07-12T22:48:10.099Z"
   },
   {
    "duration": 27,
    "start_time": "2024-07-12T22:48:10.132Z"
   },
   {
    "duration": 69,
    "start_time": "2024-07-12T22:48:10.163Z"
   },
   {
    "duration": 23,
    "start_time": "2024-07-12T22:48:10.235Z"
   },
   {
    "duration": 38,
    "start_time": "2024-07-12T22:48:10.261Z"
   },
   {
    "duration": 31,
    "start_time": "2024-07-12T22:48:10.302Z"
   },
   {
    "duration": 5,
    "start_time": "2024-07-12T22:48:10.336Z"
   },
   {
    "duration": 6,
    "start_time": "2024-07-12T22:48:10.345Z"
   },
   {
    "duration": 6,
    "start_time": "2024-07-12T22:48:10.354Z"
   },
   {
    "duration": 8,
    "start_time": "2024-07-12T22:48:10.363Z"
   },
   {
    "duration": 56,
    "start_time": "2024-07-12T22:48:10.374Z"
   },
   {
    "duration": 5,
    "start_time": "2024-07-12T22:48:10.434Z"
   },
   {
    "duration": 36,
    "start_time": "2024-07-12T22:48:10.443Z"
   },
   {
    "duration": 6,
    "start_time": "2024-07-12T22:48:10.483Z"
   },
   {
    "duration": 42,
    "start_time": "2024-07-12T22:48:10.492Z"
   },
   {
    "duration": 28,
    "start_time": "2024-07-12T22:48:10.536Z"
   },
   {
    "duration": 66,
    "start_time": "2024-07-12T22:48:10.566Z"
   },
   {
    "duration": 4,
    "start_time": "2024-07-12T22:48:10.634Z"
   },
   {
    "duration": 7,
    "start_time": "2024-07-12T22:48:10.642Z"
   },
   {
    "duration": 87,
    "start_time": "2024-07-12T22:48:10.653Z"
   },
   {
    "duration": 7,
    "start_time": "2024-07-12T22:48:10.744Z"
   },
   {
    "duration": 7,
    "start_time": "2024-07-12T22:48:10.839Z"
   },
   {
    "duration": 82,
    "start_time": "2024-07-12T22:48:10.853Z"
   },
   {
    "duration": 8,
    "start_time": "2024-07-12T22:48:10.938Z"
   },
   {
    "duration": 82,
    "start_time": "2024-07-12T22:48:10.951Z"
   },
   {
    "duration": 5,
    "start_time": "2024-07-12T22:48:11.037Z"
   },
   {
    "duration": 5,
    "start_time": "2024-07-12T22:48:11.045Z"
   },
   {
    "duration": 489,
    "start_time": "2024-07-12T22:48:11.053Z"
   },
   {
    "duration": 65,
    "start_time": "2024-07-12T22:48:13.829Z"
   },
   {
    "duration": 4,
    "start_time": "2024-07-12T22:48:16.604Z"
   },
   {
    "duration": 65,
    "start_time": "2024-07-12T22:48:17.146Z"
   },
   {
    "duration": 5,
    "start_time": "2024-07-12T22:48:30.814Z"
   },
   {
    "duration": 5,
    "start_time": "2024-07-12T22:48:35.294Z"
   },
   {
    "duration": 163,
    "start_time": "2024-07-12T22:48:36.025Z"
   },
   {
    "duration": 14,
    "start_time": "2024-07-12T22:48:48.917Z"
   },
   {
    "duration": 28,
    "start_time": "2024-07-12T22:49:00.210Z"
   },
   {
    "duration": 28,
    "start_time": "2024-07-12T22:49:23.831Z"
   },
   {
    "duration": 6,
    "start_time": "2024-07-12T22:49:44.085Z"
   },
   {
    "duration": 25,
    "start_time": "2024-07-12T22:49:53.445Z"
   },
   {
    "duration": 16,
    "start_time": "2024-07-12T22:49:57.240Z"
   },
   {
    "duration": 6,
    "start_time": "2024-07-12T22:50:05.847Z"
   },
   {
    "duration": 7,
    "start_time": "2024-07-12T22:50:10.706Z"
   },
   {
    "duration": 6,
    "start_time": "2024-07-12T22:50:14.997Z"
   },
   {
    "duration": 4,
    "start_time": "2024-07-12T22:51:09.441Z"
   },
   {
    "duration": 7,
    "start_time": "2024-07-12T22:51:24.305Z"
   },
   {
    "duration": 23,
    "start_time": "2024-07-12T22:51:43.991Z"
   },
   {
    "duration": 5,
    "start_time": "2024-07-12T22:51:51.478Z"
   },
   {
    "duration": 26,
    "start_time": "2024-07-12T22:51:52.385Z"
   },
   {
    "duration": 6,
    "start_time": "2024-07-12T22:52:04.236Z"
   },
   {
    "duration": 5,
    "start_time": "2024-07-12T22:52:04.607Z"
   },
   {
    "duration": 8,
    "start_time": "2024-07-12T22:52:05.083Z"
   },
   {
    "duration": 5,
    "start_time": "2024-07-12T22:52:06.071Z"
   },
   {
    "duration": 4,
    "start_time": "2024-07-12T22:52:06.526Z"
   },
   {
    "duration": 37,
    "start_time": "2024-07-12T22:52:06.935Z"
   },
   {
    "duration": 16,
    "start_time": "2024-07-12T22:52:45.680Z"
   },
   {
    "duration": 7,
    "start_time": "2024-07-12T22:52:53.476Z"
   },
   {
    "duration": 8,
    "start_time": "2024-07-12T22:53:12.716Z"
   },
   {
    "duration": 4,
    "start_time": "2024-07-12T22:53:22.085Z"
   },
   {
    "duration": 5,
    "start_time": "2024-07-12T22:53:51.968Z"
   },
   {
    "duration": 24,
    "start_time": "2024-07-12T22:54:08.387Z"
   },
   {
    "duration": 6,
    "start_time": "2024-07-12T22:54:29.617Z"
   },
   {
    "duration": 68,
    "start_time": "2024-07-12T22:54:38.011Z"
   },
   {
    "duration": 3,
    "start_time": "2024-07-12T22:54:51.553Z"
   },
   {
    "duration": 4,
    "start_time": "2024-07-12T22:55:17.158Z"
   },
   {
    "duration": 1515,
    "start_time": "2024-07-12T22:55:34.183Z"
   },
   {
    "duration": 12,
    "start_time": "2024-07-12T22:55:35.702Z"
   },
   {
    "duration": 15,
    "start_time": "2024-07-12T22:55:35.716Z"
   },
   {
    "duration": 19,
    "start_time": "2024-07-12T22:55:35.734Z"
   },
   {
    "duration": 15,
    "start_time": "2024-07-12T22:55:35.758Z"
   },
   {
    "duration": 5,
    "start_time": "2024-07-12T22:55:35.776Z"
   },
   {
    "duration": 57,
    "start_time": "2024-07-12T22:55:35.784Z"
   },
   {
    "duration": 4,
    "start_time": "2024-07-12T22:55:35.844Z"
   },
   {
    "duration": 80,
    "start_time": "2024-07-12T22:55:35.851Z"
   },
   {
    "duration": 206,
    "start_time": "2024-07-12T22:55:35.935Z"
   },
   {
    "duration": 170,
    "start_time": "2024-07-12T22:55:36.143Z"
   },
   {
    "duration": 159,
    "start_time": "2024-07-12T22:55:36.316Z"
   },
   {
    "duration": 172,
    "start_time": "2024-07-12T22:55:36.478Z"
   },
   {
    "duration": 297,
    "start_time": "2024-07-12T22:55:36.656Z"
   },
   {
    "duration": 9,
    "start_time": "2024-07-12T22:55:36.957Z"
   },
   {
    "duration": 4874,
    "start_time": "2024-07-12T22:55:36.969Z"
   },
   {
    "duration": 4,
    "start_time": "2024-07-12T22:55:41.847Z"
   },
   {
    "duration": 7,
    "start_time": "2024-07-12T22:55:41.854Z"
   },
   {
    "duration": 15,
    "start_time": "2024-07-12T22:55:41.863Z"
   },
   {
    "duration": 14,
    "start_time": "2024-07-12T22:55:41.880Z"
   },
   {
    "duration": 52,
    "start_time": "2024-07-12T22:55:41.897Z"
   },
   {
    "duration": 37,
    "start_time": "2024-07-12T22:55:41.953Z"
   },
   {
    "duration": 61,
    "start_time": "2024-07-12T22:55:41.993Z"
   },
   {
    "duration": 40,
    "start_time": "2024-07-12T22:55:42.057Z"
   },
   {
    "duration": 7,
    "start_time": "2024-07-12T22:55:42.099Z"
   },
   {
    "duration": 5,
    "start_time": "2024-07-12T22:55:42.146Z"
   },
   {
    "duration": 6,
    "start_time": "2024-07-12T22:55:42.154Z"
   },
   {
    "duration": 5,
    "start_time": "2024-07-12T22:55:42.163Z"
   },
   {
    "duration": 6,
    "start_time": "2024-07-12T22:56:09.638Z"
   },
   {
    "duration": 4,
    "start_time": "2024-07-12T22:56:10.051Z"
   },
   {
    "duration": 1871,
    "start_time": "2024-07-12T22:56:10.596Z"
   },
   {
    "duration": 37,
    "start_time": "2024-07-12T22:56:34.079Z"
   },
   {
    "duration": 19,
    "start_time": "2024-07-12T22:56:58.755Z"
   },
   {
    "duration": 5,
    "start_time": "2024-07-12T22:57:12.336Z"
   },
   {
    "duration": 4,
    "start_time": "2024-07-12T22:57:12.734Z"
   },
   {
    "duration": 4,
    "start_time": "2024-07-12T22:57:13.487Z"
   },
   {
    "duration": 9,
    "start_time": "2024-07-12T22:57:13.865Z"
   },
   {
    "duration": 9,
    "start_time": "2024-07-12T22:57:15.050Z"
   },
   {
    "duration": 5,
    "start_time": "2024-07-12T22:57:19.785Z"
   },
   {
    "duration": 6,
    "start_time": "2024-07-12T22:57:20.098Z"
   },
   {
    "duration": 8,
    "start_time": "2024-07-12T22:57:20.440Z"
   },
   {
    "duration": 7,
    "start_time": "2024-07-12T22:57:20.905Z"
   },
   {
    "duration": 5,
    "start_time": "2024-07-12T22:57:23.829Z"
   },
   {
    "duration": 6,
    "start_time": "2024-07-12T22:57:30.136Z"
   },
   {
    "duration": 4,
    "start_time": "2024-07-12T22:57:30.499Z"
   },
   {
    "duration": 230,
    "start_time": "2024-07-12T22:57:33.263Z"
   },
   {
    "duration": 6,
    "start_time": "2024-07-12T22:57:47.407Z"
   },
   {
    "duration": 1560,
    "start_time": "2024-07-12T22:58:18.025Z"
   },
   {
    "duration": 11,
    "start_time": "2024-07-12T22:58:19.590Z"
   },
   {
    "duration": 5,
    "start_time": "2024-07-12T22:58:19.604Z"
   },
   {
    "duration": 35,
    "start_time": "2024-07-12T22:58:19.612Z"
   },
   {
    "duration": 14,
    "start_time": "2024-07-12T22:58:19.652Z"
   },
   {
    "duration": 6,
    "start_time": "2024-07-12T22:58:19.671Z"
   },
   {
    "duration": 51,
    "start_time": "2024-07-12T22:58:19.680Z"
   },
   {
    "duration": 5,
    "start_time": "2024-07-12T22:58:19.734Z"
   },
   {
    "duration": 39,
    "start_time": "2024-07-12T22:58:19.742Z"
   },
   {
    "duration": 226,
    "start_time": "2024-07-12T22:58:19.784Z"
   },
   {
    "duration": 164,
    "start_time": "2024-07-12T22:58:20.013Z"
   },
   {
    "duration": 164,
    "start_time": "2024-07-12T22:58:20.181Z"
   },
   {
    "duration": 168,
    "start_time": "2024-07-12T22:58:20.348Z"
   },
   {
    "duration": 293,
    "start_time": "2024-07-12T22:58:20.522Z"
   },
   {
    "duration": 17,
    "start_time": "2024-07-12T22:58:20.819Z"
   },
   {
    "duration": 4951,
    "start_time": "2024-07-12T22:58:20.840Z"
   },
   {
    "duration": 4,
    "start_time": "2024-07-12T22:58:25.794Z"
   },
   {
    "duration": 6,
    "start_time": "2024-07-12T22:58:25.801Z"
   },
   {
    "duration": 14,
    "start_time": "2024-07-12T22:58:25.810Z"
   },
   {
    "duration": 14,
    "start_time": "2024-07-12T22:58:25.829Z"
   },
   {
    "duration": 24,
    "start_time": "2024-07-12T22:58:25.846Z"
   },
   {
    "duration": 71,
    "start_time": "2024-07-12T22:58:25.874Z"
   },
   {
    "duration": 23,
    "start_time": "2024-07-12T22:58:25.947Z"
   },
   {
    "duration": 63,
    "start_time": "2024-07-12T22:58:25.973Z"
   },
   {
    "duration": 11,
    "start_time": "2024-07-12T22:58:26.040Z"
   },
   {
    "duration": 5,
    "start_time": "2024-07-12T22:58:26.056Z"
   },
   {
    "duration": 6,
    "start_time": "2024-07-12T22:58:26.065Z"
   },
   {
    "duration": 5,
    "start_time": "2024-07-12T22:58:26.074Z"
   },
   {
    "duration": 21,
    "start_time": "2024-07-12T22:58:36.614Z"
   },
   {
    "duration": 740,
    "start_time": "2024-07-12T22:58:45.895Z"
   },
   {
    "duration": 4,
    "start_time": "2024-07-12T22:58:53.869Z"
   },
   {
    "duration": 1632,
    "start_time": "2024-07-12T22:59:11.847Z"
   },
   {
    "duration": 10,
    "start_time": "2024-07-12T22:59:13.482Z"
   },
   {
    "duration": 6,
    "start_time": "2024-07-12T22:59:13.494Z"
   },
   {
    "duration": 34,
    "start_time": "2024-07-12T22:59:13.509Z"
   },
   {
    "duration": 6,
    "start_time": "2024-07-12T22:59:24.455Z"
   },
   {
    "duration": 10,
    "start_time": "2024-07-12T22:59:24.467Z"
   },
   {
    "duration": 5,
    "start_time": "2024-07-12T22:59:24.479Z"
   },
   {
    "duration": 15,
    "start_time": "2024-07-12T22:59:24.487Z"
   },
   {
    "duration": 37,
    "start_time": "2024-07-12T22:59:24.506Z"
   },
   {
    "duration": 5,
    "start_time": "2024-07-12T22:59:24.546Z"
   },
   {
    "duration": 14,
    "start_time": "2024-07-12T22:59:24.554Z"
   },
   {
    "duration": 3,
    "start_time": "2024-07-12T22:59:24.571Z"
   },
   {
    "duration": 79,
    "start_time": "2024-07-12T22:59:24.577Z"
   },
   {
    "duration": 203,
    "start_time": "2024-07-12T22:59:24.659Z"
   },
   {
    "duration": 168,
    "start_time": "2024-07-12T22:59:24.866Z"
   },
   {
    "duration": 159,
    "start_time": "2024-07-12T22:59:25.037Z"
   },
   {
    "duration": 172,
    "start_time": "2024-07-12T22:59:25.199Z"
   },
   {
    "duration": 298,
    "start_time": "2024-07-12T22:59:25.377Z"
   },
   {
    "duration": 8,
    "start_time": "2024-07-12T22:59:25.679Z"
   },
   {
    "duration": 4977,
    "start_time": "2024-07-12T22:59:25.690Z"
   },
   {
    "duration": 5,
    "start_time": "2024-07-12T22:59:30.670Z"
   },
   {
    "duration": 8,
    "start_time": "2024-07-12T22:59:30.677Z"
   },
   {
    "duration": 16,
    "start_time": "2024-07-12T22:59:30.687Z"
   },
   {
    "duration": 31,
    "start_time": "2024-07-12T22:59:30.705Z"
   },
   {
    "duration": 23,
    "start_time": "2024-07-12T22:59:48.688Z"
   },
   {
    "duration": 38,
    "start_time": "2024-07-12T23:00:17.389Z"
   },
   {
    "duration": 22,
    "start_time": "2024-07-12T23:00:21.020Z"
   },
   {
    "duration": 42,
    "start_time": "2024-07-12T23:00:37.992Z"
   },
   {
    "duration": 6,
    "start_time": "2024-07-12T23:00:40.654Z"
   },
   {
    "duration": 5,
    "start_time": "2024-07-12T23:00:44.890Z"
   },
   {
    "duration": 5,
    "start_time": "2024-07-12T23:00:45.426Z"
   },
   {
    "duration": 5,
    "start_time": "2024-07-12T23:00:47.153Z"
   },
   {
    "duration": 5,
    "start_time": "2024-07-12T23:00:49.683Z"
   },
   {
    "duration": 7,
    "start_time": "2024-07-12T23:01:02.109Z"
   },
   {
    "duration": 8,
    "start_time": "2024-07-12T23:01:02.522Z"
   },
   {
    "duration": 6,
    "start_time": "2024-07-12T23:01:03.945Z"
   },
   {
    "duration": 37,
    "start_time": "2024-07-12T23:01:06.078Z"
   },
   {
    "duration": 10,
    "start_time": "2024-07-12T23:01:12.025Z"
   },
   {
    "duration": 6,
    "start_time": "2024-07-12T23:01:12.414Z"
   },
   {
    "duration": 20,
    "start_time": "2024-07-12T23:01:13.136Z"
   },
   {
    "duration": 6,
    "start_time": "2024-07-12T23:01:16.103Z"
   },
   {
    "duration": 4,
    "start_time": "2024-07-12T23:01:16.409Z"
   },
   {
    "duration": 4,
    "start_time": "2024-07-12T23:01:16.949Z"
   },
   {
    "duration": 9,
    "start_time": "2024-07-12T23:01:17.222Z"
   },
   {
    "duration": 6,
    "start_time": "2024-07-12T23:01:21.070Z"
   },
   {
    "duration": 7,
    "start_time": "2024-07-12T23:01:23.424Z"
   },
   {
    "duration": 6,
    "start_time": "2024-07-12T23:01:23.744Z"
   },
   {
    "duration": 6,
    "start_time": "2024-07-12T23:01:24.173Z"
   },
   {
    "duration": 6,
    "start_time": "2024-07-12T23:01:24.720Z"
   },
   {
    "duration": 5,
    "start_time": "2024-07-12T23:01:27.172Z"
   },
   {
    "duration": 4,
    "start_time": "2024-07-12T23:01:33.912Z"
   },
   {
    "duration": 5,
    "start_time": "2024-07-12T23:01:34.656Z"
   },
   {
    "duration": 30,
    "start_time": "2024-07-12T23:01:41.769Z"
   },
   {
    "duration": 4,
    "start_time": "2024-07-12T23:01:51.910Z"
   },
   {
    "duration": 10,
    "start_time": "2024-07-12T23:02:13.625Z"
   },
   {
    "duration": 5,
    "start_time": "2024-07-12T23:02:43.770Z"
   },
   {
    "duration": 15,
    "start_time": "2024-07-12T23:02:49.814Z"
   },
   {
    "duration": 15,
    "start_time": "2024-07-12T23:02:58.060Z"
   },
   {
    "duration": 19,
    "start_time": "2024-07-12T23:03:02.839Z"
   },
   {
    "duration": 12,
    "start_time": "2024-07-12T23:03:03.188Z"
   },
   {
    "duration": 454,
    "start_time": "2024-07-12T23:03:05.671Z"
   },
   {
    "duration": 32,
    "start_time": "2024-07-12T23:04:53.529Z"
   },
   {
    "duration": 13,
    "start_time": "2024-07-12T23:05:01.261Z"
   },
   {
    "duration": 12,
    "start_time": "2024-07-12T23:05:24.744Z"
   },
   {
    "duration": 5,
    "start_time": "2024-07-12T23:07:07.079Z"
   },
   {
    "duration": 6,
    "start_time": "2024-07-12T23:07:13.060Z"
   },
   {
    "duration": 3,
    "start_time": "2024-07-12T23:07:42.981Z"
   },
   {
    "duration": 5,
    "start_time": "2024-07-12T23:07:46.571Z"
   },
   {
    "duration": 3,
    "start_time": "2024-07-12T23:07:50.565Z"
   },
   {
    "duration": 7,
    "start_time": "2024-07-12T23:07:59.714Z"
   },
   {
    "duration": 11,
    "start_time": "2024-07-12T23:08:04.130Z"
   },
   {
    "duration": 13,
    "start_time": "2024-07-12T23:08:14.895Z"
   },
   {
    "duration": 12,
    "start_time": "2024-07-12T23:08:52.511Z"
   },
   {
    "duration": 19,
    "start_time": "2024-07-12T23:09:06.834Z"
   },
   {
    "duration": 14,
    "start_time": "2024-07-12T23:09:13.753Z"
   },
   {
    "duration": 12,
    "start_time": "2024-07-12T23:09:17.927Z"
   },
   {
    "duration": 4,
    "start_time": "2024-07-12T23:09:22.358Z"
   },
   {
    "duration": 13,
    "start_time": "2024-07-12T23:09:52.102Z"
   },
   {
    "duration": 12,
    "start_time": "2024-07-12T23:10:07.458Z"
   },
   {
    "duration": 14,
    "start_time": "2024-07-12T23:10:13.721Z"
   },
   {
    "duration": 6,
    "start_time": "2024-07-12T23:10:16.121Z"
   },
   {
    "duration": 5,
    "start_time": "2024-07-12T23:10:27.541Z"
   },
   {
    "duration": 13,
    "start_time": "2024-07-12T23:11:07.589Z"
   },
   {
    "duration": 12,
    "start_time": "2024-07-12T23:11:14.691Z"
   },
   {
    "duration": 5,
    "start_time": "2024-07-12T23:11:49.522Z"
   },
   {
    "duration": 5,
    "start_time": "2024-07-12T23:12:18.434Z"
   },
   {
    "duration": 25,
    "start_time": "2024-07-12T23:12:46.380Z"
   },
   {
    "duration": 4,
    "start_time": "2024-07-12T23:13:07.662Z"
   },
   {
    "duration": 24,
    "start_time": "2024-07-12T23:13:17.705Z"
   },
   {
    "duration": 192,
    "start_time": "2024-07-12T23:13:59.832Z"
   },
   {
    "duration": 7,
    "start_time": "2024-07-12T23:14:11.709Z"
   },
   {
    "duration": 7,
    "start_time": "2024-07-12T23:14:14.815Z"
   },
   {
    "duration": 6,
    "start_time": "2024-07-12T23:14:49.477Z"
   },
   {
    "duration": 6,
    "start_time": "2024-07-12T23:14:49.897Z"
   },
   {
    "duration": 7,
    "start_time": "2024-07-12T23:14:56.764Z"
   },
   {
    "duration": 22,
    "start_time": "2024-07-12T23:15:00.920Z"
   },
   {
    "duration": 21,
    "start_time": "2024-07-12T23:15:03.378Z"
   },
   {
    "duration": 8,
    "start_time": "2024-07-12T23:15:24.159Z"
   },
   {
    "duration": 8,
    "start_time": "2024-07-12T23:15:27.027Z"
   },
   {
    "duration": 24,
    "start_time": "2024-07-12T23:15:35.798Z"
   },
   {
    "duration": 1390,
    "start_time": "2024-07-12T23:15:48.118Z"
   },
   {
    "duration": 71,
    "start_time": "2024-07-12T23:16:01.105Z"
   },
   {
    "duration": 6,
    "start_time": "2024-07-12T23:16:37.516Z"
   },
   {
    "duration": 24,
    "start_time": "2024-07-12T23:16:44.780Z"
   },
   {
    "duration": 17,
    "start_time": "2024-07-12T23:17:04.485Z"
   },
   {
    "duration": 24,
    "start_time": "2024-07-12T23:17:09.593Z"
   },
   {
    "duration": 17,
    "start_time": "2024-07-12T23:17:58.689Z"
   },
   {
    "duration": 7,
    "start_time": "2024-07-12T23:18:13.731Z"
   },
   {
    "duration": 7,
    "start_time": "2024-07-12T23:18:33.997Z"
   },
   {
    "duration": 8,
    "start_time": "2024-07-12T23:19:16.996Z"
   },
   {
    "duration": 11,
    "start_time": "2024-07-12T23:19:42.690Z"
   },
   {
    "duration": 20,
    "start_time": "2024-07-12T23:20:02.058Z"
   },
   {
    "duration": 10,
    "start_time": "2024-07-12T23:20:47.708Z"
   },
   {
    "duration": 11,
    "start_time": "2024-07-12T23:21:04.805Z"
   },
   {
    "duration": 564,
    "start_time": "2024-07-12T23:21:11.150Z"
   },
   {
    "duration": 12,
    "start_time": "2024-07-12T23:21:18.101Z"
   },
   {
    "duration": 53,
    "start_time": "2024-07-12T23:21:36.479Z"
   },
   {
    "duration": 10,
    "start_time": "2024-07-12T23:21:47.633Z"
   },
   {
    "duration": 15,
    "start_time": "2024-07-12T23:22:45.324Z"
   },
   {
    "duration": 4,
    "start_time": "2024-07-12T23:22:46.984Z"
   },
   {
    "duration": 4,
    "start_time": "2024-07-12T23:22:47.498Z"
   },
   {
    "duration": 5,
    "start_time": "2024-07-12T23:22:48.087Z"
   },
   {
    "duration": 7,
    "start_time": "2024-07-12T23:22:48.487Z"
   },
   {
    "duration": 6,
    "start_time": "2024-07-12T23:22:49.204Z"
   },
   {
    "duration": 7,
    "start_time": "2024-07-12T23:22:50.737Z"
   },
   {
    "duration": 6,
    "start_time": "2024-07-12T23:22:51.287Z"
   },
   {
    "duration": 7,
    "start_time": "2024-07-12T23:22:51.759Z"
   },
   {
    "duration": 6,
    "start_time": "2024-07-12T23:22:52.128Z"
   },
   {
    "duration": 6,
    "start_time": "2024-07-12T23:22:54.179Z"
   },
   {
    "duration": 37,
    "start_time": "2024-07-12T23:23:46.184Z"
   },
   {
    "duration": 5,
    "start_time": "2024-07-12T23:23:56.715Z"
   },
   {
    "duration": 8,
    "start_time": "2024-07-12T23:23:57.063Z"
   },
   {
    "duration": 36,
    "start_time": "2024-07-12T23:24:05.493Z"
   },
   {
    "duration": 5,
    "start_time": "2024-07-12T23:26:31.529Z"
   },
   {
    "duration": 6,
    "start_time": "2024-07-12T23:26:31.977Z"
   },
   {
    "duration": 5,
    "start_time": "2024-07-12T23:26:33.506Z"
   },
   {
    "duration": 8,
    "start_time": "2024-07-12T23:26:33.971Z"
   },
   {
    "duration": 5,
    "start_time": "2024-07-12T23:26:36.137Z"
   },
   {
    "duration": 4,
    "start_time": "2024-07-12T23:26:36.742Z"
   },
   {
    "duration": 39,
    "start_time": "2024-07-12T23:27:01.628Z"
   },
   {
    "duration": 335,
    "start_time": "2024-07-12T23:27:16.220Z"
   },
   {
    "duration": 7,
    "start_time": "2024-07-12T23:58:08.831Z"
   },
   {
    "duration": 4,
    "start_time": "2024-07-12T23:59:31.778Z"
   },
   {
    "duration": 37,
    "start_time": "2024-07-13T00:00:02.852Z"
   },
   {
    "duration": 94,
    "start_time": "2024-07-13T00:00:29.987Z"
   },
   {
    "duration": 141,
    "start_time": "2024-07-13T00:01:32.714Z"
   },
   {
    "duration": 110,
    "start_time": "2024-07-13T00:01:50.408Z"
   },
   {
    "duration": 207,
    "start_time": "2024-07-13T00:02:02.543Z"
   },
   {
    "duration": 101,
    "start_time": "2024-07-13T00:02:23.039Z"
   },
   {
    "duration": 29,
    "start_time": "2024-07-13T00:04:01.380Z"
   },
   {
    "duration": 136,
    "start_time": "2024-07-13T00:04:11.250Z"
   },
   {
    "duration": 15,
    "start_time": "2024-07-13T00:05:15.500Z"
   },
   {
    "duration": 8,
    "start_time": "2024-07-13T00:05:18.307Z"
   },
   {
    "duration": 6,
    "start_time": "2024-07-13T00:05:41.032Z"
   },
   {
    "duration": 88,
    "start_time": "2024-07-13T00:05:43.113Z"
   },
   {
    "duration": 112,
    "start_time": "2024-07-13T00:05:45.469Z"
   },
   {
    "duration": 38,
    "start_time": "2024-07-13T00:08:08.801Z"
   },
   {
    "duration": 3,
    "start_time": "2024-07-13T00:08:56.635Z"
   },
   {
    "duration": 16,
    "start_time": "2024-07-13T00:09:06.342Z"
   },
   {
    "duration": 15,
    "start_time": "2024-07-13T00:09:13.689Z"
   },
   {
    "duration": 90,
    "start_time": "2024-07-13T00:09:23.897Z"
   },
   {
    "duration": 87,
    "start_time": "2024-07-13T00:09:47.341Z"
   },
   {
    "duration": 91,
    "start_time": "2024-07-13T00:09:51.308Z"
   },
   {
    "duration": 105,
    "start_time": "2024-07-13T00:10:07.060Z"
   },
   {
    "duration": 223,
    "start_time": "2024-07-13T00:10:26.510Z"
   },
   {
    "duration": 1620,
    "start_time": "2024-07-13T00:10:52.341Z"
   },
   {
    "duration": 11,
    "start_time": "2024-07-13T00:10:53.964Z"
   },
   {
    "duration": 6,
    "start_time": "2024-07-13T00:10:53.977Z"
   },
   {
    "duration": 18,
    "start_time": "2024-07-13T00:10:53.986Z"
   },
   {
    "duration": 15,
    "start_time": "2024-07-13T00:10:54.033Z"
   },
   {
    "duration": 6,
    "start_time": "2024-07-13T00:10:54.050Z"
   },
   {
    "duration": 15,
    "start_time": "2024-07-13T00:10:54.059Z"
   },
   {
    "duration": 3,
    "start_time": "2024-07-13T00:10:54.077Z"
   },
   {
    "duration": 76,
    "start_time": "2024-07-13T00:10:54.083Z"
   },
   {
    "duration": 218,
    "start_time": "2024-07-13T00:10:54.162Z"
   },
   {
    "duration": 174,
    "start_time": "2024-07-13T00:10:54.384Z"
   },
   {
    "duration": 158,
    "start_time": "2024-07-13T00:10:54.561Z"
   },
   {
    "duration": 173,
    "start_time": "2024-07-13T00:10:54.723Z"
   },
   {
    "duration": 282,
    "start_time": "2024-07-13T00:10:54.904Z"
   },
   {
    "duration": 8,
    "start_time": "2024-07-13T00:10:55.190Z"
   },
   {
    "duration": 4882,
    "start_time": "2024-07-13T00:10:55.201Z"
   },
   {
    "duration": 4,
    "start_time": "2024-07-13T00:11:00.087Z"
   },
   {
    "duration": 8,
    "start_time": "2024-07-13T00:11:00.094Z"
   },
   {
    "duration": 28,
    "start_time": "2024-07-13T00:11:00.105Z"
   },
   {
    "duration": 13,
    "start_time": "2024-07-13T00:11:00.136Z"
   },
   {
    "duration": 24,
    "start_time": "2024-07-13T00:11:00.152Z"
   },
   {
    "duration": 71,
    "start_time": "2024-07-13T00:11:00.179Z"
   },
   {
    "duration": 24,
    "start_time": "2024-07-13T00:11:00.253Z"
   },
   {
    "duration": 62,
    "start_time": "2024-07-13T00:11:00.280Z"
   },
   {
    "duration": 7,
    "start_time": "2024-07-13T00:11:00.345Z"
   },
   {
    "duration": 5,
    "start_time": "2024-07-13T00:11:00.355Z"
   },
   {
    "duration": 8,
    "start_time": "2024-07-13T00:11:00.363Z"
   },
   {
    "duration": 6,
    "start_time": "2024-07-13T00:11:00.374Z"
   },
   {
    "duration": 49,
    "start_time": "2024-07-13T00:11:00.384Z"
   },
   {
    "duration": 5,
    "start_time": "2024-07-13T00:11:00.436Z"
   },
   {
    "duration": 6,
    "start_time": "2024-07-13T00:11:00.444Z"
   },
   {
    "duration": 960,
    "start_time": "2024-07-13T00:11:00.453Z"
   },
   {
    "duration": 0,
    "start_time": "2024-07-13T00:11:01.417Z"
   },
   {
    "duration": 0,
    "start_time": "2024-07-13T00:11:01.430Z"
   },
   {
    "duration": 0,
    "start_time": "2024-07-13T00:11:01.434Z"
   },
   {
    "duration": 0,
    "start_time": "2024-07-13T00:11:01.438Z"
   },
   {
    "duration": 0,
    "start_time": "2024-07-13T00:11:01.440Z"
   },
   {
    "duration": 0,
    "start_time": "2024-07-13T00:11:01.442Z"
   },
   {
    "duration": 0,
    "start_time": "2024-07-13T00:11:01.446Z"
   },
   {
    "duration": 0,
    "start_time": "2024-07-13T00:11:01.449Z"
   },
   {
    "duration": 0,
    "start_time": "2024-07-13T00:11:01.450Z"
   },
   {
    "duration": 0,
    "start_time": "2024-07-13T00:11:01.453Z"
   },
   {
    "duration": 0,
    "start_time": "2024-07-13T00:11:01.456Z"
   },
   {
    "duration": 0,
    "start_time": "2024-07-13T00:11:01.458Z"
   },
   {
    "duration": 0,
    "start_time": "2024-07-13T00:11:01.461Z"
   },
   {
    "duration": 0,
    "start_time": "2024-07-13T00:11:01.464Z"
   },
   {
    "duration": 0,
    "start_time": "2024-07-13T00:11:01.466Z"
   },
   {
    "duration": 0,
    "start_time": "2024-07-13T00:11:01.469Z"
   },
   {
    "duration": 0,
    "start_time": "2024-07-13T00:11:01.472Z"
   },
   {
    "duration": 0,
    "start_time": "2024-07-13T00:11:01.474Z"
   },
   {
    "duration": 5,
    "start_time": "2024-07-13T00:11:58.331Z"
   },
   {
    "duration": 4,
    "start_time": "2024-07-13T00:12:00.662Z"
   },
   {
    "duration": 202,
    "start_time": "2024-07-13T00:12:01.560Z"
   },
   {
    "duration": 4,
    "start_time": "2024-07-13T00:13:19.502Z"
   },
   {
    "duration": 5,
    "start_time": "2024-07-13T00:13:20.291Z"
   },
   {
    "duration": 205,
    "start_time": "2024-07-13T00:13:20.826Z"
   },
   {
    "duration": 5,
    "start_time": "2024-07-13T00:13:46.964Z"
   },
   {
    "duration": 4,
    "start_time": "2024-07-13T00:13:47.751Z"
   },
   {
    "duration": 136,
    "start_time": "2024-07-13T00:13:48.455Z"
   },
   {
    "duration": 5353,
    "start_time": "2024-07-13T02:12:29.301Z"
   },
   {
    "duration": 18,
    "start_time": "2024-07-13T02:12:34.657Z"
   },
   {
    "duration": 5,
    "start_time": "2024-07-13T02:12:34.677Z"
   },
   {
    "duration": 31,
    "start_time": "2024-07-13T02:12:34.687Z"
   },
   {
    "duration": 14,
    "start_time": "2024-07-13T02:12:34.721Z"
   },
   {
    "duration": 5,
    "start_time": "2024-07-13T02:12:34.738Z"
   },
   {
    "duration": 56,
    "start_time": "2024-07-13T02:12:34.747Z"
   },
   {
    "duration": 3,
    "start_time": "2024-07-13T02:12:34.806Z"
   },
   {
    "duration": 34,
    "start_time": "2024-07-13T02:12:34.812Z"
   },
   {
    "duration": 217,
    "start_time": "2024-07-13T02:12:34.850Z"
   },
   {
    "duration": 167,
    "start_time": "2024-07-13T02:12:35.070Z"
   },
   {
    "duration": 218,
    "start_time": "2024-07-13T02:12:35.378Z"
   },
   {
    "duration": 176,
    "start_time": "2024-07-13T02:12:35.695Z"
   },
   {
    "duration": 283,
    "start_time": "2024-07-13T02:12:35.965Z"
   },
   {
    "duration": 8,
    "start_time": "2024-07-13T02:12:36.786Z"
   },
   {
    "duration": 4967,
    "start_time": "2024-07-13T02:12:41.895Z"
   },
   {
    "duration": 4,
    "start_time": "2024-07-13T02:12:46.865Z"
   },
   {
    "duration": 11,
    "start_time": "2024-07-13T02:12:46.872Z"
   },
   {
    "duration": 14,
    "start_time": "2024-07-13T02:12:46.965Z"
   },
   {
    "duration": 13,
    "start_time": "2024-07-13T02:12:47.453Z"
   },
   {
    "duration": 23,
    "start_time": "2024-07-13T02:12:50.313Z"
   },
   {
    "duration": 38,
    "start_time": "2024-07-13T02:12:52.504Z"
   },
   {
    "duration": 22,
    "start_time": "2024-07-13T02:12:55.234Z"
   },
   {
    "duration": 48,
    "start_time": "2024-07-13T02:12:56.345Z"
   },
   {
    "duration": 7,
    "start_time": "2024-07-13T02:12:58.481Z"
   },
   {
    "duration": 38,
    "start_time": "2024-07-13T02:16:36.189Z"
   },
   {
    "duration": 24,
    "start_time": "2024-07-13T02:16:38.893Z"
   },
   {
    "duration": 38,
    "start_time": "2024-07-13T02:16:39.903Z"
   },
   {
    "duration": 6,
    "start_time": "2024-07-13T02:16:42.465Z"
   },
   {
    "duration": 4,
    "start_time": "2024-07-13T02:17:23.172Z"
   },
   {
    "duration": 7,
    "start_time": "2024-07-13T02:17:29.439Z"
   },
   {
    "duration": 15,
    "start_time": "2024-07-13T02:17:35.787Z"
   },
   {
    "duration": 7,
    "start_time": "2024-07-13T02:17:41.776Z"
   },
   {
    "duration": 6,
    "start_time": "2024-07-13T02:17:57.603Z"
   },
   {
    "duration": 5,
    "start_time": "2024-07-13T02:18:47.536Z"
   },
   {
    "duration": 4,
    "start_time": "2024-07-13T02:18:47.866Z"
   },
   {
    "duration": 515,
    "start_time": "2024-07-13T02:18:48.898Z"
   },
   {
    "duration": 114,
    "start_time": "2024-07-13T02:19:13.089Z"
   },
   {
    "duration": 4,
    "start_time": "2024-07-13T02:21:21.099Z"
   },
   {
    "duration": 6,
    "start_time": "2024-07-13T02:22:06.028Z"
   },
   {
    "duration": 16,
    "start_time": "2024-07-13T02:22:17.664Z"
   },
   {
    "duration": 20,
    "start_time": "2024-07-13T02:22:21.285Z"
   },
   {
    "duration": 6,
    "start_time": "2024-07-13T02:23:58.350Z"
   },
   {
    "duration": 10,
    "start_time": "2024-07-13T02:24:13.285Z"
   },
   {
    "duration": 925,
    "start_time": "2024-07-13T02:24:29.512Z"
   },
   {
    "duration": 4,
    "start_time": "2024-07-13T02:24:32.999Z"
   },
   {
    "duration": 84,
    "start_time": "2024-07-13T02:24:33.447Z"
   },
   {
    "duration": 7,
    "start_time": "2024-07-13T02:25:06.559Z"
   },
   {
    "duration": 4,
    "start_time": "2024-07-13T02:25:07.248Z"
   },
   {
    "duration": 8,
    "start_time": "2024-07-13T02:25:12.570Z"
   },
   {
    "duration": 8,
    "start_time": "2024-07-13T02:25:13.203Z"
   },
   {
    "duration": 43,
    "start_time": "2024-07-13T02:25:14.649Z"
   },
   {
    "duration": 6,
    "start_time": "2024-07-13T02:25:28.785Z"
   },
   {
    "duration": 7,
    "start_time": "2024-07-13T02:25:29.158Z"
   },
   {
    "duration": 41,
    "start_time": "2024-07-13T02:25:30.393Z"
   },
   {
    "duration": 50,
    "start_time": "2024-07-13T02:27:18.271Z"
   },
   {
    "duration": 9,
    "start_time": "2024-07-13T02:27:36.788Z"
   },
   {
    "duration": 4,
    "start_time": "2024-07-13T02:27:37.379Z"
   },
   {
    "duration": 4,
    "start_time": "2024-07-13T02:27:38.043Z"
   },
   {
    "duration": 5,
    "start_time": "2024-07-13T02:27:38.410Z"
   },
   {
    "duration": 8,
    "start_time": "2024-07-13T02:27:38.862Z"
   },
   {
    "duration": 48,
    "start_time": "2024-07-13T02:27:39.662Z"
   },
   {
    "duration": 5,
    "start_time": "2024-07-13T02:27:55.042Z"
   },
   {
    "duration": 23,
    "start_time": "2024-07-13T02:28:02.285Z"
   },
   {
    "duration": 18,
    "start_time": "2024-07-13T02:28:20.893Z"
   },
   {
    "duration": 16,
    "start_time": "2024-07-13T02:28:24.995Z"
   },
   {
    "duration": 23,
    "start_time": "2024-07-13T02:28:32.553Z"
   },
   {
    "duration": 17,
    "start_time": "2024-07-13T02:28:44.978Z"
   },
   {
    "duration": 46,
    "start_time": "2024-07-13T02:30:19.869Z"
   },
   {
    "duration": 44,
    "start_time": "2024-07-13T02:31:12.860Z"
   },
   {
    "duration": 46,
    "start_time": "2024-07-13T02:31:45.886Z"
   },
   {
    "duration": 5,
    "start_time": "2024-07-13T02:32:44.811Z"
   },
   {
    "duration": 5,
    "start_time": "2024-07-13T02:32:45.559Z"
   },
   {
    "duration": 5,
    "start_time": "2024-07-13T02:32:45.994Z"
   },
   {
    "duration": 8,
    "start_time": "2024-07-13T02:32:46.475Z"
   },
   {
    "duration": 20,
    "start_time": "2024-07-13T02:32:47.211Z"
   },
   {
    "duration": 5,
    "start_time": "2024-07-13T02:34:50.072Z"
   },
   {
    "duration": 4,
    "start_time": "2024-07-13T02:34:50.545Z"
   },
   {
    "duration": 5,
    "start_time": "2024-07-13T02:34:51.373Z"
   },
   {
    "duration": 8,
    "start_time": "2024-07-13T02:34:51.698Z"
   },
   {
    "duration": 17,
    "start_time": "2024-07-13T02:34:52.770Z"
   },
   {
    "duration": 6,
    "start_time": "2024-07-13T02:37:08.574Z"
   },
   {
    "duration": 3,
    "start_time": "2024-07-13T02:38:01.734Z"
   },
   {
    "duration": 12,
    "start_time": "2024-07-13T02:38:29.218Z"
   },
   {
    "duration": 70,
    "start_time": "2024-07-13T02:39:06.214Z"
   },
   {
    "duration": 191,
    "start_time": "2024-07-13T02:39:25.964Z"
   },
   {
    "duration": 465,
    "start_time": "2024-07-13T02:39:40.651Z"
   },
   {
    "duration": 169,
    "start_time": "2024-07-13T02:40:55.193Z"
   },
   {
    "duration": 71,
    "start_time": "2024-07-13T02:41:02.517Z"
   },
   {
    "duration": 88,
    "start_time": "2024-07-13T02:41:16.055Z"
   },
   {
    "duration": 74,
    "start_time": "2024-07-13T02:41:22.386Z"
   },
   {
    "duration": 88,
    "start_time": "2024-07-13T02:41:32.400Z"
   },
   {
    "duration": 87,
    "start_time": "2024-07-13T02:41:38.226Z"
   },
   {
    "duration": 98,
    "start_time": "2024-07-13T02:41:52.876Z"
   },
   {
    "duration": 197,
    "start_time": "2024-07-13T02:42:13.403Z"
   },
   {
    "duration": 78,
    "start_time": "2024-07-13T02:43:44.865Z"
   },
   {
    "duration": 94,
    "start_time": "2024-07-13T02:44:06.662Z"
   },
   {
    "duration": 89,
    "start_time": "2024-07-13T02:44:17.738Z"
   },
   {
    "duration": 73,
    "start_time": "2024-07-13T02:44:40.745Z"
   },
   {
    "duration": 73,
    "start_time": "2024-07-13T02:45:31.331Z"
   },
   {
    "duration": 105,
    "start_time": "2024-07-13T02:46:50.518Z"
   },
   {
    "duration": 76,
    "start_time": "2024-07-13T02:46:56.993Z"
   },
   {
    "duration": 73,
    "start_time": "2024-07-13T02:47:23.416Z"
   },
   {
    "duration": 86,
    "start_time": "2024-07-13T02:48:24.096Z"
   },
   {
    "duration": 94,
    "start_time": "2024-07-13T02:48:36.072Z"
   },
   {
    "duration": 87,
    "start_time": "2024-07-13T02:48:42.308Z"
   },
   {
    "duration": 85,
    "start_time": "2024-07-13T02:48:45.987Z"
   },
   {
    "duration": 108,
    "start_time": "2024-07-13T02:49:06.304Z"
   },
   {
    "duration": 90,
    "start_time": "2024-07-13T02:49:11.491Z"
   },
   {
    "duration": 80,
    "start_time": "2024-07-13T02:51:37.468Z"
   },
   {
    "duration": 90,
    "start_time": "2024-07-13T02:51:39.863Z"
   },
   {
    "duration": 18,
    "start_time": "2024-07-13T02:52:36.450Z"
   },
   {
    "duration": 80,
    "start_time": "2024-07-13T02:53:05.294Z"
   },
   {
    "duration": 17,
    "start_time": "2024-07-13T02:53:07.614Z"
   },
   {
    "duration": 18,
    "start_time": "2024-07-13T02:53:28.553Z"
   },
   {
    "duration": 76,
    "start_time": "2024-07-13T02:57:11.289Z"
   },
   {
    "duration": 16,
    "start_time": "2024-07-13T02:57:13.002Z"
   },
   {
    "duration": 91,
    "start_time": "2024-07-13T02:57:32.636Z"
   },
   {
    "duration": 17,
    "start_time": "2024-07-13T02:58:04.863Z"
   },
   {
    "duration": 18,
    "start_time": "2024-07-13T02:58:33.924Z"
   },
   {
    "duration": 18,
    "start_time": "2024-07-13T02:58:49.407Z"
   },
   {
    "duration": 17,
    "start_time": "2024-07-13T02:59:11.737Z"
   },
   {
    "duration": 16,
    "start_time": "2024-07-13T02:59:19.572Z"
   },
   {
    "duration": 19,
    "start_time": "2024-07-13T02:59:31.808Z"
   },
   {
    "duration": 5,
    "start_time": "2024-07-13T03:03:36.183Z"
   },
   {
    "duration": 35,
    "start_time": "2024-07-13T03:03:57.584Z"
   },
   {
    "duration": 1876,
    "start_time": "2024-07-13T03:04:26.232Z"
   },
   {
    "duration": 1745,
    "start_time": "2024-07-13T03:05:15.999Z"
   },
   {
    "duration": 2055,
    "start_time": "2024-07-13T03:08:16.992Z"
   },
   {
    "duration": 87,
    "start_time": "2024-07-13T03:10:12.199Z"
   },
   {
    "duration": 25,
    "start_time": "2024-07-13T03:10:27.134Z"
   },
   {
    "duration": 18,
    "start_time": "2024-07-13T03:10:31.423Z"
   },
   {
    "duration": 7,
    "start_time": "2024-07-13T03:11:09.182Z"
   },
   {
    "duration": 8,
    "start_time": "2024-07-13T03:11:14.109Z"
   },
   {
    "duration": 7,
    "start_time": "2024-07-13T03:11:50.182Z"
   },
   {
    "duration": 19,
    "start_time": "2024-07-13T03:12:36.597Z"
   },
   {
    "duration": 24,
    "start_time": "2024-07-13T03:12:42.572Z"
   },
   {
    "duration": 81,
    "start_time": "2024-07-13T03:13:08.505Z"
   },
   {
    "duration": 19,
    "start_time": "2024-07-13T03:13:25.305Z"
   },
   {
    "duration": 6,
    "start_time": "2024-07-13T03:13:53.980Z"
   },
   {
    "duration": 17,
    "start_time": "2024-07-13T03:13:57.403Z"
   },
   {
    "duration": 118,
    "start_time": "2024-07-13T03:14:20.127Z"
   },
   {
    "duration": 110,
    "start_time": "2024-07-13T03:14:26.988Z"
   },
   {
    "duration": 107,
    "start_time": "2024-07-13T03:14:34.449Z"
   },
   {
    "duration": 86,
    "start_time": "2024-07-13T03:56:16.623Z"
   },
   {
    "duration": 123,
    "start_time": "2024-07-13T03:56:29.213Z"
   },
   {
    "duration": 102,
    "start_time": "2024-07-13T03:56:36.278Z"
   },
   {
    "duration": 84,
    "start_time": "2024-07-13T03:56:45.358Z"
   },
   {
    "duration": 203,
    "start_time": "2024-07-13T03:56:51.138Z"
   },
   {
    "duration": 95,
    "start_time": "2024-07-13T03:57:08.872Z"
   },
   {
    "duration": 90,
    "start_time": "2024-07-13T03:58:07.346Z"
   },
   {
    "duration": 86,
    "start_time": "2024-07-13T03:58:18.891Z"
   },
   {
    "duration": 82,
    "start_time": "2024-07-13T03:58:28.352Z"
   },
   {
    "duration": 5480,
    "start_time": "2024-07-13T22:48:15.406Z"
   },
   {
    "duration": 22,
    "start_time": "2024-07-13T22:48:20.890Z"
   },
   {
    "duration": 7,
    "start_time": "2024-07-13T22:48:20.917Z"
   },
   {
    "duration": 24,
    "start_time": "2024-07-13T22:48:20.933Z"
   },
   {
    "duration": 50,
    "start_time": "2024-07-13T22:48:20.960Z"
   },
   {
    "duration": 5,
    "start_time": "2024-07-13T22:48:21.014Z"
   },
   {
    "duration": 19,
    "start_time": "2024-07-13T22:48:21.023Z"
   },
   {
    "duration": 4,
    "start_time": "2024-07-13T22:48:21.045Z"
   },
   {
    "duration": 81,
    "start_time": "2024-07-13T22:48:21.054Z"
   },
   {
    "duration": 213,
    "start_time": "2024-07-13T22:48:21.140Z"
   },
   {
    "duration": 241,
    "start_time": "2024-07-13T22:48:21.356Z"
   },
   {
    "duration": 174,
    "start_time": "2024-07-13T22:48:21.600Z"
   },
   {
    "duration": 180,
    "start_time": "2024-07-13T22:48:21.777Z"
   },
   {
    "duration": 322,
    "start_time": "2024-07-13T22:48:21.960Z"
   },
   {
    "duration": 25,
    "start_time": "2024-07-13T22:48:22.286Z"
   },
   {
    "duration": 5182,
    "start_time": "2024-07-13T22:48:23.519Z"
   },
   {
    "duration": 7,
    "start_time": "2024-07-13T22:48:28.705Z"
   },
   {
    "duration": 6,
    "start_time": "2024-07-13T22:48:28.715Z"
   },
   {
    "duration": 15,
    "start_time": "2024-07-13T22:48:28.727Z"
   },
   {
    "duration": 14,
    "start_time": "2024-07-13T22:48:28.745Z"
   },
   {
    "duration": 65,
    "start_time": "2024-07-13T22:48:28.763Z"
   },
   {
    "duration": 47,
    "start_time": "2024-07-13T22:48:28.831Z"
   },
   {
    "duration": 24,
    "start_time": "2024-07-13T22:48:29.551Z"
   },
   {
    "duration": 40,
    "start_time": "2024-07-13T22:48:30.213Z"
   },
   {
    "duration": 7,
    "start_time": "2024-07-13T22:48:31.625Z"
   },
   {
    "duration": 5,
    "start_time": "2024-07-13T22:48:34.641Z"
   },
   {
    "duration": 5,
    "start_time": "2024-07-13T22:48:37.629Z"
   },
   {
    "duration": 1961,
    "start_time": "2024-07-13T22:48:38.130Z"
   },
   {
    "duration": 181,
    "start_time": "2024-07-13T22:48:40.122Z"
   },
   {
    "duration": 29,
    "start_time": "2024-07-13T22:48:41.240Z"
   },
   {
    "duration": 28,
    "start_time": "2024-07-13T22:50:07.509Z"
   },
   {
    "duration": 18,
    "start_time": "2024-07-13T22:50:13.356Z"
   },
   {
    "duration": 9,
    "start_time": "2024-07-13T22:50:22.377Z"
   },
   {
    "duration": 9,
    "start_time": "2024-07-13T22:50:27.050Z"
   },
   {
    "duration": 23,
    "start_time": "2024-07-13T22:50:34.917Z"
   },
   {
    "duration": 19,
    "start_time": "2024-07-13T22:50:57.464Z"
   },
   {
    "duration": 78,
    "start_time": "2024-07-13T22:51:37.470Z"
   },
   {
    "duration": 20,
    "start_time": "2024-07-13T22:51:46.268Z"
   },
   {
    "duration": 34,
    "start_time": "2024-07-13T22:52:02.703Z"
   },
   {
    "duration": 10,
    "start_time": "2024-07-13T22:52:31.315Z"
   },
   {
    "duration": 105,
    "start_time": "2024-07-13T22:52:33.304Z"
   },
   {
    "duration": 92,
    "start_time": "2024-07-13T23:01:17.505Z"
   },
   {
    "duration": 92,
    "start_time": "2024-07-13T23:01:21.445Z"
   },
   {
    "duration": 7,
    "start_time": "2024-07-13T23:01:31.099Z"
   },
   {
    "duration": 19,
    "start_time": "2024-07-13T23:01:31.652Z"
   },
   {
    "duration": 7,
    "start_time": "2024-07-13T23:02:38.140Z"
   },
   {
    "duration": 28,
    "start_time": "2024-07-13T23:02:55.189Z"
   },
   {
    "duration": 25,
    "start_time": "2024-07-13T23:03:19.871Z"
   },
   {
    "duration": 20,
    "start_time": "2024-07-13T23:03:57.731Z"
   },
   {
    "duration": 23,
    "start_time": "2024-07-13T23:04:09.634Z"
   },
   {
    "duration": 72,
    "start_time": "2024-07-13T23:05:18.682Z"
   },
   {
    "duration": 7,
    "start_time": "2024-07-13T23:05:36.195Z"
   },
   {
    "duration": 7,
    "start_time": "2024-07-13T23:05:57.655Z"
   },
   {
    "duration": 12,
    "start_time": "2024-07-13T23:06:00.600Z"
   },
   {
    "duration": 89,
    "start_time": "2024-07-13T23:06:20.102Z"
   },
   {
    "duration": 74,
    "start_time": "2024-07-13T23:06:27.389Z"
   },
   {
    "duration": 72,
    "start_time": "2024-07-13T23:06:34.795Z"
   },
   {
    "duration": 20,
    "start_time": "2024-07-13T23:06:39.493Z"
   },
   {
    "duration": 399,
    "start_time": "2024-07-13T23:07:02.740Z"
   },
   {
    "duration": 7,
    "start_time": "2024-07-13T23:07:35.615Z"
   },
   {
    "duration": 5,
    "start_time": "2024-07-13T23:07:40.974Z"
   },
   {
    "duration": 154,
    "start_time": "2024-07-13T23:08:20.955Z"
   },
   {
    "duration": 36,
    "start_time": "2024-07-13T23:10:16.503Z"
   },
   {
    "duration": 145,
    "start_time": "2024-07-13T23:10:21.714Z"
   },
   {
    "duration": 8,
    "start_time": "2024-07-13T23:10:56.220Z"
   },
   {
    "duration": 5,
    "start_time": "2024-07-13T23:11:07.885Z"
   },
   {
    "duration": 9,
    "start_time": "2024-07-13T23:11:13.360Z"
   },
   {
    "duration": 8,
    "start_time": "2024-07-13T23:11:19.212Z"
   },
   {
    "duration": 8,
    "start_time": "2024-07-13T23:11:23.975Z"
   },
   {
    "duration": 8,
    "start_time": "2024-07-13T23:11:50.450Z"
   },
   {
    "duration": 22,
    "start_time": "2024-07-13T23:11:54.632Z"
   },
   {
    "duration": 6,
    "start_time": "2024-07-13T23:12:05.034Z"
   },
   {
    "duration": 8,
    "start_time": "2024-07-13T23:12:11.411Z"
   },
   {
    "duration": 5,
    "start_time": "2024-07-13T23:12:26.840Z"
   },
   {
    "duration": 13,
    "start_time": "2024-07-13T23:12:36.836Z"
   },
   {
    "duration": 24,
    "start_time": "2024-07-13T23:15:30.728Z"
   },
   {
    "duration": 143,
    "start_time": "2024-07-13T23:16:34.143Z"
   },
   {
    "duration": 22,
    "start_time": "2024-07-13T23:17:23.316Z"
   },
   {
    "duration": 14,
    "start_time": "2024-07-13T23:18:06.411Z"
   },
   {
    "duration": 14,
    "start_time": "2024-07-13T23:18:11.555Z"
   },
   {
    "duration": 16,
    "start_time": "2024-07-13T23:18:17.067Z"
   },
   {
    "duration": 13,
    "start_time": "2024-07-13T23:18:38.590Z"
   },
   {
    "duration": 21,
    "start_time": "2024-07-13T23:18:56.460Z"
   },
   {
    "duration": 6,
    "start_time": "2024-07-13T23:19:41.066Z"
   },
   {
    "duration": 4,
    "start_time": "2024-07-13T23:19:41.692Z"
   },
   {
    "duration": 30,
    "start_time": "2024-07-13T23:19:42.731Z"
   },
   {
    "duration": 24,
    "start_time": "2024-07-13T23:20:13.488Z"
   },
   {
    "duration": 6,
    "start_time": "2024-07-13T23:20:31.979Z"
   },
   {
    "duration": 5,
    "start_time": "2024-07-13T23:20:51.115Z"
   },
   {
    "duration": 18,
    "start_time": "2024-07-13T23:20:54.119Z"
   },
   {
    "duration": 6,
    "start_time": "2024-07-13T23:21:25.841Z"
   },
   {
    "duration": 5,
    "start_time": "2024-07-13T23:21:26.192Z"
   },
   {
    "duration": 5,
    "start_time": "2024-07-13T23:21:27.205Z"
   },
   {
    "duration": 12,
    "start_time": "2024-07-13T23:21:27.732Z"
   },
   {
    "duration": 12,
    "start_time": "2024-07-13T23:21:29.012Z"
   },
   {
    "duration": 8,
    "start_time": "2024-07-13T23:21:30.915Z"
   },
   {
    "duration": 7,
    "start_time": "2024-07-13T23:21:31.466Z"
   },
   {
    "duration": 7,
    "start_time": "2024-07-13T23:21:31.895Z"
   },
   {
    "duration": 6,
    "start_time": "2024-07-13T23:21:32.237Z"
   },
   {
    "duration": 8,
    "start_time": "2024-07-13T23:21:32.957Z"
   },
   {
    "duration": 10,
    "start_time": "2024-07-13T23:21:37.865Z"
   },
   {
    "duration": 11,
    "start_time": "2024-07-13T23:21:38.148Z"
   },
   {
    "duration": 16,
    "start_time": "2024-07-13T23:21:38.657Z"
   },
   {
    "duration": 101,
    "start_time": "2024-07-13T23:21:39.271Z"
   },
   {
    "duration": 7,
    "start_time": "2024-07-13T23:22:18.419Z"
   },
   {
    "duration": 7,
    "start_time": "2024-07-13T23:22:21.335Z"
   },
   {
    "duration": 17,
    "start_time": "2024-07-13T23:22:57.097Z"
   },
   {
    "duration": 53,
    "start_time": "2024-07-13T23:23:00.671Z"
   },
   {
    "duration": 9,
    "start_time": "2024-07-13T23:23:22.233Z"
   },
   {
    "duration": 6,
    "start_time": "2024-07-13T23:23:58.242Z"
   },
   {
    "duration": 6,
    "start_time": "2024-07-13T23:24:05.688Z"
   },
   {
    "duration": 174,
    "start_time": "2024-07-13T23:24:17.742Z"
   },
   {
    "duration": 4,
    "start_time": "2024-07-13T23:24:26.599Z"
   },
   {
    "duration": 18,
    "start_time": "2024-07-13T23:24:38.473Z"
   },
   {
    "duration": 8,
    "start_time": "2024-07-13T23:25:22.774Z"
   },
   {
    "duration": 5,
    "start_time": "2024-07-13T23:25:29.171Z"
   },
   {
    "duration": 7,
    "start_time": "2024-07-13T23:25:40.157Z"
   },
   {
    "duration": 16,
    "start_time": "2024-07-13T23:25:43.843Z"
   },
   {
    "duration": 13,
    "start_time": "2024-07-13T23:25:49.290Z"
   },
   {
    "duration": 15,
    "start_time": "2024-07-13T23:25:52.200Z"
   },
   {
    "duration": 8,
    "start_time": "2024-07-13T23:26:19.034Z"
   },
   {
    "duration": 7,
    "start_time": "2024-07-14T00:31:04.625Z"
   },
   {
    "duration": 7,
    "start_time": "2024-07-14T00:31:04.947Z"
   },
   {
    "duration": 10,
    "start_time": "2024-07-14T00:31:05.286Z"
   },
   {
    "duration": 16,
    "start_time": "2024-07-14T00:31:05.866Z"
   },
   {
    "duration": 14,
    "start_time": "2024-07-14T00:31:06.698Z"
   },
   {
    "duration": 1735,
    "start_time": "2024-07-14T01:09:17.623Z"
   },
   {
    "duration": 13,
    "start_time": "2024-07-14T01:09:19.362Z"
   },
   {
    "duration": 7,
    "start_time": "2024-07-14T01:09:19.380Z"
   },
   {
    "duration": 27,
    "start_time": "2024-07-14T01:09:19.748Z"
   },
   {
    "duration": 19,
    "start_time": "2024-07-14T01:09:20.161Z"
   },
   {
    "duration": 6,
    "start_time": "2024-07-14T01:09:20.546Z"
   },
   {
    "duration": 16,
    "start_time": "2024-07-14T01:09:20.908Z"
   },
   {
    "duration": 4,
    "start_time": "2024-07-14T01:09:21.198Z"
   },
   {
    "duration": 46,
    "start_time": "2024-07-14T01:09:21.523Z"
   },
   {
    "duration": 217,
    "start_time": "2024-07-14T01:09:21.780Z"
   },
   {
    "duration": 169,
    "start_time": "2024-07-14T01:09:22.145Z"
   },
   {
    "duration": 174,
    "start_time": "2024-07-14T01:09:22.397Z"
   },
   {
    "duration": 172,
    "start_time": "2024-07-14T01:09:22.740Z"
   },
   {
    "duration": 343,
    "start_time": "2024-07-14T01:09:23.023Z"
   },
   {
    "duration": 13,
    "start_time": "2024-07-14T01:09:23.701Z"
   },
   {
    "duration": 5575,
    "start_time": "2024-07-14T01:09:25.665Z"
   },
   {
    "duration": 5,
    "start_time": "2024-07-14T01:09:31.243Z"
   },
   {
    "duration": 10,
    "start_time": "2024-07-14T01:09:31.253Z"
   },
   {
    "duration": 17,
    "start_time": "2024-07-14T01:09:32.204Z"
   },
   {
    "duration": 18,
    "start_time": "2024-07-14T01:09:32.778Z"
   },
   {
    "duration": 25,
    "start_time": "2024-07-14T01:09:34.158Z"
   },
   {
    "duration": 45,
    "start_time": "2024-07-14T01:09:35.163Z"
   },
   {
    "duration": 27,
    "start_time": "2024-07-14T01:09:36.642Z"
   },
   {
    "duration": 49,
    "start_time": "2024-07-14T01:09:37.763Z"
   },
   {
    "duration": 8,
    "start_time": "2024-07-14T01:09:39.402Z"
   },
   {
    "duration": 7,
    "start_time": "2024-07-14T01:09:41.276Z"
   },
   {
    "duration": 5,
    "start_time": "2024-07-14T01:09:41.828Z"
   },
   {
    "duration": 7,
    "start_time": "2024-07-14T01:09:42.302Z"
   },
   {
    "duration": 111,
    "start_time": "2024-07-14T01:09:43.098Z"
   },
   {
    "duration": 17,
    "start_time": "2024-07-14T01:09:43.706Z"
   },
   {
    "duration": 120,
    "start_time": "2024-07-14T01:09:44.751Z"
   },
   {
    "duration": 17,
    "start_time": "2024-07-14T01:09:45.221Z"
   },
   {
    "duration": 25,
    "start_time": "2024-07-14T01:09:46.428Z"
   },
   {
    "duration": 6,
    "start_time": "2024-07-14T01:09:51.963Z"
   },
   {
    "duration": 9,
    "start_time": "2024-07-14T01:09:52.784Z"
   },
   {
    "duration": 6,
    "start_time": "2024-07-14T01:09:53.360Z"
   },
   {
    "duration": 16,
    "start_time": "2024-07-14T01:09:53.753Z"
   },
   {
    "duration": 7,
    "start_time": "2024-07-14T01:09:55.874Z"
   },
   {
    "duration": 4,
    "start_time": "2024-07-14T01:09:56.236Z"
   },
   {
    "duration": 5,
    "start_time": "2024-07-14T01:09:57.333Z"
   },
   {
    "duration": 7,
    "start_time": "2024-07-14T01:09:57.710Z"
   },
   {
    "duration": 12,
    "start_time": "2024-07-14T01:09:58.813Z"
   },
   {
    "duration": 5,
    "start_time": "2024-07-14T01:10:00.513Z"
   },
   {
    "duration": 7,
    "start_time": "2024-07-14T01:10:01.092Z"
   },
   {
    "duration": 7,
    "start_time": "2024-07-14T01:10:01.582Z"
   },
   {
    "duration": 8,
    "start_time": "2024-07-14T01:10:02.012Z"
   },
   {
    "duration": 11,
    "start_time": "2024-07-14T01:10:02.871Z"
   },
   {
    "duration": 8,
    "start_time": "2024-07-14T01:10:07.977Z"
   },
   {
    "duration": 8,
    "start_time": "2024-07-14T01:10:08.450Z"
   },
   {
    "duration": 10,
    "start_time": "2024-07-14T01:10:08.798Z"
   },
   {
    "duration": 15,
    "start_time": "2024-07-14T01:10:09.267Z"
   },
   {
    "duration": 16,
    "start_time": "2024-07-14T01:10:10.267Z"
   },
   {
    "duration": 10,
    "start_time": "2024-07-14T08:45:29.135Z"
   },
   {
    "duration": 4,
    "start_time": "2024-07-14T08:50:21.490Z"
   },
   {
    "duration": 5230,
    "start_time": "2024-07-14T08:52:55.838Z"
   },
   {
    "duration": 18,
    "start_time": "2024-07-14T08:53:01.071Z"
   },
   {
    "duration": 12,
    "start_time": "2024-07-14T08:53:01.092Z"
   },
   {
    "duration": 19,
    "start_time": "2024-07-14T08:53:01.108Z"
   },
   {
    "duration": 16,
    "start_time": "2024-07-14T08:53:01.130Z"
   },
   {
    "duration": 5,
    "start_time": "2024-07-14T08:53:01.149Z"
   },
   {
    "duration": 56,
    "start_time": "2024-07-14T08:53:01.157Z"
   },
   {
    "duration": 4,
    "start_time": "2024-07-14T08:53:01.215Z"
   },
   {
    "duration": 34,
    "start_time": "2024-07-14T08:53:01.225Z"
   },
   {
    "duration": 261,
    "start_time": "2024-07-14T08:53:01.303Z"
   },
   {
    "duration": 193,
    "start_time": "2024-07-14T08:53:01.567Z"
   },
   {
    "duration": 163,
    "start_time": "2024-07-14T08:53:01.763Z"
   },
   {
    "duration": 173,
    "start_time": "2024-07-14T08:53:01.930Z"
   },
   {
    "duration": 299,
    "start_time": "2024-07-14T08:53:02.106Z"
   },
   {
    "duration": 10,
    "start_time": "2024-07-14T08:53:02.408Z"
   },
   {
    "duration": 5045,
    "start_time": "2024-07-14T08:53:02.421Z"
   },
   {
    "duration": 4,
    "start_time": "2024-07-14T08:53:07.469Z"
   },
   {
    "duration": 6,
    "start_time": "2024-07-14T08:53:07.476Z"
   },
   {
    "duration": 23,
    "start_time": "2024-07-14T08:53:07.489Z"
   },
   {
    "duration": 14,
    "start_time": "2024-07-14T08:53:07.515Z"
   },
   {
    "duration": 24,
    "start_time": "2024-07-14T08:53:07.532Z"
   },
   {
    "duration": 74,
    "start_time": "2024-07-14T08:53:07.559Z"
   },
   {
    "duration": 24,
    "start_time": "2024-07-14T08:53:07.636Z"
   },
   {
    "duration": 64,
    "start_time": "2024-07-14T08:53:07.662Z"
   },
   {
    "duration": 7,
    "start_time": "2024-07-14T08:53:07.728Z"
   },
   {
    "duration": 4,
    "start_time": "2024-07-14T08:53:07.743Z"
   },
   {
    "duration": 4,
    "start_time": "2024-07-14T08:53:07.751Z"
   },
   {
    "duration": 46,
    "start_time": "2024-07-14T08:53:07.758Z"
   },
   {
    "duration": 95,
    "start_time": "2024-07-14T08:53:07.807Z"
   },
   {
    "duration": 14,
    "start_time": "2024-07-14T08:53:07.905Z"
   },
   {
    "duration": 108,
    "start_time": "2024-07-14T08:53:07.922Z"
   },
   {
    "duration": 14,
    "start_time": "2024-07-14T08:53:08.034Z"
   },
   {
    "duration": 18,
    "start_time": "2024-07-14T08:53:08.051Z"
   },
   {
    "duration": 29,
    "start_time": "2024-07-14T08:53:08.072Z"
   },
   {
    "duration": 6,
    "start_time": "2024-07-14T08:53:09.584Z"
   },
   {
    "duration": 5,
    "start_time": "2024-07-14T08:53:09.726Z"
   },
   {
    "duration": 5,
    "start_time": "2024-07-14T08:53:09.883Z"
   },
   {
    "duration": 13,
    "start_time": "2024-07-14T08:53:10.189Z"
   },
   {
    "duration": 6,
    "start_time": "2024-07-14T08:53:13.322Z"
   },
   {
    "duration": 6,
    "start_time": "2024-07-14T08:53:13.465Z"
   },
   {
    "duration": 5,
    "start_time": "2024-07-14T08:53:13.625Z"
   },
   {
    "duration": 13,
    "start_time": "2024-07-14T08:53:13.861Z"
   },
   {
    "duration": 7,
    "start_time": "2024-07-14T08:53:26.438Z"
   },
   {
    "duration": 4,
    "start_time": "2024-07-14T08:53:26.759Z"
   },
   {
    "duration": 6,
    "start_time": "2024-07-14T08:53:26.920Z"
   },
   {
    "duration": 13,
    "start_time": "2024-07-14T08:53:27.225Z"
   },
   {
    "duration": 18,
    "start_time": "2024-07-14T08:53:36.780Z"
   },
   {
    "duration": 13,
    "start_time": "2024-07-14T08:53:53.106Z"
   },
   {
    "duration": 11,
    "start_time": "2024-07-14T08:58:30.623Z"
   },
   {
    "duration": 5,
    "start_time": "2024-07-14T08:58:31.396Z"
   },
   {
    "duration": 4,
    "start_time": "2024-07-14T08:58:31.556Z"
   },
   {
    "duration": 6,
    "start_time": "2024-07-14T08:58:31.874Z"
   },
   {
    "duration": 10,
    "start_time": "2024-07-14T08:58:31.979Z"
   },
   {
    "duration": 10,
    "start_time": "2024-07-14T08:58:32.292Z"
   },
   {
    "duration": 7,
    "start_time": "2024-07-14T08:58:33.087Z"
   },
   {
    "duration": 7,
    "start_time": "2024-07-14T08:58:33.244Z"
   },
   {
    "duration": 7,
    "start_time": "2024-07-14T08:58:33.431Z"
   },
   {
    "duration": 6,
    "start_time": "2024-07-14T08:58:33.617Z"
   },
   {
    "duration": 5,
    "start_time": "2024-07-14T08:58:33.911Z"
   },
   {
    "duration": 4,
    "start_time": "2024-07-14T08:58:36.090Z"
   },
   {
    "duration": 8,
    "start_time": "2024-07-14T08:58:36.239Z"
   },
   {
    "duration": 5,
    "start_time": "2024-07-14T08:58:36.496Z"
   },
   {
    "duration": 12,
    "start_time": "2024-07-14T08:58:36.822Z"
   },
   {
    "duration": 12,
    "start_time": "2024-07-14T08:58:47.985Z"
   },
   {
    "duration": 14,
    "start_time": "2024-07-14T08:58:52.696Z"
   },
   {
    "duration": 7,
    "start_time": "2024-07-14T08:59:11.629Z"
   },
   {
    "duration": 6,
    "start_time": "2024-07-14T08:59:25.637Z"
   },
   {
    "duration": 6,
    "start_time": "2024-07-14T08:59:27.345Z"
   },
   {
    "duration": 5269,
    "start_time": "2024-07-14T14:23:45.881Z"
   },
   {
    "duration": 16,
    "start_time": "2024-07-14T14:23:51.153Z"
   },
   {
    "duration": 6,
    "start_time": "2024-07-14T14:23:51.172Z"
   },
   {
    "duration": 5,
    "start_time": "2024-07-14T14:29:47.290Z"
   },
   {
    "duration": 20,
    "start_time": "2024-07-14T14:29:47.831Z"
   },
   {
    "duration": 3,
    "start_time": "2024-07-14T14:29:48.606Z"
   },
   {
    "duration": 36,
    "start_time": "2024-07-14T14:29:49.041Z"
   },
   {
    "duration": 248,
    "start_time": "2024-07-14T14:29:49.568Z"
   },
   {
    "duration": 156,
    "start_time": "2024-07-14T14:29:49.946Z"
   },
   {
    "duration": 146,
    "start_time": "2024-07-14T14:29:50.327Z"
   },
   {
    "duration": 159,
    "start_time": "2024-07-14T14:29:50.800Z"
   },
   {
    "duration": 284,
    "start_time": "2024-07-14T14:29:51.505Z"
   },
   {
    "duration": 9,
    "start_time": "2024-07-14T14:29:52.733Z"
   },
   {
    "duration": 5477,
    "start_time": "2024-07-14T14:29:54.812Z"
   },
   {
    "duration": 4,
    "start_time": "2024-07-14T14:30:07.218Z"
   },
   {
    "duration": 6,
    "start_time": "2024-07-14T14:30:07.737Z"
   },
   {
    "duration": 14,
    "start_time": "2024-07-14T14:30:11.073Z"
   },
   {
    "duration": 14,
    "start_time": "2024-07-14T14:30:11.974Z"
   },
   {
    "duration": 23,
    "start_time": "2024-07-14T14:30:13.726Z"
   },
   {
    "duration": 40,
    "start_time": "2024-07-14T14:30:14.494Z"
   },
   {
    "duration": 23,
    "start_time": "2024-07-14T14:30:15.562Z"
   },
   {
    "duration": 38,
    "start_time": "2024-07-14T14:30:16.362Z"
   },
   {
    "duration": 6,
    "start_time": "2024-07-14T14:30:17.955Z"
   },
   {
    "duration": 5,
    "start_time": "2024-07-14T14:30:19.674Z"
   },
   {
    "duration": 5,
    "start_time": "2024-07-14T14:30:41.748Z"
   },
   {
    "duration": 4,
    "start_time": "2024-07-14T14:30:43.082Z"
   },
   {
    "duration": 7,
    "start_time": "2024-07-14T14:30:43.882Z"
   },
   {
    "duration": 92,
    "start_time": "2024-07-14T14:30:47.297Z"
   },
   {
    "duration": 20,
    "start_time": "2024-07-14T14:30:53.731Z"
   },
   {
    "duration": 95,
    "start_time": "2024-07-14T14:30:59.015Z"
   },
   {
    "duration": 21,
    "start_time": "2024-07-14T14:30:59.885Z"
   },
   {
    "duration": 36,
    "start_time": "2024-07-14T14:31:05.627Z"
   },
   {
    "duration": 314,
    "start_time": "2024-07-14T15:21:32.020Z"
   },
   {
    "duration": 22,
    "start_time": "2024-07-14T15:21:32.500Z"
   },
   {
    "duration": 22,
    "start_time": "2024-07-14T15:21:32.791Z"
   },
   {
    "duration": 21,
    "start_time": "2024-07-14T15:21:33.116Z"
   },
   {
    "duration": 22,
    "start_time": "2024-07-14T15:21:33.319Z"
   },
   {
    "duration": 20,
    "start_time": "2024-07-14T15:21:33.507Z"
   },
   {
    "duration": 5129,
    "start_time": "2024-07-14T15:21:37.238Z"
   },
   {
    "duration": 88,
    "start_time": "2024-07-14T15:21:42.371Z"
   },
   {
    "duration": 6,
    "start_time": "2024-07-14T15:21:42.461Z"
   },
   {
    "duration": 39,
    "start_time": "2024-07-14T15:21:42.471Z"
   },
   {
    "duration": 17,
    "start_time": "2024-07-14T15:21:42.513Z"
   },
   {
    "duration": 5,
    "start_time": "2024-07-14T15:21:42.533Z"
   },
   {
    "duration": 17,
    "start_time": "2024-07-14T15:21:42.542Z"
   },
   {
    "duration": 48,
    "start_time": "2024-07-14T15:21:42.562Z"
   },
   {
    "duration": 40,
    "start_time": "2024-07-14T15:21:42.614Z"
   },
   {
    "duration": 241,
    "start_time": "2024-07-14T15:21:42.659Z"
   },
   {
    "duration": 161,
    "start_time": "2024-07-14T15:21:42.909Z"
   },
   {
    "duration": 167,
    "start_time": "2024-07-14T15:21:43.073Z"
   },
   {
    "duration": 167,
    "start_time": "2024-07-14T15:21:43.243Z"
   },
   {
    "duration": 295,
    "start_time": "2024-07-14T15:21:43.413Z"
   },
   {
    "duration": 8,
    "start_time": "2024-07-14T15:21:43.711Z"
   },
   {
    "duration": 5003,
    "start_time": "2024-07-14T15:21:43.724Z"
   },
   {
    "duration": 4,
    "start_time": "2024-07-14T15:21:48.731Z"
   },
   {
    "duration": 7,
    "start_time": "2024-07-14T15:21:48.738Z"
   },
   {
    "duration": 14,
    "start_time": "2024-07-14T15:21:48.750Z"
   },
   {
    "duration": 14,
    "start_time": "2024-07-14T15:21:48.767Z"
   },
   {
    "duration": 44,
    "start_time": "2024-07-14T15:21:48.784Z"
   },
   {
    "duration": 39,
    "start_time": "2024-07-14T15:21:48.831Z"
   },
   {
    "duration": 52,
    "start_time": "2024-07-14T15:21:48.873Z"
   },
   {
    "duration": 41,
    "start_time": "2024-07-14T15:21:48.928Z"
   },
   {
    "duration": 6,
    "start_time": "2024-07-14T15:21:49.144Z"
   },
   {
    "duration": 4,
    "start_time": "2024-07-14T15:21:51.151Z"
   },
   {
    "duration": 4,
    "start_time": "2024-07-14T15:21:51.587Z"
   },
   {
    "duration": 7,
    "start_time": "2024-07-14T15:21:52.003Z"
   },
   {
    "duration": 78,
    "start_time": "2024-07-14T15:21:53.031Z"
   },
   {
    "duration": 23,
    "start_time": "2024-07-14T15:21:54.125Z"
   },
   {
    "duration": 93,
    "start_time": "2024-07-14T15:21:55.226Z"
   },
   {
    "duration": 20,
    "start_time": "2024-07-14T15:21:56.042Z"
   },
   {
    "duration": 43,
    "start_time": "2024-07-14T15:21:57.418Z"
   },
   {
    "duration": 5150,
    "start_time": "2024-07-14T15:23:44.246Z"
   },
   {
    "duration": 76,
    "start_time": "2024-07-14T15:24:12.535Z"
   },
   {
    "duration": 5165,
    "start_time": "2024-07-14T15:24:13.220Z"
   },
   {
    "duration": 77,
    "start_time": "2024-07-14T15:24:22.835Z"
   },
   {
    "duration": 5123,
    "start_time": "2024-07-14T15:24:24.711Z"
   },
   {
    "duration": 5110,
    "start_time": "2024-07-14T15:24:46.452Z"
   },
   {
    "duration": 5224,
    "start_time": "2024-07-14T15:24:59.012Z"
   },
   {
    "duration": 22,
    "start_time": "2024-07-14T15:25:04.241Z"
   },
   {
    "duration": 17151,
    "start_time": "2024-07-14T15:25:30.382Z"
   },
   {
    "duration": 20,
    "start_time": "2024-07-14T15:25:47.536Z"
   },
   {
    "duration": 21,
    "start_time": "2024-07-14T15:26:07.549Z"
   },
   {
    "duration": 20,
    "start_time": "2024-07-14T15:26:17.028Z"
   },
   {
    "duration": 5242,
    "start_time": "2024-07-14T23:35:36.435Z"
   },
   {
    "duration": 16,
    "start_time": "2024-07-14T23:35:41.680Z"
   },
   {
    "duration": 5,
    "start_time": "2024-07-14T23:35:41.699Z"
   },
   {
    "duration": 18,
    "start_time": "2024-07-14T23:35:41.730Z"
   },
   {
    "duration": 20,
    "start_time": "2024-07-14T23:35:41.752Z"
   },
   {
    "duration": 7,
    "start_time": "2024-07-14T23:35:41.776Z"
   },
   {
    "duration": 16,
    "start_time": "2024-07-14T23:35:41.786Z"
   },
   {
    "duration": 4,
    "start_time": "2024-07-14T23:35:41.832Z"
   },
   {
    "duration": 34,
    "start_time": "2024-07-14T23:35:41.839Z"
   },
   {
    "duration": 255,
    "start_time": "2024-07-14T23:35:41.878Z"
   },
   {
    "duration": 175,
    "start_time": "2024-07-14T23:35:42.136Z"
   },
   {
    "duration": 166,
    "start_time": "2024-07-14T23:35:42.315Z"
   },
   {
    "duration": 248,
    "start_time": "2024-07-14T23:35:42.484Z"
   },
   {
    "duration": 306,
    "start_time": "2024-07-14T23:35:42.736Z"
   },
   {
    "duration": 10,
    "start_time": "2024-07-14T23:35:43.045Z"
   },
   {
    "duration": 4809,
    "start_time": "2024-07-14T23:35:44.086Z"
   },
   {
    "duration": 3,
    "start_time": "2024-07-14T23:35:59.532Z"
   },
   {
    "duration": 7,
    "start_time": "2024-07-14T23:35:59.969Z"
   },
   {
    "duration": 15,
    "start_time": "2024-07-14T23:36:01.311Z"
   },
   {
    "duration": 17,
    "start_time": "2024-07-14T23:36:01.976Z"
   },
   {
    "duration": 27,
    "start_time": "2024-07-14T23:36:06.459Z"
   },
   {
    "duration": 39,
    "start_time": "2024-07-14T23:36:07.669Z"
   },
   {
    "duration": 26,
    "start_time": "2024-07-14T23:36:09.031Z"
   },
   {
    "duration": 37,
    "start_time": "2024-07-14T23:36:11.429Z"
   },
   {
    "duration": 6,
    "start_time": "2024-07-14T23:36:13.073Z"
   },
   {
    "duration": 4,
    "start_time": "2024-07-14T23:36:15.320Z"
   },
   {
    "duration": 4,
    "start_time": "2024-07-14T23:36:15.796Z"
   },
   {
    "duration": 7,
    "start_time": "2024-07-14T23:36:16.405Z"
   },
   {
    "duration": 84,
    "start_time": "2024-07-14T23:36:17.281Z"
   },
   {
    "duration": 21,
    "start_time": "2024-07-14T23:36:18.022Z"
   },
   {
    "duration": 96,
    "start_time": "2024-07-14T23:36:19.028Z"
   },
   {
    "duration": 20,
    "start_time": "2024-07-14T23:36:19.419Z"
   },
   {
    "duration": 37,
    "start_time": "2024-07-14T23:36:20.273Z"
   },
   {
    "duration": 496,
    "start_time": "2024-07-14T23:37:47.196Z"
   },
   {
    "duration": 80,
    "start_time": "2024-07-14T23:38:04.547Z"
   },
   {
    "duration": 80,
    "start_time": "2024-07-14T23:38:14.792Z"
   },
   {
    "duration": 76,
    "start_time": "2024-07-14T23:38:23.792Z"
   },
   {
    "duration": 80,
    "start_time": "2024-07-14T23:38:27.476Z"
   },
   {
    "duration": 77,
    "start_time": "2024-07-14T23:38:30.919Z"
   },
   {
    "duration": 318,
    "start_time": "2024-07-14T23:40:22.330Z"
   },
   {
    "duration": 80,
    "start_time": "2024-07-14T23:41:07.063Z"
   },
   {
    "duration": 82,
    "start_time": "2024-07-14T23:41:42.410Z"
   },
   {
    "duration": 9,
    "start_time": "2024-07-14T23:43:15.852Z"
   },
   {
    "duration": 10,
    "start_time": "2024-07-14T23:43:19.347Z"
   },
   {
    "duration": 74,
    "start_time": "2024-07-14T23:43:25.768Z"
   },
   {
    "duration": 77,
    "start_time": "2024-07-14T23:43:29.291Z"
   },
   {
    "duration": 78,
    "start_time": "2024-07-14T23:43:32.468Z"
   },
   {
    "duration": 73,
    "start_time": "2024-07-14T23:43:35.458Z"
   },
   {
    "duration": 27,
    "start_time": "2024-07-14T23:44:27.322Z"
   },
   {
    "duration": 113,
    "start_time": "2024-07-14T23:45:02.439Z"
   },
   {
    "duration": 80,
    "start_time": "2024-07-14T23:45:22.143Z"
   },
   {
    "duration": 742,
    "start_time": "2024-07-14T23:45:32.201Z"
   },
   {
    "duration": 693,
    "start_time": "2024-07-14T23:45:49.109Z"
   },
   {
    "duration": 735,
    "start_time": "2024-07-14T23:45:54.299Z"
   },
   {
    "duration": 733,
    "start_time": "2024-07-14T23:47:22.520Z"
   },
   {
    "duration": 808,
    "start_time": "2024-07-14T23:47:36.356Z"
   },
   {
    "duration": 10,
    "start_time": "2024-07-14T23:49:51.410Z"
   },
   {
    "duration": 10,
    "start_time": "2024-07-14T23:50:08.802Z"
   },
   {
    "duration": 12,
    "start_time": "2024-07-14T23:50:43.542Z"
   },
   {
    "duration": 924,
    "start_time": "2024-07-14T23:51:08.194Z"
   },
   {
    "duration": 947,
    "start_time": "2024-07-14T23:51:47.744Z"
   },
   {
    "duration": 9,
    "start_time": "2024-07-14T23:52:40.580Z"
   },
   {
    "duration": 11,
    "start_time": "2024-07-14T23:52:59.254Z"
   },
   {
    "duration": 14,
    "start_time": "2024-07-14T23:53:34.420Z"
   },
   {
    "duration": 10,
    "start_time": "2024-07-14T23:53:53.482Z"
   },
   {
    "duration": 8,
    "start_time": "2024-07-14T23:54:05.369Z"
   },
   {
    "duration": 23,
    "start_time": "2024-07-14T23:55:49.736Z"
   },
   {
    "duration": 5,
    "start_time": "2024-07-14T23:56:10.336Z"
   },
   {
    "duration": 369,
    "start_time": "2024-07-14T23:56:16.565Z"
   },
   {
    "duration": 136,
    "start_time": "2024-07-14T23:56:50.852Z"
   },
   {
    "duration": 11,
    "start_time": "2024-07-14T23:56:57.819Z"
   },
   {
    "duration": 10,
    "start_time": "2024-07-14T23:57:09.130Z"
   },
   {
    "duration": 12,
    "start_time": "2024-07-14T23:57:10.011Z"
   },
   {
    "duration": 10,
    "start_time": "2024-07-14T23:57:33.810Z"
   },
   {
    "duration": 9,
    "start_time": "2024-07-14T23:58:23.536Z"
   },
   {
    "duration": 9,
    "start_time": "2024-07-14T23:58:35.971Z"
   },
   {
    "duration": 27,
    "start_time": "2024-07-15T00:01:39.600Z"
   },
   {
    "duration": 6,
    "start_time": "2024-07-15T00:01:44.340Z"
   },
   {
    "duration": 4,
    "start_time": "2024-07-15T00:01:44.988Z"
   },
   {
    "duration": 5,
    "start_time": "2024-07-15T00:01:45.423Z"
   },
   {
    "duration": 12,
    "start_time": "2024-07-15T00:01:46.000Z"
   },
   {
    "duration": 19,
    "start_time": "2024-07-15T00:01:54.046Z"
   },
   {
    "duration": 10,
    "start_time": "2024-07-15T00:02:06.778Z"
   },
   {
    "duration": 12,
    "start_time": "2024-07-15T00:02:34.225Z"
   },
   {
    "duration": 12,
    "start_time": "2024-07-15T00:02:37.082Z"
   },
   {
    "duration": 6,
    "start_time": "2024-07-15T00:09:03.327Z"
   },
   {
    "duration": 4,
    "start_time": "2024-07-15T00:09:03.830Z"
   },
   {
    "duration": 8,
    "start_time": "2024-07-15T00:09:04.510Z"
   },
   {
    "duration": 15,
    "start_time": "2024-07-15T00:09:04.910Z"
   },
   {
    "duration": 5,
    "start_time": "2024-07-15T00:09:05.860Z"
   },
   {
    "duration": 5,
    "start_time": "2024-07-15T00:09:07.590Z"
   },
   {
    "duration": 6,
    "start_time": "2024-07-15T00:09:08.010Z"
   },
   {
    "duration": 6,
    "start_time": "2024-07-15T00:09:08.463Z"
   },
   {
    "duration": 6,
    "start_time": "2024-07-15T00:09:08.840Z"
   },
   {
    "duration": 5,
    "start_time": "2024-07-15T00:09:09.862Z"
   },
   {
    "duration": 32,
    "start_time": "2024-07-15T00:25:15.653Z"
   },
   {
    "duration": 7,
    "start_time": "2024-07-15T00:25:18.990Z"
   },
   {
    "duration": 7,
    "start_time": "2024-07-15T00:25:19.243Z"
   },
   {
    "duration": 5,
    "start_time": "2024-07-15T00:25:19.497Z"
   },
   {
    "duration": 19,
    "start_time": "2024-07-15T00:25:20.162Z"
   },
   {
    "duration": 13,
    "start_time": "2024-07-15T00:25:20.407Z"
   },
   {
    "duration": 38,
    "start_time": "2024-07-15T00:25:33.889Z"
   },
   {
    "duration": 22,
    "start_time": "2024-07-15T00:25:42.024Z"
   },
   {
    "duration": 1558,
    "start_time": "2024-07-15T00:25:53.921Z"
   },
   {
    "duration": 11,
    "start_time": "2024-07-15T00:25:55.483Z"
   },
   {
    "duration": 5,
    "start_time": "2024-07-15T00:25:55.497Z"
   },
   {
    "duration": 36,
    "start_time": "2024-07-15T00:25:55.507Z"
   },
   {
    "duration": 15,
    "start_time": "2024-07-15T00:25:55.546Z"
   },
   {
    "duration": 5,
    "start_time": "2024-07-15T00:25:55.564Z"
   },
   {
    "duration": 14,
    "start_time": "2024-07-15T00:25:55.573Z"
   },
   {
    "duration": 4,
    "start_time": "2024-07-15T00:25:55.632Z"
   },
   {
    "duration": 44,
    "start_time": "2024-07-15T00:25:55.640Z"
   },
   {
    "duration": 221,
    "start_time": "2024-07-15T00:25:55.691Z"
   },
   {
    "duration": 162,
    "start_time": "2024-07-15T00:25:55.915Z"
   },
   {
    "duration": 158,
    "start_time": "2024-07-15T00:25:56.080Z"
   },
   {
    "duration": 171,
    "start_time": "2024-07-15T00:25:56.241Z"
   },
   {
    "duration": 295,
    "start_time": "2024-07-15T00:25:56.415Z"
   },
   {
    "duration": 21,
    "start_time": "2024-07-15T00:25:56.713Z"
   },
   {
    "duration": 4884,
    "start_time": "2024-07-15T00:25:56.739Z"
   },
   {
    "duration": 4,
    "start_time": "2024-07-15T00:26:01.627Z"
   },
   {
    "duration": 8,
    "start_time": "2024-07-15T00:26:01.633Z"
   },
   {
    "duration": 15,
    "start_time": "2024-07-15T00:26:01.645Z"
   },
   {
    "duration": 13,
    "start_time": "2024-07-15T00:26:01.663Z"
   },
   {
    "duration": 60,
    "start_time": "2024-07-15T00:26:01.679Z"
   },
   {
    "duration": 45,
    "start_time": "2024-07-15T00:26:01.742Z"
   },
   {
    "duration": 46,
    "start_time": "2024-07-15T00:26:01.790Z"
   },
   {
    "duration": 46,
    "start_time": "2024-07-15T00:26:01.840Z"
   },
   {
    "duration": 6,
    "start_time": "2024-07-15T00:26:01.889Z"
   },
   {
    "duration": 4,
    "start_time": "2024-07-15T00:26:01.930Z"
   },
   {
    "duration": 5,
    "start_time": "2024-07-15T00:26:01.937Z"
   },
   {
    "duration": 7,
    "start_time": "2024-07-15T00:26:01.951Z"
   },
   {
    "duration": 11,
    "start_time": "2024-07-15T00:26:01.961Z"
   },
   {
    "duration": 946,
    "start_time": "2024-07-15T00:26:01.974Z"
   },
   {
    "duration": 972,
    "start_time": "2024-07-15T00:26:02.923Z"
   },
   {
    "duration": 49,
    "start_time": "2024-07-15T00:26:03.898Z"
   },
   {
    "duration": 519,
    "start_time": "2024-07-15T00:26:03.950Z"
   },
   {
    "duration": 0,
    "start_time": "2024-07-15T00:26:04.472Z"
   },
   {
    "duration": 0,
    "start_time": "2024-07-15T00:26:04.474Z"
   },
   {
    "duration": 0,
    "start_time": "2024-07-15T00:26:04.477Z"
   },
   {
    "duration": 0,
    "start_time": "2024-07-15T00:26:04.480Z"
   },
   {
    "duration": 0,
    "start_time": "2024-07-15T00:26:04.482Z"
   },
   {
    "duration": 0,
    "start_time": "2024-07-15T00:26:04.483Z"
   },
   {
    "duration": 0,
    "start_time": "2024-07-15T00:26:04.486Z"
   },
   {
    "duration": 0,
    "start_time": "2024-07-15T00:26:04.488Z"
   },
   {
    "duration": 0,
    "start_time": "2024-07-15T00:26:04.490Z"
   },
   {
    "duration": 0,
    "start_time": "2024-07-15T00:26:04.492Z"
   },
   {
    "duration": 0,
    "start_time": "2024-07-15T00:26:04.494Z"
   },
   {
    "duration": 0,
    "start_time": "2024-07-15T00:26:04.495Z"
   },
   {
    "duration": 0,
    "start_time": "2024-07-15T00:26:04.533Z"
   },
   {
    "duration": 0,
    "start_time": "2024-07-15T00:26:04.536Z"
   },
   {
    "duration": 0,
    "start_time": "2024-07-15T00:26:04.538Z"
   },
   {
    "duration": 0,
    "start_time": "2024-07-15T00:26:04.540Z"
   },
   {
    "duration": 0,
    "start_time": "2024-07-15T00:26:04.543Z"
   },
   {
    "duration": 0,
    "start_time": "2024-07-15T00:26:04.546Z"
   },
   {
    "duration": 0,
    "start_time": "2024-07-15T00:26:04.549Z"
   },
   {
    "duration": 0,
    "start_time": "2024-07-15T00:26:04.551Z"
   },
   {
    "duration": 0,
    "start_time": "2024-07-15T00:26:04.554Z"
   },
   {
    "duration": 0,
    "start_time": "2024-07-15T00:26:04.555Z"
   },
   {
    "duration": 26,
    "start_time": "2024-07-15T00:26:38.033Z"
   },
   {
    "duration": 9,
    "start_time": "2024-07-15T00:26:53.963Z"
   },
   {
    "duration": 1029,
    "start_time": "2024-07-15T00:27:33.235Z"
   },
   {
    "duration": 37,
    "start_time": "2024-07-15T00:27:34.267Z"
   },
   {
    "duration": 6,
    "start_time": "2024-07-15T00:27:37.855Z"
   },
   {
    "duration": 4,
    "start_time": "2024-07-15T00:27:38.201Z"
   },
   {
    "duration": 5,
    "start_time": "2024-07-15T00:27:38.527Z"
   },
   {
    "duration": 16,
    "start_time": "2024-07-15T00:27:39.033Z"
   },
   {
    "duration": 11,
    "start_time": "2024-07-15T00:27:40.397Z"
   },
   {
    "duration": 5,
    "start_time": "2024-07-15T00:27:41.238Z"
   },
   {
    "duration": 4,
    "start_time": "2024-07-15T00:27:41.453Z"
   },
   {
    "duration": 5,
    "start_time": "2024-07-15T00:27:42.006Z"
   },
   {
    "duration": 7,
    "start_time": "2024-07-15T00:27:42.282Z"
   },
   {
    "duration": 5,
    "start_time": "2024-07-15T00:27:42.922Z"
   },
   {
    "duration": 11,
    "start_time": "2024-07-15T00:27:44.227Z"
   },
   {
    "duration": 7,
    "start_time": "2024-07-15T00:27:44.484Z"
   },
   {
    "duration": 6,
    "start_time": "2024-07-15T00:27:44.870Z"
   },
   {
    "duration": 5,
    "start_time": "2024-07-15T00:27:45.204Z"
   },
   {
    "duration": 1572,
    "start_time": "2024-07-15T00:32:12.293Z"
   },
   {
    "duration": 12,
    "start_time": "2024-07-15T00:32:13.868Z"
   },
   {
    "duration": 5,
    "start_time": "2024-07-15T00:32:13.882Z"
   },
   {
    "duration": 42,
    "start_time": "2024-07-15T00:32:13.893Z"
   },
   {
    "duration": 16,
    "start_time": "2024-07-15T00:32:13.939Z"
   },
   {
    "duration": 5,
    "start_time": "2024-07-15T00:32:13.958Z"
   },
   {
    "duration": 15,
    "start_time": "2024-07-15T00:32:13.966Z"
   },
   {
    "duration": 3,
    "start_time": "2024-07-15T00:32:13.984Z"
   },
   {
    "duration": 73,
    "start_time": "2024-07-15T00:32:13.990Z"
   },
   {
    "duration": 214,
    "start_time": "2024-07-15T00:32:14.069Z"
   },
   {
    "duration": 170,
    "start_time": "2024-07-15T00:32:14.285Z"
   },
   {
    "duration": 169,
    "start_time": "2024-07-15T00:32:14.458Z"
   },
   {
    "duration": 167,
    "start_time": "2024-07-15T00:32:14.635Z"
   },
   {
    "duration": 295,
    "start_time": "2024-07-15T00:32:14.805Z"
   },
   {
    "duration": 10,
    "start_time": "2024-07-15T00:32:15.103Z"
   },
   {
    "duration": 4919,
    "start_time": "2024-07-15T00:32:15.132Z"
   },
   {
    "duration": 4,
    "start_time": "2024-07-15T00:32:20.054Z"
   },
   {
    "duration": 8,
    "start_time": "2024-07-15T00:32:20.061Z"
   },
   {
    "duration": 14,
    "start_time": "2024-07-15T00:32:20.072Z"
   },
   {
    "duration": 41,
    "start_time": "2024-07-15T00:32:20.089Z"
   },
   {
    "duration": 23,
    "start_time": "2024-07-15T00:32:20.133Z"
   },
   {
    "duration": 40,
    "start_time": "2024-07-15T00:32:20.159Z"
   },
   {
    "duration": 27,
    "start_time": "2024-07-15T00:32:20.230Z"
   },
   {
    "duration": 42,
    "start_time": "2024-07-15T00:32:20.260Z"
   },
   {
    "duration": 27,
    "start_time": "2024-07-15T00:32:20.305Z"
   },
   {
    "duration": 6,
    "start_time": "2024-07-15T00:32:20.336Z"
   },
   {
    "duration": 5,
    "start_time": "2024-07-15T00:32:20.345Z"
   },
   {
    "duration": 7,
    "start_time": "2024-07-15T00:32:20.359Z"
   },
   {
    "duration": 10,
    "start_time": "2024-07-15T00:32:20.370Z"
   },
   {
    "duration": 1055,
    "start_time": "2024-07-15T00:32:20.429Z"
   },
   {
    "duration": 946,
    "start_time": "2024-07-15T00:32:21.487Z"
   },
   {
    "duration": 45,
    "start_time": "2024-07-15T00:32:22.438Z"
   },
   {
    "duration": 8,
    "start_time": "2024-07-15T00:32:22.487Z"
   },
   {
    "duration": 34,
    "start_time": "2024-07-15T00:32:22.499Z"
   },
   {
    "duration": 8,
    "start_time": "2024-07-15T00:32:22.536Z"
   },
   {
    "duration": 17,
    "start_time": "2024-07-15T00:32:22.547Z"
   },
   {
    "duration": 77,
    "start_time": "2024-07-15T00:32:22.567Z"
   },
   {
    "duration": 5,
    "start_time": "2024-07-15T00:32:22.647Z"
   },
   {
    "duration": 76,
    "start_time": "2024-07-15T00:32:22.655Z"
   },
   {
    "duration": 5,
    "start_time": "2024-07-15T00:32:22.733Z"
   },
   {
    "duration": 11,
    "start_time": "2024-07-15T00:32:22.743Z"
   },
   {
    "duration": 7,
    "start_time": "2024-07-15T00:32:22.757Z"
   },
   {
    "duration": 7,
    "start_time": "2024-07-15T00:32:22.832Z"
   },
   {
    "duration": 8,
    "start_time": "2024-07-15T00:32:22.842Z"
   },
   {
    "duration": 79,
    "start_time": "2024-07-15T00:32:22.853Z"
   },
   {
    "duration": 7,
    "start_time": "2024-07-15T00:32:22.935Z"
   },
   {
    "duration": 6,
    "start_time": "2024-07-15T00:32:22.945Z"
   },
   {
    "duration": 77,
    "start_time": "2024-07-15T00:32:22.954Z"
   },
   {
    "duration": 8,
    "start_time": "2024-07-15T00:32:23.034Z"
   },
   {
    "duration": 11,
    "start_time": "2024-07-15T00:32:23.046Z"
   },
   {
    "duration": 83,
    "start_time": "2024-07-15T00:32:23.060Z"
   },
   {
    "duration": 93,
    "start_time": "2024-07-15T00:32:23.147Z"
   },
   {
    "duration": 5209,
    "start_time": "2024-07-15T09:28:55.111Z"
   },
   {
    "duration": 22,
    "start_time": "2024-07-15T09:29:00.323Z"
   },
   {
    "duration": 6,
    "start_time": "2024-07-15T09:29:00.347Z"
   },
   {
    "duration": 18,
    "start_time": "2024-07-15T09:29:00.357Z"
   },
   {
    "duration": 45,
    "start_time": "2024-07-15T09:29:00.378Z"
   },
   {
    "duration": 7,
    "start_time": "2024-07-15T09:29:00.427Z"
   },
   {
    "duration": 34,
    "start_time": "2024-07-15T09:29:00.438Z"
   },
   {
    "duration": 9,
    "start_time": "2024-07-15T09:29:00.475Z"
   },
   {
    "duration": 45,
    "start_time": "2024-07-15T09:29:00.487Z"
   },
   {
    "duration": 211,
    "start_time": "2024-07-15T09:29:00.538Z"
   },
   {
    "duration": 173,
    "start_time": "2024-07-15T09:29:00.752Z"
   },
   {
    "duration": 244,
    "start_time": "2024-07-15T09:29:00.927Z"
   },
   {
    "duration": 176,
    "start_time": "2024-07-15T09:29:01.174Z"
   },
   {
    "duration": 292,
    "start_time": "2024-07-15T09:29:01.352Z"
   },
   {
    "duration": 9,
    "start_time": "2024-07-15T09:29:01.647Z"
   },
   {
    "duration": 5000,
    "start_time": "2024-07-15T09:29:01.659Z"
   },
   {
    "duration": 4,
    "start_time": "2024-07-15T09:29:06.663Z"
   },
   {
    "duration": 7,
    "start_time": "2024-07-15T09:29:06.670Z"
   },
   {
    "duration": 16,
    "start_time": "2024-07-15T09:29:06.680Z"
   },
   {
    "duration": 34,
    "start_time": "2024-07-15T09:29:06.698Z"
   },
   {
    "duration": 23,
    "start_time": "2024-07-15T09:29:06.738Z"
   },
   {
    "duration": 71,
    "start_time": "2024-07-15T09:29:06.764Z"
   },
   {
    "duration": 25,
    "start_time": "2024-07-15T09:29:06.838Z"
   },
   {
    "duration": 63,
    "start_time": "2024-07-15T09:29:06.866Z"
   },
   {
    "duration": 6,
    "start_time": "2024-07-15T09:29:06.932Z"
   },
   {
    "duration": 6,
    "start_time": "2024-07-15T09:29:06.941Z"
   },
   {
    "duration": 5,
    "start_time": "2024-07-15T09:29:06.950Z"
   },
   {
    "duration": 7,
    "start_time": "2024-07-15T09:29:07.090Z"
   },
   {
    "duration": 10,
    "start_time": "2024-07-15T09:29:09.154Z"
   },
   {
    "duration": 941,
    "start_time": "2024-07-15T09:29:09.920Z"
   },
   {
    "duration": 17,
    "start_time": "2024-07-15T09:29:26.804Z"
   },
   {
    "duration": 8,
    "start_time": "2024-07-15T09:29:55.327Z"
   },
   {
    "duration": 6,
    "start_time": "2024-07-15T09:30:03.497Z"
   },
   {
    "duration": 9,
    "start_time": "2024-07-15T09:30:55.468Z"
   },
   {
    "duration": 931,
    "start_time": "2024-07-15T09:30:56.184Z"
   },
   {
    "duration": 10,
    "start_time": "2024-07-15T09:31:22.460Z"
   },
   {
    "duration": 214,
    "start_time": "2024-07-15T09:31:22.859Z"
   },
   {
    "duration": 10,
    "start_time": "2024-07-15T09:31:53.307Z"
   },
   {
    "duration": 11,
    "start_time": "2024-07-15T09:32:01.511Z"
   },
   {
    "duration": 9,
    "start_time": "2024-07-15T09:32:11.367Z"
   },
   {
    "duration": 795,
    "start_time": "2024-07-15T09:32:12.102Z"
   },
   {
    "duration": 999,
    "start_time": "2024-07-15T09:32:30.807Z"
   },
   {
    "duration": 5370,
    "start_time": "2024-07-15T19:54:52.312Z"
   },
   {
    "duration": 13,
    "start_time": "2024-07-15T19:54:57.686Z"
   },
   {
    "duration": 5,
    "start_time": "2024-07-15T19:54:57.702Z"
   },
   {
    "duration": 32,
    "start_time": "2024-07-15T19:54:57.711Z"
   },
   {
    "duration": 18,
    "start_time": "2024-07-15T19:54:57.745Z"
   },
   {
    "duration": 6,
    "start_time": "2024-07-15T19:54:57.766Z"
   },
   {
    "duration": 55,
    "start_time": "2024-07-15T19:54:57.776Z"
   },
   {
    "duration": 4,
    "start_time": "2024-07-15T19:54:57.834Z"
   },
   {
    "duration": 44,
    "start_time": "2024-07-15T19:54:57.841Z"
   },
   {
    "duration": 250,
    "start_time": "2024-07-15T19:54:57.892Z"
   },
   {
    "duration": 226,
    "start_time": "2024-07-15T19:54:58.146Z"
   },
   {
    "duration": 162,
    "start_time": "2024-07-15T19:54:58.375Z"
   },
   {
    "duration": 174,
    "start_time": "2024-07-15T19:54:58.540Z"
   },
   {
    "duration": 308,
    "start_time": "2024-07-15T19:54:58.718Z"
   },
   {
    "duration": 17,
    "start_time": "2024-07-15T19:54:59.036Z"
   },
   {
    "duration": 5107,
    "start_time": "2024-07-15T19:54:59.056Z"
   },
   {
    "duration": 4,
    "start_time": "2024-07-15T19:55:04.167Z"
   },
   {
    "duration": 8,
    "start_time": "2024-07-15T19:55:04.174Z"
   },
   {
    "duration": 17,
    "start_time": "2024-07-15T19:55:04.184Z"
   },
   {
    "duration": 35,
    "start_time": "2024-07-15T19:55:04.204Z"
   },
   {
    "duration": 23,
    "start_time": "2024-07-15T19:55:04.242Z"
   },
   {
    "duration": 67,
    "start_time": "2024-07-15T19:55:04.268Z"
   },
   {
    "duration": 28,
    "start_time": "2024-07-15T19:55:04.338Z"
   },
   {
    "duration": 64,
    "start_time": "2024-07-15T19:55:04.368Z"
   },
   {
    "duration": 7,
    "start_time": "2024-07-15T19:55:04.434Z"
   },
   {
    "duration": 6,
    "start_time": "2024-07-15T19:55:04.444Z"
   },
   {
    "duration": 5,
    "start_time": "2024-07-15T19:55:04.453Z"
   },
   {
    "duration": 7,
    "start_time": "2024-07-15T19:55:04.466Z"
   },
   {
    "duration": 54,
    "start_time": "2024-07-15T19:55:04.476Z"
   },
   {
    "duration": 973,
    "start_time": "2024-07-15T19:55:04.534Z"
   },
   {
    "duration": 974,
    "start_time": "2024-07-15T19:55:09.941Z"
   },
   {
    "duration": 51,
    "start_time": "2024-07-15T19:55:14.682Z"
   },
   {
    "duration": 1002,
    "start_time": "2024-07-15T19:57:57.306Z"
   },
   {
    "duration": 991,
    "start_time": "2024-07-15T19:58:31.344Z"
   },
   {
    "duration": 1279,
    "start_time": "2024-07-15T19:58:46.225Z"
   },
   {
    "duration": 1098,
    "start_time": "2024-07-15T19:59:37.460Z"
   },
   {
    "duration": 10,
    "start_time": "2024-07-15T19:59:51.041Z"
   },
   {
    "duration": 11,
    "start_time": "2024-07-15T19:59:56.824Z"
   },
   {
    "duration": 901,
    "start_time": "2024-07-15T19:59:57.529Z"
   },
   {
    "duration": 5252,
    "start_time": "2024-07-15T22:20:54.399Z"
   },
   {
    "duration": 21,
    "start_time": "2024-07-15T22:20:59.656Z"
   },
   {
    "duration": 6,
    "start_time": "2024-07-15T22:20:59.680Z"
   },
   {
    "duration": 33,
    "start_time": "2024-07-15T22:20:59.692Z"
   },
   {
    "duration": 19,
    "start_time": "2024-07-15T22:20:59.729Z"
   },
   {
    "duration": 5,
    "start_time": "2024-07-15T22:20:59.753Z"
   },
   {
    "duration": 14,
    "start_time": "2024-07-15T22:20:59.762Z"
   },
   {
    "duration": 44,
    "start_time": "2024-07-15T22:20:59.779Z"
   },
   {
    "duration": 37,
    "start_time": "2024-07-15T22:20:59.827Z"
   },
   {
    "duration": 241,
    "start_time": "2024-07-15T22:20:59.870Z"
   },
   {
    "duration": 183,
    "start_time": "2024-07-15T22:21:00.123Z"
   },
   {
    "duration": 176,
    "start_time": "2024-07-15T22:21:00.309Z"
   },
   {
    "duration": 237,
    "start_time": "2024-07-15T22:21:00.488Z"
   },
   {
    "duration": 297,
    "start_time": "2024-07-15T22:21:00.729Z"
   },
   {
    "duration": 9,
    "start_time": "2024-07-15T22:21:01.030Z"
   },
   {
    "duration": 5319,
    "start_time": "2024-07-15T22:21:01.797Z"
   },
   {
    "duration": 4,
    "start_time": "2024-07-15T22:21:07.120Z"
   },
   {
    "duration": 8,
    "start_time": "2024-07-15T22:21:07.127Z"
   },
   {
    "duration": 15,
    "start_time": "2024-07-15T22:21:07.140Z"
   },
   {
    "duration": 14,
    "start_time": "2024-07-15T22:21:07.158Z"
   },
   {
    "duration": 64,
    "start_time": "2024-07-15T22:21:07.176Z"
   },
   {
    "duration": 40,
    "start_time": "2024-07-15T22:21:07.242Z"
   },
   {
    "duration": 51,
    "start_time": "2024-07-15T22:21:07.286Z"
   },
   {
    "duration": 39,
    "start_time": "2024-07-15T22:21:08.152Z"
   },
   {
    "duration": 7,
    "start_time": "2024-07-15T22:21:09.386Z"
   },
   {
    "duration": 4,
    "start_time": "2024-07-15T22:21:10.892Z"
   },
   {
    "duration": 4,
    "start_time": "2024-07-15T22:21:11.200Z"
   },
   {
    "duration": 7,
    "start_time": "2024-07-15T22:21:11.557Z"
   },
   {
    "duration": 12,
    "start_time": "2024-07-15T22:21:12.356Z"
   },
   {
    "duration": 935,
    "start_time": "2024-07-15T22:21:13.194Z"
   },
   {
    "duration": 1118,
    "start_time": "2024-07-15T22:21:20.734Z"
   },
   {
    "duration": 40,
    "start_time": "2024-07-15T22:21:27.093Z"
   },
   {
    "duration": 10,
    "start_time": "2024-07-15T22:23:14.585Z"
   },
   {
    "duration": 9,
    "start_time": "2024-07-15T22:23:23.218Z"
   },
   {
    "duration": 976,
    "start_time": "2024-07-15T22:23:23.711Z"
   },
   {
    "duration": 924,
    "start_time": "2024-07-15T22:23:31.244Z"
   },
   {
    "duration": 569,
    "start_time": "2024-07-15T22:23:44.966Z"
   },
   {
    "duration": 964,
    "start_time": "2024-07-15T22:23:53.481Z"
   },
   {
    "duration": 990,
    "start_time": "2024-07-15T22:23:56.147Z"
   },
   {
    "duration": 955,
    "start_time": "2024-07-15T22:23:58.451Z"
   },
   {
    "duration": 40,
    "start_time": "2024-07-15T22:29:35.735Z"
   },
   {
    "duration": 8,
    "start_time": "2024-07-15T22:29:39.652Z"
   },
   {
    "duration": 5,
    "start_time": "2024-07-15T22:29:40.250Z"
   },
   {
    "duration": 8,
    "start_time": "2024-07-15T22:29:40.645Z"
   },
   {
    "duration": 16,
    "start_time": "2024-07-15T22:29:41.114Z"
   },
   {
    "duration": 15,
    "start_time": "2024-07-15T22:29:43.484Z"
   },
   {
    "duration": 5,
    "start_time": "2024-07-15T22:29:45.305Z"
   },
   {
    "duration": 4,
    "start_time": "2024-07-15T22:29:45.642Z"
   },
   {
    "duration": 5,
    "start_time": "2024-07-15T22:29:46.393Z"
   },
   {
    "duration": 6,
    "start_time": "2024-07-15T22:29:46.768Z"
   },
   {
    "duration": 5,
    "start_time": "2024-07-15T22:29:47.504Z"
   },
   {
    "duration": 6,
    "start_time": "2024-07-15T22:29:49.060Z"
   },
   {
    "duration": 6,
    "start_time": "2024-07-15T22:29:49.457Z"
   },
   {
    "duration": 6,
    "start_time": "2024-07-15T22:29:49.809Z"
   },
   {
    "duration": 7,
    "start_time": "2024-07-15T22:29:50.192Z"
   },
   {
    "duration": 6,
    "start_time": "2024-07-15T22:29:50.870Z"
   },
   {
    "duration": 5,
    "start_time": "2024-07-15T22:58:06.609Z"
   },
   {
    "duration": 8,
    "start_time": "2024-07-15T22:58:06.939Z"
   },
   {
    "duration": 6,
    "start_time": "2024-07-15T22:58:07.261Z"
   },
   {
    "duration": 12,
    "start_time": "2024-07-15T22:58:07.669Z"
   },
   {
    "duration": 13,
    "start_time": "2024-07-15T22:58:08.357Z"
   },
   {
    "duration": 13,
    "start_time": "2024-07-16T07:42:02.709Z"
   },
   {
    "duration": 5,
    "start_time": "2024-07-16T07:42:10.244Z"
   },
   {
    "duration": 348,
    "start_time": "2024-07-16T22:26:07.473Z"
   },
   {
    "duration": 5767,
    "start_time": "2024-07-16T22:26:15.754Z"
   },
   {
    "duration": 17,
    "start_time": "2024-07-16T22:26:21.525Z"
   },
   {
    "duration": 6,
    "start_time": "2024-07-16T22:26:21.545Z"
   },
   {
    "duration": 22,
    "start_time": "2024-07-16T22:26:21.554Z"
   },
   {
    "duration": 16,
    "start_time": "2024-07-16T22:26:21.606Z"
   },
   {
    "duration": 6,
    "start_time": "2024-07-16T22:26:21.625Z"
   },
   {
    "duration": 17,
    "start_time": "2024-07-16T22:26:21.636Z"
   },
   {
    "duration": 4,
    "start_time": "2024-07-16T22:26:21.701Z"
   },
   {
    "duration": 51,
    "start_time": "2024-07-16T22:26:21.710Z"
   },
   {
    "duration": 213,
    "start_time": "2024-07-16T22:26:21.805Z"
   },
   {
    "duration": 314,
    "start_time": "2024-07-16T22:26:22.021Z"
   },
   {
    "duration": 184,
    "start_time": "2024-07-16T22:26:22.339Z"
   },
   {
    "duration": 195,
    "start_time": "2024-07-16T22:26:22.527Z"
   },
   {
    "duration": 315,
    "start_time": "2024-07-16T22:26:22.732Z"
   },
   {
    "duration": 11,
    "start_time": "2024-07-16T22:26:23.050Z"
   },
   {
    "duration": 6026,
    "start_time": "2024-07-16T22:26:23.065Z"
   },
   {
    "duration": 4,
    "start_time": "2024-07-16T22:26:29.094Z"
   },
   {
    "duration": 9,
    "start_time": "2024-07-16T22:26:29.101Z"
   },
   {
    "duration": 16,
    "start_time": "2024-07-16T22:26:29.113Z"
   },
   {
    "duration": 16,
    "start_time": "2024-07-16T22:26:29.132Z"
   },
   {
    "duration": 63,
    "start_time": "2024-07-16T22:26:29.151Z"
   },
   {
    "duration": 48,
    "start_time": "2024-07-16T22:26:29.217Z"
   },
   {
    "duration": 51,
    "start_time": "2024-07-16T22:26:29.268Z"
   },
   {
    "duration": 40,
    "start_time": "2024-07-16T22:26:29.322Z"
   },
   {
    "duration": 37,
    "start_time": "2024-07-16T22:26:29.365Z"
   },
   {
    "duration": 7,
    "start_time": "2024-07-16T22:26:29.405Z"
   },
   {
    "duration": 5,
    "start_time": "2024-07-16T22:26:29.415Z"
   },
   {
    "duration": 9,
    "start_time": "2024-07-16T22:26:29.423Z"
   },
   {
    "duration": 12,
    "start_time": "2024-07-16T22:26:29.436Z"
   },
   {
    "duration": 1134,
    "start_time": "2024-07-16T22:26:29.454Z"
   },
   {
    "duration": 978,
    "start_time": "2024-07-16T22:26:30.601Z"
   },
   {
    "duration": 69,
    "start_time": "2024-07-16T22:26:31.585Z"
   },
   {
    "duration": 9,
    "start_time": "2024-07-16T22:26:31.658Z"
   },
   {
    "duration": 8,
    "start_time": "2024-07-16T22:26:31.702Z"
   },
   {
    "duration": 7,
    "start_time": "2024-07-16T22:26:31.714Z"
   },
   {
    "duration": 23,
    "start_time": "2024-07-16T22:26:31.724Z"
   },
   {
    "duration": 56,
    "start_time": "2024-07-16T22:26:31.752Z"
   },
   {
    "duration": 6,
    "start_time": "2024-07-16T22:26:31.812Z"
   },
   {
    "duration": 5,
    "start_time": "2024-07-16T22:26:31.821Z"
   },
   {
    "duration": 72,
    "start_time": "2024-07-16T22:26:31.830Z"
   },
   {
    "duration": 7,
    "start_time": "2024-07-16T22:26:31.913Z"
   },
   {
    "duration": 7,
    "start_time": "2024-07-16T22:26:31.924Z"
   },
   {
    "duration": 5,
    "start_time": "2024-07-16T22:26:32.003Z"
   },
   {
    "duration": 12,
    "start_time": "2024-07-16T22:26:32.010Z"
   },
   {
    "duration": 82,
    "start_time": "2024-07-16T22:26:32.025Z"
   },
   {
    "duration": 9,
    "start_time": "2024-07-16T22:26:32.110Z"
   },
   {
    "duration": 10,
    "start_time": "2024-07-16T22:26:32.122Z"
   },
   {
    "duration": 5,
    "start_time": "2024-07-16T22:26:32.203Z"
   },
   {
    "duration": 10,
    "start_time": "2024-07-16T22:26:32.211Z"
   },
   {
    "duration": 5,
    "start_time": "2024-07-16T22:26:32.223Z"
   },
   {
    "duration": 74,
    "start_time": "2024-07-16T22:26:32.230Z"
   },
   {
    "duration": 24,
    "start_time": "2024-07-16T22:26:32.306Z"
   },
   {
    "duration": 14,
    "start_time": "2024-07-17T08:41:10.074Z"
   },
   {
    "duration": 5087,
    "start_time": "2024-07-17T23:53:50.607Z"
   },
   {
    "duration": 20,
    "start_time": "2024-07-17T23:53:55.698Z"
   },
   {
    "duration": 6,
    "start_time": "2024-07-17T23:53:55.720Z"
   },
   {
    "duration": 18,
    "start_time": "2024-07-17T23:53:55.733Z"
   },
   {
    "duration": 17,
    "start_time": "2024-07-17T23:53:55.754Z"
   },
   {
    "duration": 5,
    "start_time": "2024-07-17T23:53:55.774Z"
   },
   {
    "duration": 57,
    "start_time": "2024-07-17T23:53:55.783Z"
   },
   {
    "duration": 3,
    "start_time": "2024-07-17T23:53:55.846Z"
   },
   {
    "duration": 40,
    "start_time": "2024-07-17T23:53:55.852Z"
   },
   {
    "duration": 227,
    "start_time": "2024-07-17T23:53:55.897Z"
   },
   {
    "duration": 163,
    "start_time": "2024-07-17T23:53:56.127Z"
   },
   {
    "duration": 230,
    "start_time": "2024-07-17T23:53:56.293Z"
   },
   {
    "duration": 167,
    "start_time": "2024-07-17T23:53:56.529Z"
   },
   {
    "duration": 290,
    "start_time": "2024-07-17T23:53:56.699Z"
   },
   {
    "duration": 9,
    "start_time": "2024-07-17T23:53:56.993Z"
   },
   {
    "duration": 4941,
    "start_time": "2024-07-17T23:53:57.006Z"
   },
   {
    "duration": 4,
    "start_time": "2024-07-17T23:54:01.950Z"
   },
   {
    "duration": 8,
    "start_time": "2024-07-17T23:54:01.957Z"
   },
   {
    "duration": 14,
    "start_time": "2024-07-17T23:54:01.968Z"
   },
   {
    "duration": 16,
    "start_time": "2024-07-17T23:54:01.985Z"
   },
   {
    "duration": 31,
    "start_time": "2024-07-17T23:54:02.033Z"
   },
   {
    "duration": 38,
    "start_time": "2024-07-17T23:54:02.067Z"
   },
   {
    "duration": 26,
    "start_time": "2024-07-17T23:54:02.132Z"
   },
   {
    "duration": 38,
    "start_time": "2024-07-17T23:54:02.161Z"
   },
   {
    "duration": 35,
    "start_time": "2024-07-17T23:54:02.202Z"
   },
   {
    "duration": 5,
    "start_time": "2024-07-17T23:54:02.241Z"
   },
   {
    "duration": 5,
    "start_time": "2024-07-17T23:54:02.251Z"
   },
   {
    "duration": 6,
    "start_time": "2024-07-17T23:54:02.264Z"
   },
   {
    "duration": 11,
    "start_time": "2024-07-17T23:54:02.273Z"
   },
   {
    "duration": 905,
    "start_time": "2024-07-17T23:54:02.287Z"
   },
   {
    "duration": 1059,
    "start_time": "2024-07-17T23:54:03.196Z"
   },
   {
    "duration": 37,
    "start_time": "2024-07-17T23:54:04.258Z"
   },
   {
    "duration": 7,
    "start_time": "2024-07-17T23:54:04.330Z"
   },
   {
    "duration": 4,
    "start_time": "2024-07-17T23:54:04.341Z"
   },
   {
    "duration": 7,
    "start_time": "2024-07-17T23:54:04.348Z"
   },
   {
    "duration": 72,
    "start_time": "2024-07-17T23:54:04.358Z"
   },
   {
    "duration": 19,
    "start_time": "2024-07-17T23:54:04.434Z"
   },
   {
    "duration": 77,
    "start_time": "2024-07-17T23:54:04.457Z"
   },
   {
    "duration": 4,
    "start_time": "2024-07-17T23:54:04.537Z"
   },
   {
    "duration": 5,
    "start_time": "2024-07-17T23:54:04.545Z"
   },
   {
    "duration": 83,
    "start_time": "2024-07-17T23:54:04.553Z"
   },
   {
    "duration": 9,
    "start_time": "2024-07-17T23:54:04.641Z"
   },
   {
    "duration": 79,
    "start_time": "2024-07-17T23:54:04.653Z"
   },
   {
    "duration": 11,
    "start_time": "2024-07-17T23:54:04.738Z"
   },
   {
    "duration": 85,
    "start_time": "2024-07-17T23:54:04.755Z"
   },
   {
    "duration": 7,
    "start_time": "2024-07-17T23:54:04.843Z"
   },
   {
    "duration": 78,
    "start_time": "2024-07-17T23:54:04.853Z"
   },
   {
    "duration": 6,
    "start_time": "2024-07-17T23:54:04.935Z"
   },
   {
    "duration": 7,
    "start_time": "2024-07-17T23:54:04.944Z"
   },
   {
    "duration": 8,
    "start_time": "2024-07-17T23:54:04.955Z"
   },
   {
    "duration": 72,
    "start_time": "2024-07-17T23:54:04.966Z"
   },
   {
    "duration": 94,
    "start_time": "2024-07-17T23:54:05.040Z"
   }
  ],
  "kernelspec": {
   "display_name": "Python 3 (ipykernel)",
   "language": "python",
   "name": "python3"
  },
  "language_info": {
   "codemirror_mode": {
    "name": "ipython",
    "version": 3
   },
   "file_extension": ".py",
   "mimetype": "text/x-python",
   "name": "python",
   "nbconvert_exporter": "python",
   "pygments_lexer": "ipython3",
   "version": "3.9.19"
  },
  "toc": {
   "base_numbering": 1,
   "nav_menu": {},
   "number_sections": true,
   "sideBar": true,
   "skip_h1_title": true,
   "title_cell": "Table of Contents",
   "title_sidebar": "Contents",
   "toc_cell": false,
   "toc_position": {},
   "toc_section_display": true,
   "toc_window_display": false
  }
 },
 "nbformat": 4,
 "nbformat_minor": 4
}
